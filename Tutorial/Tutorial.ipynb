{
 "cells": [
  {
   "cell_type": "markdown",
   "metadata": {},
   "source": [
    "## Neural networks\n",
    "## Tutorial for implementing *KerasNN* class"
   ]
  },
  {
   "cell_type": "markdown",
   "metadata": {},
   "source": [
    "When applying Tensorflow and Keras to strengthen the understanding of how neural networks operate, a class was developed to instantiate models based on Keras API of Tensorflow models. Its use is pretty straightforward, since it requires only the definition of the architecture and main hyper-parameters of the neural network. This simplifies even further the construction of Tensorflow/Keras models.\n",
    "<br>\n",
    "<br>\n",
    "All estimations have no intention of being as efficient as possibile, but focus on illustrating how this class can be used in real-world applications."
   ]
  },
  {
   "cell_type": "markdown",
   "metadata": {},
   "source": [
    "--------"
   ]
  },
  {
   "cell_type": "markdown",
   "metadata": {},
   "source": [
    "This notebook imports the developed class in addition to presenting a data pre-processing pipeline that seeks to assess its functionalities by fitting a feedforward neural network to a binary classification problem."
   ]
  },
  {
   "cell_type": "markdown",
   "metadata": {},
   "source": [
    "**Summary:**\n",
    "1. [Libraries](#libraries)<a href='#libraries'></a>.\n",
    "2. [Functions and classes](#functions_classes)<a href='#functions_classes'></a>.\n",
    "3. [Settings](#settings)<a href='#settings'></a>.\n",
    "4. [Importing datasets](#imports)<a href='#imports'></a>.\n",
    "5. [Data pre-processing](#data_pre_proc)<a href='#data_pre_proc'></a>.\n",
    "6. [Feedforward neural network](#feedforward_nn)<a href='#feedforward_nn'></a>.\n",
    "    * [Settings](#nn_settings)<a href='#nn_settings'></a>.\n",
    "    * [Model fitting](#model_fitting)<a href='#model_fitting'></a>."
   ]
  },
  {
   "cell_type": "markdown",
   "metadata": {},
   "source": [
    "<a id='libraries'></a>"
   ]
  },
  {
   "cell_type": "markdown",
   "metadata": {},
   "source": [
    "## Libraries"
   ]
  },
  {
   "cell_type": "code",
   "execution_count": 1,
   "metadata": {},
   "outputs": [
    {
     "data": {
      "text/html": [
       "        <script type=\"text/javascript\">\n",
       "        window.PlotlyConfig = {MathJaxConfig: 'local'};\n",
       "        if (window.MathJax) {MathJax.Hub.Config({SVG: {font: \"STIX-Web\"}});}\n",
       "        if (typeof require !== 'undefined') {\n",
       "        require.undef(\"plotly\");\n",
       "        requirejs.config({\n",
       "            paths: {\n",
       "                'plotly': ['https://cdn.plot.ly/plotly-latest.min']\n",
       "            }\n",
       "        });\n",
       "        require(['plotly'], function(Plotly) {\n",
       "            window._Plotly = Plotly;\n",
       "        });\n",
       "        }\n",
       "        </script>\n",
       "        "
      ]
     },
     "metadata": {},
     "output_type": "display_data"
    },
    {
     "data": {
      "text/html": [
       "        <script type=\"text/javascript\">\n",
       "        window.PlotlyConfig = {MathJaxConfig: 'local'};\n",
       "        if (window.MathJax) {MathJax.Hub.Config({SVG: {font: \"STIX-Web\"}});}\n",
       "        if (typeof require !== 'undefined') {\n",
       "        require.undef(\"plotly\");\n",
       "        requirejs.config({\n",
       "            paths: {\n",
       "                'plotly': ['https://cdn.plot.ly/plotly-latest.min']\n",
       "            }\n",
       "        });\n",
       "        require(['plotly'], function(Plotly) {\n",
       "            window._Plotly = Plotly;\n",
       "        });\n",
       "        }\n",
       "        </script>\n",
       "        "
      ]
     },
     "metadata": {},
     "output_type": "display_data"
    }
   ],
   "source": [
    "import pandas as pd\n",
    "import numpy as np\n",
    "import json\n",
    "import os\n",
    "\n",
    "from datetime import datetime\n",
    "import time\n",
    "import progressbar\n",
    "\n",
    "from sklearn.metrics import roc_auc_score, average_precision_score, auc, precision_recall_curve, brier_score_loss\n",
    "\n",
    "from plotly import __version__\n",
    "from plotly.offline import download_plotlyjs, init_notebook_mode, plot, iplot\n",
    "\n",
    "import cufflinks as cf\n",
    "init_notebook_mode(connected=True)\n",
    "cf.go_offline()\n",
    "\n",
    "import plotly.express as px\n",
    "import plotly.graph_objects as go\n",
    "from plotly.subplots import make_subplots"
   ]
  },
  {
   "cell_type": "markdown",
   "metadata": {},
   "source": [
    "<a id='functions_classes'></a>"
   ]
  },
  {
   "cell_type": "markdown",
   "metadata": {},
   "source": [
    "## Functions and classes"
   ]
  },
  {
   "cell_type": "code",
   "execution_count": 2,
   "metadata": {},
   "outputs": [],
   "source": [
    "import utils\n",
    "from utils import loading_data, classify_features, assessing_missings\n",
    "from utils import data_consistency, running_time, missings_detection, frequency_list"
   ]
  },
  {
   "cell_type": "code",
   "execution_count": 3,
   "metadata": {},
   "outputs": [],
   "source": [
    "import transformations\n",
    "from transformations import log_transformation, standard_scale, impute_missing, one_hot_encoding\n",
    "from transformations import applying_log_transf, applying_standard_scale, treating_missings, applying_one_hot"
   ]
  },
  {
   "cell_type": "code",
   "execution_count": 4,
   "metadata": {},
   "outputs": [],
   "source": [
    "import keras_nn\n",
    "from keras_nn import KerasNN, PerformanceHistory, EarlyStoppingROC"
   ]
  },
  {
   "cell_type": "markdown",
   "metadata": {},
   "source": [
    "<a id='settings'></a>"
   ]
  },
  {
   "cell_type": "markdown",
   "metadata": {},
   "source": [
    "## Settings"
   ]
  },
  {
   "cell_type": "code",
   "execution_count": 5,
   "metadata": {},
   "outputs": [],
   "source": [
    "# Declare whether to export results:\n",
    "export = True\n",
    "\n",
    "# Declare whether to log-transform numerical features:\n",
    "log_transform = True\n",
    "\n",
    "# Declare whether to standardize numerical features:\n",
    "standardize = True\n",
    "\n",
    "# Define the dataset_id:\n",
    "dataset_id = 2706"
   ]
  },
  {
   "cell_type": "markdown",
   "metadata": {},
   "source": [
    "<a id='imports'></a>"
   ]
  },
  {
   "cell_type": "markdown",
   "metadata": {},
   "source": [
    "## Importing datasets"
   ]
  },
  {
   "cell_type": "markdown",
   "metadata": {},
   "source": [
    "<a id='feats_label'></a>"
   ]
  },
  {
   "cell_type": "markdown",
   "metadata": {},
   "source": [
    "### Features and label"
   ]
  },
  {
   "cell_type": "code",
   "execution_count": 6,
   "metadata": {},
   "outputs": [
    {
     "name": "stdout",
     "output_type": "stream",
     "text": [
      "----------------------------------------\n",
      "\u001b[1mStore 2706:\u001b[0m\n",
      "Shape of df: (14434, 2628).\n",
      "Number of distinct instances: 14434.\n",
      "Time period: from 2020-12-31 to 2021-03-31.\n",
      "----------------------------------------\n",
      "\n",
      "\n"
     ]
    },
    {
     "data": {
      "text/html": [
       "<div>\n",
       "<style scoped>\n",
       "    .dataframe tbody tr th:only-of-type {\n",
       "        vertical-align: middle;\n",
       "    }\n",
       "\n",
       "    .dataframe tbody tr th {\n",
       "        vertical-align: top;\n",
       "    }\n",
       "\n",
       "    .dataframe thead th {\n",
       "        text-align: right;\n",
       "    }\n",
       "</style>\n",
       "<table border=\"1\" class=\"dataframe\">\n",
       "  <thead>\n",
       "    <tr style=\"text-align: right;\">\n",
       "      <th></th>\n",
       "      <th>AVGITEMCREATIONTIME()</th>\n",
       "      <th>BILLINGADDRESSCHARRANDOMNESS()</th>\n",
       "      <th>BILLINGADDRESSCHARWORDMODELPROB()</th>\n",
       "      <th>BILLINGADDRESSRANDOMNESS()</th>\n",
       "      <th>BILLINGCITY()</th>\n",
       "      <th>BILLINGCOUNTRY()</th>\n",
       "      <th>BILLINGLARGEAREAREPUTATION()</th>\n",
       "      <th>BILLINGNAMECHARRANDOMNESS()</th>\n",
       "      <th>BILLINGNAMECHARWORDMODELPROB()</th>\n",
       "      <th>BILLINGNAMERANDOMNESS()</th>\n",
       "      <th>...</th>\n",
       "      <th>ZIPFIRST3REPUTATION()</th>\n",
       "      <th>ZIPFIRST5REPUTATION()</th>\n",
       "      <th>y</th>\n",
       "      <th>order_amount</th>\n",
       "      <th>order_id</th>\n",
       "      <th>status</th>\n",
       "      <th>epoch</th>\n",
       "      <th>store_id</th>\n",
       "      <th>weight</th>\n",
       "      <th>date</th>\n",
       "    </tr>\n",
       "  </thead>\n",
       "  <tbody>\n",
       "    <tr>\n",
       "      <td>0</td>\n",
       "      <td>NaN</td>\n",
       "      <td>0.255415</td>\n",
       "      <td>0.194991</td>\n",
       "      <td>9.357623e-14</td>\n",
       "      <td>Venustiano carranza</td>\n",
       "      <td>MX</td>\n",
       "      <td>NaN</td>\n",
       "      <td>0.983040</td>\n",
       "      <td>0.034951</td>\n",
       "      <td>7.736941e-01</td>\n",
       "      <td>...</td>\n",
       "      <td>0.061190</td>\n",
       "      <td>0.045009</td>\n",
       "      <td>0.0</td>\n",
       "      <td>1795.16</td>\n",
       "      <td>130874044224</td>\n",
       "      <td>APPROVED</td>\n",
       "      <td>1609459270000.0</td>\n",
       "      <td>2706</td>\n",
       "      <td>1.0</td>\n",
       "      <td>2020-12-31 21:01:10</td>\n",
       "    </tr>\n",
       "    <tr>\n",
       "      <td>1</td>\n",
       "      <td>NaN</td>\n",
       "      <td>0.299488</td>\n",
       "      <td>0.117108</td>\n",
       "      <td>9.357623e-14</td>\n",
       "      <td>Coacalco de berriozabal</td>\n",
       "      <td>MX</td>\n",
       "      <td>NaN</td>\n",
       "      <td>0.351049</td>\n",
       "      <td>0.097665</td>\n",
       "      <td>2.301321e-09</td>\n",
       "      <td>...</td>\n",
       "      <td>0.091155</td>\n",
       "      <td>0.078335</td>\n",
       "      <td>0.0</td>\n",
       "      <td>4092.23</td>\n",
       "      <td>130874049768</td>\n",
       "      <td>APPROVED</td>\n",
       "      <td>1609459766000.0</td>\n",
       "      <td>2706</td>\n",
       "      <td>1.0</td>\n",
       "      <td>2020-12-31 21:09:26</td>\n",
       "    </tr>\n",
       "    <tr>\n",
       "      <td>2</td>\n",
       "      <td>NaN</td>\n",
       "      <td>0.201846</td>\n",
       "      <td>0.204315</td>\n",
       "      <td>9.357623e-14</td>\n",
       "      <td>Hermosillo</td>\n",
       "      <td>MX</td>\n",
       "      <td>NaN</td>\n",
       "      <td>0.189533</td>\n",
       "      <td>0.180326</td>\n",
       "      <td>9.357623e-14</td>\n",
       "      <td>...</td>\n",
       "      <td>0.069444</td>\n",
       "      <td>0.118511</td>\n",
       "      <td>0.0</td>\n",
       "      <td>1871.40</td>\n",
       "      <td>130874053609</td>\n",
       "      <td>APPROVED</td>\n",
       "      <td>1609460116000.0</td>\n",
       "      <td>2706</td>\n",
       "      <td>1.0</td>\n",
       "      <td>2020-12-31 21:15:16</td>\n",
       "    </tr>\n",
       "  </tbody>\n",
       "</table>\n",
       "<p>3 rows × 2628 columns</p>\n",
       "</div>"
      ],
      "text/plain": [
       "   AVGITEMCREATIONTIME()  BILLINGADDRESSCHARRANDOMNESS()  \\\n",
       "0                    NaN                        0.255415   \n",
       "1                    NaN                        0.299488   \n",
       "2                    NaN                        0.201846   \n",
       "\n",
       "   BILLINGADDRESSCHARWORDMODELPROB()  BILLINGADDRESSRANDOMNESS()  \\\n",
       "0                           0.194991                9.357623e-14   \n",
       "1                           0.117108                9.357623e-14   \n",
       "2                           0.204315                9.357623e-14   \n",
       "\n",
       "             BILLINGCITY() BILLINGCOUNTRY()  BILLINGLARGEAREAREPUTATION()  \\\n",
       "0      Venustiano carranza               MX                           NaN   \n",
       "1  Coacalco de berriozabal               MX                           NaN   \n",
       "2               Hermosillo               MX                           NaN   \n",
       "\n",
       "   BILLINGNAMECHARRANDOMNESS()  BILLINGNAMECHARWORDMODELPROB()  \\\n",
       "0                     0.983040                        0.034951   \n",
       "1                     0.351049                        0.097665   \n",
       "2                     0.189533                        0.180326   \n",
       "\n",
       "   BILLINGNAMERANDOMNESS()  ...  ZIPFIRST3REPUTATION() ZIPFIRST5REPUTATION()  \\\n",
       "0             7.736941e-01  ...               0.061190              0.045009   \n",
       "1             2.301321e-09  ...               0.091155              0.078335   \n",
       "2             9.357623e-14  ...               0.069444              0.118511   \n",
       "\n",
       "     y  order_amount      order_id    status            epoch  store_id  \\\n",
       "0  0.0       1795.16  130874044224  APPROVED  1609459270000.0      2706   \n",
       "1  0.0       4092.23  130874049768  APPROVED  1609459766000.0      2706   \n",
       "2  0.0       1871.40  130874053609  APPROVED  1609460116000.0      2706   \n",
       "\n",
       "   weight                date  \n",
       "0     1.0 2020-12-31 21:01:10  \n",
       "1     1.0 2020-12-31 21:09:26  \n",
       "2     1.0 2020-12-31 21:15:16  \n",
       "\n",
       "[3 rows x 2628 columns]"
      ]
     },
     "execution_count": 6,
     "metadata": {},
     "output_type": "execute_result"
    }
   ],
   "source": [
    "print('----------------------------------------')\n",
    "print(f'\\033[1mStore {dataset_id}:\\033[0m')\n",
    "\n",
    "df_train = loading_data(path=f'../../data_pipeline/Datasets/dataset_{dataset_id}.csv',\n",
    "                        dtype={'order_id': str, 'store_id': int, 'epoch': str},\n",
    "                        id_var='order_id')\n",
    "\n",
    "print('----------------------------------------')\n",
    "print('\\n')\n",
    "\n",
    "# Accessory variables:\n",
    "drop_vars = ['y', 'order_amount', 'store_id', 'order_id', 'status', 'epoch', 'date', 'weight']\n",
    "\n",
    "df_train.head(3)"
   ]
  },
  {
   "cell_type": "markdown",
   "metadata": {},
   "source": [
    "#### Train-validation-test split"
   ]
  },
  {
   "cell_type": "code",
   "execution_count": 7,
   "metadata": {},
   "outputs": [],
   "source": [
    "df_train['train_val_test'] = 'test'\n",
    "df_train['train_val_test'].iloc[int(df_train.shape[0]/3): int((2*df_train.shape[0])/3)] = 'val'\n",
    "df_train['train_val_test'].iloc[:int(df_train.shape[0]/3)] = 'train'\n",
    "\n",
    "# Train-test split:\n",
    "df_test = df_train[df_train.train_val_test == 'test'].copy()\n",
    "df_val = df_train[df_train.train_val_test == 'val'].copy()\n",
    "df_train = df_train[df_train.train_val_test == 'train'].copy()\n",
    "\n",
    "# Resetting indices:\n",
    "df_train.reset_index(drop=True, inplace=True)\n",
    "df_val.reset_index(drop=True, inplace=True)\n",
    "df_test.reset_index(drop=True, inplace=True)\n",
    "\n",
    "drop_vars.append('train_val_test')"
   ]
  },
  {
   "cell_type": "markdown",
   "metadata": {},
   "source": [
    "<a id='classif_feat'></a>"
   ]
  },
  {
   "cell_type": "markdown",
   "metadata": {},
   "source": [
    "### Classifying features"
   ]
  },
  {
   "cell_type": "code",
   "execution_count": 8,
   "metadata": {},
   "outputs": [
    {
     "name": "stdout",
     "output_type": "stream",
     "text": [
      "\u001b[1mDataset 2706:\u001b[0m\n",
      "Initial number of features: 2620.\n",
      "1377 features were dropped for excessive number of missings!\n",
      "303 features were dropped for having no variance!\n",
      "940 remaining features.\n",
      "\n",
      "\n"
     ]
    },
    {
     "data": {
      "text/html": [
       "<div>\n",
       "<style scoped>\n",
       "    .dataframe tbody tr th:only-of-type {\n",
       "        vertical-align: middle;\n",
       "    }\n",
       "\n",
       "    .dataframe tbody tr th {\n",
       "        vertical-align: top;\n",
       "    }\n",
       "\n",
       "    .dataframe thead th {\n",
       "        text-align: right;\n",
       "    }\n",
       "</style>\n",
       "<table border=\"1\" class=\"dataframe\">\n",
       "  <thead>\n",
       "    <tr style=\"text-align: right;\">\n",
       "      <th></th>\n",
       "      <th>class</th>\n",
       "      <th>frequency</th>\n",
       "    </tr>\n",
       "  </thead>\n",
       "  <tbody>\n",
       "    <tr>\n",
       "      <td>2</td>\n",
       "      <td>cont_vars</td>\n",
       "      <td>912</td>\n",
       "    </tr>\n",
       "    <tr>\n",
       "      <td>0</td>\n",
       "      <td>cat_vars</td>\n",
       "      <td>14</td>\n",
       "    </tr>\n",
       "    <tr>\n",
       "      <td>1</td>\n",
       "      <td>binary_vars</td>\n",
       "      <td>14</td>\n",
       "    </tr>\n",
       "    <tr>\n",
       "      <td>3</td>\n",
       "      <td>drop_vars</td>\n",
       "      <td>9</td>\n",
       "    </tr>\n",
       "  </tbody>\n",
       "</table>\n",
       "</div>"
      ],
      "text/plain": [
       "         class  frequency\n",
       "2    cont_vars        912\n",
       "0     cat_vars         14\n",
       "1  binary_vars         14\n",
       "3    drop_vars          9"
      ]
     },
     "execution_count": 8,
     "metadata": {},
     "output_type": "execute_result"
    }
   ],
   "source": [
    "print(f'\\033[1mDataset {dataset_id}:\\033[0m')\n",
    "classified_features = classify_features(df_train, drop_vars=drop_vars,\n",
    "                                        drop_excessive_miss=True, drop_no_var=True,\n",
    "                                        validation_data=df_val,\n",
    "                                        test_data=df_test)\n",
    "\n",
    "feats_assess = classified_features['feats_assess']\n",
    "cat_vars = classified_features['cat_vars']\n",
    "excessive_miss_train = classified_features['excessive_miss_train']\n",
    "no_variance = classified_features['no_variance']\n",
    "cont_vars = classified_features['cont_vars']\n",
    "binary_vars = classified_features['binary_vars']\n",
    "    \n",
    "feats_assess"
   ]
  },
  {
   "cell_type": "markdown",
   "metadata": {},
   "source": [
    "<a id='data_pre_proc'></a>"
   ]
  },
  {
   "cell_type": "markdown",
   "metadata": {},
   "source": [
    "## Data pre-processing"
   ]
  },
  {
   "cell_type": "markdown",
   "metadata": {},
   "source": [
    "<a id='assessing_missing'></a>"
   ]
  },
  {
   "cell_type": "markdown",
   "metadata": {},
   "source": [
    "### Assessing missing values"
   ]
  },
  {
   "cell_type": "code",
   "execution_count": 9,
   "metadata": {},
   "outputs": [
    {
     "name": "stdout",
     "output_type": "stream",
     "text": [
      "\u001b[1mDataset 2706:\u001b[0m\n",
      "\u001b[1mTraining data:\u001b[0m\n",
      "\u001b[1mNumber of features with missings:\u001b[0m 230 out of 949 features (24.24%).\n",
      "\u001b[1mAverage number of missings:\u001b[0m 317 out of 4811 observations (6.59%).\n",
      "\n",
      "\u001b[1mValidation data:\u001b[0m\n",
      "\u001b[1mNumber of features with missings:\u001b[0m 134 out of 949 features (14.12%).\n",
      "\u001b[1mAverage number of missings:\u001b[0m 320 out of 4811 observations (6.65%).\n",
      "\n",
      "\u001b[1mTest data:\u001b[0m\n",
      "\u001b[1mNumber of features with missings:\u001b[0m 133 out of 949 features (14.01%).\n",
      "\u001b[1mAverage number of missings:\u001b[0m 312 out of 4812 observations (6.48%).\n",
      "\n",
      "\n"
     ]
    },
    {
     "data": {
      "text/html": [
       "<div>\n",
       "<style scoped>\n",
       "    .dataframe tbody tr th:only-of-type {\n",
       "        vertical-align: middle;\n",
       "    }\n",
       "\n",
       "    .dataframe tbody tr th {\n",
       "        vertical-align: top;\n",
       "    }\n",
       "\n",
       "    .dataframe thead th {\n",
       "        text-align: right;\n",
       "    }\n",
       "</style>\n",
       "<table border=\"1\" class=\"dataframe\">\n",
       "  <thead>\n",
       "    <tr style=\"text-align: right;\">\n",
       "      <th></th>\n",
       "      <th>feature</th>\n",
       "      <th>missings</th>\n",
       "      <th>share</th>\n",
       "    </tr>\n",
       "    <tr>\n",
       "      <th>training_data</th>\n",
       "      <th></th>\n",
       "      <th></th>\n",
       "      <th></th>\n",
       "    </tr>\n",
       "  </thead>\n",
       "  <tbody>\n",
       "    <tr>\n",
       "      <td>0</td>\n",
       "      <td>CUSTNAVCOUNT(t,30min)</td>\n",
       "      <td>4488</td>\n",
       "      <td>0.932862</td>\n",
       "    </tr>\n",
       "    <tr>\n",
       "      <td>1</td>\n",
       "      <td>CUSTNAVCOUNT(t,1h)</td>\n",
       "      <td>4475</td>\n",
       "      <td>0.930160</td>\n",
       "    </tr>\n",
       "    <tr>\n",
       "      <td>2</td>\n",
       "      <td>CUSTNAVENTROPY(COOKIE)</td>\n",
       "      <td>4471</td>\n",
       "      <td>0.929329</td>\n",
       "    </tr>\n",
       "    <tr>\n",
       "      <td>3</td>\n",
       "      <td>CUSTNAVCOUNT(9,30min)</td>\n",
       "      <td>4470</td>\n",
       "      <td>0.929121</td>\n",
       "    </tr>\n",
       "    <tr>\n",
       "      <td>4</td>\n",
       "      <td>CUSTNAVCOUNT(9,1h)</td>\n",
       "      <td>4450</td>\n",
       "      <td>0.924964</td>\n",
       "    </tr>\n",
       "    <tr>\n",
       "      <td>5</td>\n",
       "      <td>CUSTNAVCOUNT(t,1d)</td>\n",
       "      <td>4433</td>\n",
       "      <td>0.921430</td>\n",
       "    </tr>\n",
       "    <tr>\n",
       "      <td>6</td>\n",
       "      <td>CUSTNAVCOUNT(ta,30min)</td>\n",
       "      <td>4428</td>\n",
       "      <td>0.920391</td>\n",
       "    </tr>\n",
       "    <tr>\n",
       "      <td>7</td>\n",
       "      <td>CUSTNAVCOUNT(ta,1h)</td>\n",
       "      <td>4408</td>\n",
       "      <td>0.916234</td>\n",
       "    </tr>\n",
       "    <tr>\n",
       "      <td>8</td>\n",
       "      <td>CREDITCARD(TOTAL_AMOUNT,60)</td>\n",
       "      <td>4376</td>\n",
       "      <td>0.909582</td>\n",
       "    </tr>\n",
       "    <tr>\n",
       "      <td>9</td>\n",
       "      <td>CUSTNAVCOUNT(t,1w)</td>\n",
       "      <td>4325</td>\n",
       "      <td>0.898982</td>\n",
       "    </tr>\n",
       "  </tbody>\n",
       "</table>\n",
       "</div>"
      ],
      "text/plain": [
       "                                   feature  missings     share\n",
       "training_data                                                 \n",
       "0                    CUSTNAVCOUNT(t,30min)      4488  0.932862\n",
       "1                       CUSTNAVCOUNT(t,1h)      4475  0.930160\n",
       "2                   CUSTNAVENTROPY(COOKIE)      4471  0.929329\n",
       "3                    CUSTNAVCOUNT(9,30min)      4470  0.929121\n",
       "4                       CUSTNAVCOUNT(9,1h)      4450  0.924964\n",
       "5                       CUSTNAVCOUNT(t,1d)      4433  0.921430\n",
       "6                   CUSTNAVCOUNT(ta,30min)      4428  0.920391\n",
       "7                      CUSTNAVCOUNT(ta,1h)      4408  0.916234\n",
       "8              CREDITCARD(TOTAL_AMOUNT,60)      4376  0.909582\n",
       "9                       CUSTNAVCOUNT(t,1w)      4325  0.898982"
      ]
     },
     "execution_count": 9,
     "metadata": {},
     "output_type": "execute_result"
    }
   ],
   "source": [
    "print(f'\\033[1mDataset {dataset_id}:\\033[0m')\n",
    "print('\\033[1mTraining data:\\033[0m')\n",
    "missings_train = assessing_missings(dataframe=df_train)\n",
    "print('\\n\\033[1mValidation data:\\033[0m')\n",
    "missings_val = assessing_missings(dataframe=df_val)\n",
    "print('\\n\\033[1mTest data:\\033[0m')\n",
    "missings_test = assessing_missings(dataframe=df_test)\n",
    "print('\\n')\n",
    "\n",
    "missings_train.index.name = 'training_data'\n",
    "missings_val.index.name = 'validation_data'\n",
    "missings_test.index.name = 'test_data'\n",
    "\n",
    "missings_train.head(10)"
   ]
  },
  {
   "cell_type": "markdown",
   "metadata": {},
   "source": [
    "<a id='num_transf'></a>"
   ]
  },
  {
   "cell_type": "markdown",
   "metadata": {},
   "source": [
    "### Transforming numerical features"
   ]
  },
  {
   "cell_type": "markdown",
   "metadata": {},
   "source": [
    "#### Logarithmic transformation"
   ]
  },
  {
   "cell_type": "code",
   "execution_count": 10,
   "metadata": {},
   "outputs": [
    {
     "name": "stdout",
     "output_type": "stream",
     "text": [
      "---------------------------------------------------------------------------------------------------------\n",
      "\u001b[1mAPPLYING LOGARITHMIC TRANSFORMATION OVER NUMERICAL DATA\u001b[0m\n",
      "\n",
      "\n",
      "\u001b[1mDataset 2706:\u001b[0m\n",
      "\u001b[1mTraining data:\u001b[0m\n",
      "\u001b[1mNumber of numerical variables log-transformed:\u001b[0m 912.\n",
      "\u001b[1mValidation data:\u001b[0m\n",
      "\u001b[1mNumber of numerical variables log-transformed:\u001b[0m 912.\n",
      "\u001b[1mTest data:\u001b[0m\n",
      "\u001b[1mNumber of numerical variables log-transformed:\u001b[0m 912.\n",
      "\n",
      "\n",
      "---------------------------------------------------------------------------------------------------------\n",
      "\n",
      "\n"
     ]
    }
   ],
   "source": [
    "print('---------------------------------------------------------------------------------------------------------')\n",
    "print('\\033[1mAPPLYING LOGARITHMIC TRANSFORMATION OVER NUMERICAL DATA\\033[0m')\n",
    "print('\\n')\n",
    "print(f'\\033[1mDataset {dataset_id}:\\033[0m')\n",
    "\n",
    "# Variables that should not be log-transformed:\n",
    "not_log = [c for c in df_train.columns if c not in cont_vars]\n",
    "\n",
    "if log_transform:\n",
    "    print('\\033[1mTraining data:\\033[0m')\n",
    "    df_train = applying_log_transf(dataframe=df_train, not_log=not_log)\n",
    "    \n",
    "    print('\\033[1mValidation data:\\033[0m')\n",
    "    df_val = applying_log_transf(dataframe=df_val, not_log=not_log)\n",
    "\n",
    "    print('\\033[1mTest data:\\033[0m')\n",
    "    df_test = applying_log_transf(dataframe=df_test, not_log=not_log)\n",
    "    print('\\n')\n",
    "\n",
    "\n",
    "else:\n",
    "    print('\\033[1mNo transformation performed!\\033[0m')\n",
    "    print('\\n')\n",
    "\n",
    "print('---------------------------------------------------------------------------------------------------------')\n",
    "print('\\n')"
   ]
  },
  {
   "cell_type": "markdown",
   "metadata": {},
   "source": [
    "#### Standardizing numerical features"
   ]
  },
  {
   "cell_type": "code",
   "execution_count": 11,
   "metadata": {},
   "outputs": [
    {
     "name": "stdout",
     "output_type": "stream",
     "text": [
      "---------------------------------------------------------------------------------------------------------\n",
      "\u001b[1mAPPLYING STANDARD SCALE TRANSFORMATION OVER NUMERICAL DATA\u001b[0m\n",
      "\n",
      "\n",
      "\u001b[1mDataset 2706:\u001b[0m\n",
      "\u001b[1mStandard scaling training data...\u001b[0m\n",
      "\u001b[1mStandard scaling validation data...\u001b[0m\n",
      "\u001b[1mStandard scaling test data...\u001b[0m\n",
      "\n",
      "\n",
      "---------------------------------------------------------------------------------------------------------\n",
      "\n",
      "\n"
     ]
    }
   ],
   "source": [
    "print('---------------------------------------------------------------------------------------------------------')\n",
    "print('\\033[1mAPPLYING STANDARD SCALE TRANSFORMATION OVER NUMERICAL DATA\\033[0m')\n",
    "print('\\n')\n",
    "\n",
    "print(f'\\033[1mDataset {dataset_id}:\\033[0m')\n",
    "\n",
    "# Inputs that should not be standardized:\n",
    "not_stand = [c for c in df_train.columns if c.replace('L#', '') not in cont_vars]\n",
    "\n",
    "if standardize:\n",
    "    scaled_data = applying_standard_scale(training_data=df_train, not_stand=not_stand,\n",
    "                                          validation_data=df_val, test_data=df_test)\n",
    "    df_train_scaled = scaled_data['training_data']\n",
    "    df_val_scaled = scaled_data['validation_data']\n",
    "    df_test_scaled = scaled_data['test_data']\n",
    "\n",
    "else:\n",
    "    df_train_scaled = df_train.copy()\n",
    "    df_val_scaled = df_val.copy()\n",
    "    df_test_scaled = df_test.copy()\n",
    "\n",
    "    print('\\033[1mNo transformation performed!\\033[0m')\n",
    "\n",
    "print('\\n')\n",
    "print('---------------------------------------------------------------------------------------------------------')\n",
    "print('\\n')"
   ]
  },
  {
   "cell_type": "code",
   "execution_count": 12,
   "metadata": {},
   "outputs": [],
   "source": [
    "del scaled_data"
   ]
  },
  {
   "cell_type": "markdown",
   "metadata": {},
   "source": [
    "#### Treating missing values"
   ]
  },
  {
   "cell_type": "code",
   "execution_count": 13,
   "metadata": {},
   "outputs": [
    {
     "name": "stdout",
     "output_type": "stream",
     "text": [
      "---------------------------------------------------------------------------------------------------------\n",
      "\u001b[1mTREATING MISSING VALUES\u001b[0m\n",
      "\n",
      "\n",
      "\u001b[1mDataset 2706:\u001b[0m\n",
      "\u001b[1mTreating missing values of training data...\u001b[0m\n",
      "\u001b[1mTreating missing values of validation data...\u001b[0m\n",
      "\u001b[1mTreating missing values of test data...\u001b[0m\n",
      "\n",
      "\n",
      "---------------------------------------------------------------------------------------------------------\n",
      "\n",
      "\n"
     ]
    }
   ],
   "source": [
    "print('---------------------------------------------------------------------------------------------------------')\n",
    "print('\\033[1mTREATING MISSING VALUES\\033[0m')\n",
    "print('\\n')\n",
    "\n",
    "print(f'\\033[1mDataset {dataset_id}:\\033[0m')\n",
    "\n",
    "print('\\033[1mTreating missing values of training data...\\033[0m')\n",
    "df_train_scaled = treating_missings(dataframe=df_train_scaled, cat_vars=cat_vars,\n",
    "                                       drop_vars=drop_vars)\n",
    "\n",
    "print('\\033[1mTreating missing values of validation data...\\033[0m')\n",
    "df_val_scaled = treating_missings(dataframe=df_val_scaled, cat_vars=cat_vars,\n",
    "                                       drop_vars=drop_vars)\n",
    "\n",
    "print('\\033[1mTreating missing values of test data...\\033[0m')\n",
    "df_test_scaled = treating_missings(dataframe=df_test_scaled, cat_vars=cat_vars,\n",
    "                                   drop_vars=drop_vars)\n",
    "\n",
    "print('\\n')\n",
    "print('---------------------------------------------------------------------------------------------------------')\n",
    "print('\\n')"
   ]
  },
  {
   "cell_type": "markdown",
   "metadata": {},
   "source": [
    "<a id='categorical_transf'></a>"
   ]
  },
  {
   "cell_type": "markdown",
   "metadata": {},
   "source": [
    "### Transforming categorical features"
   ]
  },
  {
   "cell_type": "markdown",
   "metadata": {},
   "source": [
    "#### Creating dummies through one-hot encoding"
   ]
  },
  {
   "cell_type": "code",
   "execution_count": 14,
   "metadata": {},
   "outputs": [
    {
     "name": "stdout",
     "output_type": "stream",
     "text": [
      "\u001b[1mDataset 2706:\u001b[0m\n",
      "\u001b[1mNumber of categorical features:\u001b[0m 14\n",
      "\u001b[1mNumber of overall selected dummies:\u001b[0m 125.\n",
      "\u001b[1mShape of df_train_scaled:\u001b[0m (4811, 1286).\n",
      "\u001b[1mShape of df_val_scaled:\u001b[0m (4811, 1190).\n",
      "\u001b[1mShape of df_test_scaled:\u001b[0m (4812, 1189).\n",
      "\n",
      "\n"
     ]
    }
   ],
   "source": [
    "print(f'\\033[1mDataset {dataset_id}:\\033[0m')\n",
    "\n",
    "transf_data = applying_one_hot(df_train_scaled, cat_vars, validation_data=df_val_scaled, test_data=df_test_scaled)\n",
    "df_train_scaled = transf_data['training_data']\n",
    "df_val_scaled = transf_data['validation_data']\n",
    "df_test_scaled = transf_data['test_data']\n",
    "\n",
    "print(f'\\033[1mShape of df_train_scaled:\\033[0m {df_train_scaled.shape}.')\n",
    "print(f'\\033[1mShape of df_val_scaled:\\033[0m {df_val_scaled.shape}.')\n",
    "print(f'\\033[1mShape of df_test_scaled:\\033[0m {df_test_scaled.shape}.')\n",
    "print('\\n')"
   ]
  },
  {
   "cell_type": "code",
   "execution_count": 15,
   "metadata": {},
   "outputs": [],
   "source": [
    "del transf_data"
   ]
  },
  {
   "cell_type": "code",
   "execution_count": 16,
   "metadata": {},
   "outputs": [],
   "source": [
    "# Assessing missing values (training data):\n",
    "missings_detection(df_train_scaled, name=f'df_train_scaled (dataset {dataset_id})')\n",
    "\n",
    "# Assessing missing values (test data):\n",
    "missings_detection(df_val_scaled, name=f'df_val_scaled (dataset {dataset_id})')\n",
    "\n",
    "# Assessing missing values (test data):\n",
    "missings_detection(df_test_scaled, name=f'df_test_scaled (dataset {dataset_id})')"
   ]
  },
  {
   "cell_type": "markdown",
   "metadata": {},
   "source": [
    "<a id='datasets_structure'></a>"
   ]
  },
  {
   "cell_type": "markdown",
   "metadata": {},
   "source": [
    "### Datasets structure"
   ]
  },
  {
   "cell_type": "code",
   "execution_count": 17,
   "metadata": {},
   "outputs": [
    {
     "name": "stdout",
     "output_type": "stream",
     "text": [
      "\u001b[1mDataset 2706\u001b[0m:\n",
      "Training and validation data are consistent with each other.\n",
      "Training and test data are consistent with each other.\n"
     ]
    }
   ],
   "source": [
    "print(f'\\033[1mDataset {dataset_id}\\033[0m:')\n",
    "consistent_data = data_consistency(dataframe=df_train_scaled, validation_data=df_val_scaled,\n",
    "                                   test_data=df_test_scaled)\n",
    "\n",
    "df_val_scaled = consistent_data['validation_data']\n",
    "df_test_scaled = consistent_data['test_data']"
   ]
  },
  {
   "cell_type": "markdown",
   "metadata": {},
   "source": [
    "<a id='feedforward_nn'></a>"
   ]
  },
  {
   "cell_type": "markdown",
   "metadata": {},
   "source": [
    "## Feedforward neural network"
   ]
  },
  {
   "cell_type": "code",
   "execution_count": 18,
   "metadata": {},
   "outputs": [],
   "source": [
    "# Converting data from dataframes into nd-arrays:\n",
    "X_train = df_train_scaled.drop(drop_vars, axis=1).values\n",
    "y_train = df_train_scaled['y'].values\n",
    "\n",
    "X_val = df_val_scaled.drop(drop_vars, axis=1).values\n",
    "y_val = df_val_scaled['y'].values\n",
    "\n",
    "X_test = df_test_scaled.drop(drop_vars, axis=1).values\n",
    "y_test = df_test_scaled['y'].values"
   ]
  },
  {
   "cell_type": "markdown",
   "metadata": {},
   "source": [
    "<a id='nn_settings'></a>"
   ]
  },
  {
   "cell_type": "markdown",
   "metadata": {},
   "source": [
    "### Settings"
   ]
  },
  {
   "cell_type": "code",
   "execution_count": 19,
   "metadata": {},
   "outputs": [],
   "source": [
    "# Model architecture:\n",
    "model_architecture = {1: {'neurons': int(np.floor((X_train.shape[1] + 1)*0.1)),\n",
    "                          'activation': 'tanh',\n",
    "                          'dropout_param': 0.1}}\n",
    "\n",
    "# Functions:\n",
    "output_activation = 'sigmoid'\n",
    "cost_function = 'binary_crossentropy'\n",
    "\n",
    "# Hyper-parameters:\n",
    "num_epochs = 200\n",
    "batch_size = 512\n",
    "es_param = None\n",
    "regularization = 'l2'\n",
    "regul_param = 1e-06\n",
    "input_dropout = 0\n",
    "weights_init = 'glorot_uniform'\n",
    "\n",
    "# Defining the optimizer:\n",
    "default_adam = False\n",
    "optimizer = 'adam'\n",
    "opt_params = {\n",
    "    'learning_rate': 0.001,\n",
    "    'beta_1': 0.5,\n",
    "    'beta_2': 0.9999,\n",
    "    'epsilon': 1e-07\n",
    "}"
   ]
  },
  {
   "cell_type": "markdown",
   "metadata": {},
   "source": [
    "<a id='model_fitting'></a>"
   ]
  },
  {
   "cell_type": "markdown",
   "metadata": {},
   "source": [
    "### Model fitting"
   ]
  },
  {
   "cell_type": "code",
   "execution_count": 20,
   "metadata": {},
   "outputs": [
    {
     "name": "stdout",
     "output_type": "stream",
     "text": [
      "Epoch 1/200\n",
      "10/10 [==============================] - 1s 58ms/step - loss: 0.2585 - val_loss: 0.0957\n",
      "Epoch 2/200\n",
      "10/10 [==============================] - 0s 39ms/step - loss: 0.0778 - val_loss: 0.0752\n",
      "Epoch 3/200\n",
      "10/10 [==============================] - 0s 38ms/step - loss: 0.0566 - val_loss: 0.0676\n",
      "Epoch 4/200\n",
      "10/10 [==============================] - 0s 39ms/step - loss: 0.0466 - val_loss: 0.0633\n",
      "Epoch 5/200\n",
      "10/10 [==============================] - 0s 38ms/step - loss: 0.0390 - val_loss: 0.0604\n",
      "Epoch 6/200\n",
      "10/10 [==============================] - 0s 38ms/step - loss: 0.0351 - val_loss: 0.0592\n",
      "Epoch 7/200\n",
      "10/10 [==============================] - 0s 43ms/step - loss: 0.0307 - val_loss: 0.0587\n",
      "Epoch 8/200\n",
      "10/10 [==============================] - 0s 38ms/step - loss: 0.0280 - val_loss: 0.0581\n",
      "Epoch 9/200\n",
      "10/10 [==============================] - 0s 38ms/step - loss: 0.0256 - val_loss: 0.0578\n",
      "Epoch 10/200\n",
      "10/10 [==============================] - 0s 38ms/step - loss: 0.0228 - val_loss: 0.0576\n",
      "Epoch 11/200\n",
      "10/10 [==============================] - 0s 39ms/step - loss: 0.0213 - val_loss: 0.0575\n",
      "Epoch 12/200\n",
      "10/10 [==============================] - 0s 39ms/step - loss: 0.0195 - val_loss: 0.0573\n",
      "Epoch 13/200\n",
      "10/10 [==============================] - 0s 39ms/step - loss: 0.0180 - val_loss: 0.0574\n",
      "Epoch 14/200\n",
      "10/10 [==============================] - 0s 38ms/step - loss: 0.0161 - val_loss: 0.0576\n",
      "Epoch 15/200\n",
      "10/10 [==============================] - 0s 39ms/step - loss: 0.0147 - val_loss: 0.0577\n",
      "Epoch 16/200\n",
      "10/10 [==============================] - 0s 41ms/step - loss: 0.0132 - val_loss: 0.0583\n",
      "Epoch 17/200\n",
      "10/10 [==============================] - 0s 39ms/step - loss: 0.0126 - val_loss: 0.0590\n",
      "Epoch 18/200\n",
      "10/10 [==============================] - 0s 39ms/step - loss: 0.0116 - val_loss: 0.0584\n",
      "Epoch 19/200\n",
      "10/10 [==============================] - 0s 39ms/step - loss: 0.0110 - val_loss: 0.0591\n",
      "Epoch 20/200\n",
      "10/10 [==============================] - 0s 39ms/step - loss: 0.0099 - val_loss: 0.0588\n",
      "Epoch 21/200\n",
      "10/10 [==============================] - 0s 38ms/step - loss: 0.0091 - val_loss: 0.0595\n",
      "Epoch 22/200\n",
      "10/10 [==============================] - 0s 38ms/step - loss: 0.0082 - val_loss: 0.0603\n",
      "Epoch 23/200\n",
      "10/10 [==============================] - 0s 38ms/step - loss: 0.0074 - val_loss: 0.0604\n",
      "Epoch 24/200\n",
      "10/10 [==============================] - 0s 38ms/step - loss: 0.0074 - val_loss: 0.0622\n",
      "Epoch 25/200\n",
      "10/10 [==============================] - 0s 38ms/step - loss: 0.0065 - val_loss: 0.0615\n",
      "Epoch 26/200\n",
      "10/10 [==============================] - 0s 37ms/step - loss: 0.0065 - val_loss: 0.0626\n",
      "Epoch 27/200\n",
      "10/10 [==============================] - 0s 37ms/step - loss: 0.0057 - val_loss: 0.0627\n",
      "Epoch 28/200\n",
      "10/10 [==============================] - 0s 38ms/step - loss: 0.0056 - val_loss: 0.0637\n",
      "Epoch 29/200\n",
      "10/10 [==============================] - 0s 38ms/step - loss: 0.0052 - val_loss: 0.0638\n",
      "Epoch 30/200\n",
      "10/10 [==============================] - 0s 38ms/step - loss: 0.0046 - val_loss: 0.0645\n",
      "Epoch 31/200\n",
      "10/10 [==============================] - 0s 38ms/step - loss: 0.0042 - val_loss: 0.0644\n",
      "Epoch 32/200\n",
      "10/10 [==============================] - 0s 49ms/step - loss: 0.0039 - val_loss: 0.0646\n",
      "Epoch 33/200\n",
      "10/10 [==============================] - 0s 39ms/step - loss: 0.0043 - val_loss: 0.0643\n",
      "Epoch 34/200\n",
      "10/10 [==============================] - 0s 39ms/step - loss: 0.0038 - val_loss: 0.0648\n",
      "Epoch 35/200\n",
      "10/10 [==============================] - 0s 40ms/step - loss: 0.0036 - val_loss: 0.0650\n",
      "Epoch 36/200\n",
      "10/10 [==============================] - 0s 38ms/step - loss: 0.0034 - val_loss: 0.0650\n",
      "Epoch 37/200\n",
      "10/10 [==============================] - 0s 39ms/step - loss: 0.0030 - val_loss: 0.0659\n",
      "Epoch 38/200\n",
      "10/10 [==============================] - 0s 39ms/step - loss: 0.0031 - val_loss: 0.0658\n",
      "Epoch 39/200\n",
      "10/10 [==============================] - 0s 38ms/step - loss: 0.0031 - val_loss: 0.0653\n",
      "Epoch 40/200\n",
      "10/10 [==============================] - 0s 39ms/step - loss: 0.0028 - val_loss: 0.0663\n",
      "Epoch 41/200\n",
      "10/10 [==============================] - 0s 39ms/step - loss: 0.0029 - val_loss: 0.0665\n",
      "Epoch 42/200\n",
      "10/10 [==============================] - 0s 40ms/step - loss: 0.0024 - val_loss: 0.0666\n",
      "Epoch 43/200\n",
      "10/10 [==============================] - 0s 39ms/step - loss: 0.0027 - val_loss: 0.0668\n",
      "Epoch 44/200\n",
      "10/10 [==============================] - 0s 39ms/step - loss: 0.0024 - val_loss: 0.0672\n",
      "Epoch 45/200\n",
      "10/10 [==============================] - 0s 40ms/step - loss: 0.0022 - val_loss: 0.0680\n",
      "Epoch 46/200\n",
      "10/10 [==============================] - 0s 38ms/step - loss: 0.0022 - val_loss: 0.0682\n",
      "Epoch 47/200\n",
      "10/10 [==============================] - 0s 39ms/step - loss: 0.0021 - val_loss: 0.0685\n",
      "Epoch 48/200\n",
      "10/10 [==============================] - 0s 38ms/step - loss: 0.0020 - val_loss: 0.0689\n",
      "Epoch 49/200\n",
      "10/10 [==============================] - 0s 40ms/step - loss: 0.0021 - val_loss: 0.0690\n",
      "Epoch 50/200\n",
      "10/10 [==============================] - 0s 40ms/step - loss: 0.0020 - val_loss: 0.0691\n",
      "Epoch 51/200\n",
      "10/10 [==============================] - 0s 40ms/step - loss: 0.0018 - val_loss: 0.0692\n",
      "Epoch 52/200\n",
      "10/10 [==============================] - 0s 40ms/step - loss: 0.0018 - val_loss: 0.0695\n",
      "Epoch 53/200\n",
      "10/10 [==============================] - 0s 38ms/step - loss: 0.0017 - val_loss: 0.0696\n",
      "Epoch 54/200\n",
      "10/10 [==============================] - 0s 39ms/step - loss: 0.0018 - val_loss: 0.0692\n",
      "Epoch 55/200\n",
      "10/10 [==============================] - 0s 40ms/step - loss: 0.0017 - val_loss: 0.0702\n",
      "Epoch 56/200\n",
      "10/10 [==============================] - 0s 38ms/step - loss: 0.0017 - val_loss: 0.0704\n",
      "Epoch 57/200\n",
      "10/10 [==============================] - 0s 40ms/step - loss: 0.0014 - val_loss: 0.0714\n",
      "Epoch 58/200\n",
      "10/10 [==============================] - 0s 41ms/step - loss: 0.0015 - val_loss: 0.0713\n",
      "Epoch 59/200\n",
      "10/10 [==============================] - 0s 39ms/step - loss: 0.0016 - val_loss: 0.0711\n",
      "Epoch 60/200\n",
      "10/10 [==============================] - 0s 39ms/step - loss: 0.0015 - val_loss: 0.0714\n",
      "Epoch 61/200\n",
      "10/10 [==============================] - 0s 38ms/step - loss: 0.0016 - val_loss: 0.0715\n",
      "Epoch 62/200\n",
      "10/10 [==============================] - 0s 38ms/step - loss: 0.0014 - val_loss: 0.0719\n",
      "Epoch 63/200\n",
      "10/10 [==============================] - 0s 38ms/step - loss: 0.0014 - val_loss: 0.0721\n",
      "Epoch 64/200\n",
      "10/10 [==============================] - 0s 38ms/step - loss: 0.0014 - val_loss: 0.0716\n",
      "Epoch 65/200\n",
      "10/10 [==============================] - 0s 38ms/step - loss: 0.0014 - val_loss: 0.0716\n",
      "Epoch 66/200\n",
      "10/10 [==============================] - 0s 39ms/step - loss: 0.0013 - val_loss: 0.0724\n",
      "Epoch 67/200\n",
      "10/10 [==============================] - 0s 37ms/step - loss: 0.0012 - val_loss: 0.0727\n",
      "Epoch 68/200\n",
      "10/10 [==============================] - 0s 37ms/step - loss: 0.0011 - val_loss: 0.0734\n",
      "Epoch 69/200\n",
      "10/10 [==============================] - 0s 39ms/step - loss: 0.0012 - val_loss: 0.0730\n",
      "Epoch 70/200\n",
      "10/10 [==============================] - 0s 38ms/step - loss: 0.0012 - val_loss: 0.0736\n",
      "Epoch 71/200\n",
      "10/10 [==============================] - 0s 38ms/step - loss: 0.0012 - val_loss: 0.0740\n",
      "Epoch 72/200\n",
      "10/10 [==============================] - 0s 39ms/step - loss: 0.0011 - val_loss: 0.0739\n",
      "Epoch 73/200\n",
      "10/10 [==============================] - 0s 38ms/step - loss: 0.0012 - val_loss: 0.0742\n",
      "Epoch 74/200\n",
      "10/10 [==============================] - 0s 39ms/step - loss: 0.0012 - val_loss: 0.0745\n",
      "Epoch 75/200\n",
      "10/10 [==============================] - 0s 39ms/step - loss: 0.0011 - val_loss: 0.0751\n",
      "Epoch 76/200\n",
      "10/10 [==============================] - 0s 38ms/step - loss: 0.0011 - val_loss: 0.0750\n",
      "Epoch 77/200\n",
      "10/10 [==============================] - 0s 39ms/step - loss: 9.3358e-04 - val_loss: 0.0753\n",
      "Epoch 78/200\n",
      "10/10 [==============================] - 0s 39ms/step - loss: 0.0010 - val_loss: 0.0752\n",
      "Epoch 79/200\n",
      "10/10 [==============================] - 0s 39ms/step - loss: 9.6636e-04 - val_loss: 0.0755\n",
      "Epoch 80/200\n",
      "10/10 [==============================] - 0s 39ms/step - loss: 0.0010 - val_loss: 0.0750\n",
      "Epoch 81/200\n",
      "10/10 [==============================] - 0s 42ms/step - loss: 9.4193e-04 - val_loss: 0.0759\n",
      "Epoch 82/200\n"
     ]
    },
    {
     "name": "stdout",
     "output_type": "stream",
     "text": [
      "10/10 [==============================] - 0s 38ms/step - loss: 9.2431e-04 - val_loss: 0.0756\n",
      "Epoch 83/200\n",
      "10/10 [==============================] - 0s 38ms/step - loss: 9.3356e-04 - val_loss: 0.0760\n",
      "Epoch 84/200\n",
      "10/10 [==============================] - 0s 38ms/step - loss: 8.6692e-04 - val_loss: 0.0765\n",
      "Epoch 85/200\n",
      "10/10 [==============================] - 0s 37ms/step - loss: 8.6823e-04 - val_loss: 0.0768\n",
      "Epoch 86/200\n",
      "10/10 [==============================] - 0s 38ms/step - loss: 8.5218e-04 - val_loss: 0.0766\n",
      "Epoch 87/200\n",
      "10/10 [==============================] - 0s 38ms/step - loss: 8.4807e-04 - val_loss: 0.0770\n",
      "Epoch 88/200\n",
      "10/10 [==============================] - 0s 38ms/step - loss: 0.0010 - val_loss: 0.0771\n",
      "Epoch 89/200\n",
      "10/10 [==============================] - 0s 38ms/step - loss: 8.6194e-04 - val_loss: 0.0773\n",
      "Epoch 90/200\n",
      "10/10 [==============================] - 0s 39ms/step - loss: 8.6270e-04 - val_loss: 0.0772\n",
      "Epoch 91/200\n",
      "10/10 [==============================] - 0s 47ms/step - loss: 8.7375e-04 - val_loss: 0.0776\n",
      "Epoch 92/200\n",
      "10/10 [==============================] - 0s 39ms/step - loss: 8.7240e-04 - val_loss: 0.0774\n",
      "Epoch 93/200\n",
      "10/10 [==============================] - 1s 108ms/step - loss: 9.8276e-04 - val_loss: 0.0775\n",
      "Epoch 94/200\n",
      "10/10 [==============================] - 0s 41ms/step - loss: 9.1461e-04 - val_loss: 0.0774\n",
      "Epoch 95/200\n",
      "10/10 [==============================] - 0s 45ms/step - loss: 7.4302e-04 - val_loss: 0.0777\n",
      "Epoch 96/200\n",
      "10/10 [==============================] - 0s 38ms/step - loss: 8.9034e-04 - val_loss: 0.0778\n",
      "Epoch 97/200\n",
      "10/10 [==============================] - 0s 39ms/step - loss: 7.6722e-04 - val_loss: 0.0781\n",
      "Epoch 98/200\n",
      "10/10 [==============================] - 0s 42ms/step - loss: 8.0055e-04 - val_loss: 0.0783\n",
      "Epoch 99/200\n",
      "10/10 [==============================] - 0s 38ms/step - loss: 8.0837e-04 - val_loss: 0.0784\n",
      "Epoch 100/200\n",
      "10/10 [==============================] - 0s 41ms/step - loss: 7.8543e-04 - val_loss: 0.0783\n",
      "Epoch 101/200\n",
      "10/10 [==============================] - 0s 39ms/step - loss: 7.3619e-04 - val_loss: 0.0785\n",
      "Epoch 102/200\n",
      "10/10 [==============================] - 0s 38ms/step - loss: 6.9211e-04 - val_loss: 0.0786\n",
      "Epoch 103/200\n",
      "10/10 [==============================] - 0s 39ms/step - loss: 7.0312e-04 - val_loss: 0.0787\n",
      "Epoch 104/200\n",
      "10/10 [==============================] - 0s 39ms/step - loss: 8.1719e-04 - val_loss: 0.0791\n",
      "Epoch 105/200\n",
      "10/10 [==============================] - 0s 42ms/step - loss: 7.3019e-04 - val_loss: 0.0788\n",
      "Epoch 106/200\n",
      "10/10 [==============================] - 0s 39ms/step - loss: 7.7298e-04 - val_loss: 0.0793\n",
      "Epoch 107/200\n",
      "10/10 [==============================] - 0s 40ms/step - loss: 7.3039e-04 - val_loss: 0.0793\n",
      "Epoch 108/200\n",
      "10/10 [==============================] - 0s 41ms/step - loss: 6.7329e-04 - val_loss: 0.0796\n",
      "Epoch 109/200\n",
      "10/10 [==============================] - 0s 38ms/step - loss: 6.9605e-04 - val_loss: 0.0796\n",
      "Epoch 110/200\n",
      "10/10 [==============================] - 0s 40ms/step - loss: 8.7122e-04 - val_loss: 0.0792\n",
      "Epoch 111/200\n",
      "10/10 [==============================] - 0s 38ms/step - loss: 6.7224e-04 - val_loss: 0.0797\n",
      "Epoch 112/200\n",
      "10/10 [==============================] - 0s 40ms/step - loss: 6.6231e-04 - val_loss: 0.0799\n",
      "Epoch 113/200\n",
      "10/10 [==============================] - 0s 38ms/step - loss: 8.4364e-04 - val_loss: 0.0802\n",
      "Epoch 114/200\n",
      "10/10 [==============================] - 0s 38ms/step - loss: 7.0820e-04 - val_loss: 0.0801\n",
      "Epoch 115/200\n",
      "10/10 [==============================] - 0s 43ms/step - loss: 6.3483e-04 - val_loss: 0.0803\n",
      "Epoch 116/200\n",
      "10/10 [==============================] - 0s 40ms/step - loss: 7.7451e-04 - val_loss: 0.0804\n",
      "Epoch 117/200\n",
      "10/10 [==============================] - 0s 39ms/step - loss: 7.0086e-04 - val_loss: 0.0801\n",
      "Epoch 118/200\n",
      "10/10 [==============================] - 0s 42ms/step - loss: 6.2394e-04 - val_loss: 0.0804\n",
      "Epoch 119/200\n",
      "10/10 [==============================] - 0s 38ms/step - loss: 6.7114e-04 - val_loss: 0.0805\n",
      "Epoch 120/200\n",
      "10/10 [==============================] - 0s 40ms/step - loss: 6.0137e-04 - val_loss: 0.0809\n",
      "Epoch 121/200\n",
      "10/10 [==============================] - 0s 38ms/step - loss: 6.0963e-04 - val_loss: 0.0811\n",
      "Epoch 122/200\n",
      "10/10 [==============================] - 0s 39ms/step - loss: 6.3050e-04 - val_loss: 0.0806\n",
      "Epoch 123/200\n",
      "10/10 [==============================] - 0s 38ms/step - loss: 6.1667e-04 - val_loss: 0.0811\n",
      "Epoch 124/200\n",
      "10/10 [==============================] - 0s 39ms/step - loss: 5.9758e-04 - val_loss: 0.0815\n",
      "Epoch 125/200\n",
      "10/10 [==============================] - 0s 38ms/step - loss: 6.4189e-04 - val_loss: 0.0814\n",
      "Epoch 126/200\n",
      "10/10 [==============================] - 0s 38ms/step - loss: 6.2114e-04 - val_loss: 0.0812\n",
      "Epoch 127/200\n",
      "10/10 [==============================] - 0s 39ms/step - loss: 5.5952e-04 - val_loss: 0.0816\n",
      "Epoch 128/200\n",
      "10/10 [==============================] - 0s 39ms/step - loss: 6.1315e-04 - val_loss: 0.0814\n",
      "Epoch 129/200\n",
      "10/10 [==============================] - 0s 40ms/step - loss: 5.8453e-04 - val_loss: 0.0814\n",
      "Epoch 130/200\n",
      "10/10 [==============================] - 0s 37ms/step - loss: 5.6388e-04 - val_loss: 0.0816\n",
      "Epoch 131/200\n",
      "10/10 [==============================] - 0s 38ms/step - loss: 5.6733e-04 - val_loss: 0.0820\n",
      "Epoch 132/200\n",
      "10/10 [==============================] - 0s 39ms/step - loss: 5.6508e-04 - val_loss: 0.0819\n",
      "Epoch 133/200\n",
      "10/10 [==============================] - 0s 44ms/step - loss: 5.7483e-04 - val_loss: 0.0821\n",
      "Epoch 134/200\n",
      "10/10 [==============================] - 1s 128ms/step - loss: 6.2171e-04 - val_loss: 0.0821\n",
      "Epoch 135/200\n",
      "10/10 [==============================] - 0s 38ms/step - loss: 6.0350e-04 - val_loss: 0.0822\n",
      "Epoch 136/200\n",
      "10/10 [==============================] - 1s 96ms/step - loss: 5.7456e-04 - val_loss: 0.0822\n",
      "Epoch 137/200\n",
      "10/10 [==============================] - 1s 112ms/step - loss: 5.3469e-04 - val_loss: 0.0823\n",
      "Epoch 138/200\n",
      "10/10 [==============================] - 0s 39ms/step - loss: 5.5125e-04 - val_loss: 0.0825\n",
      "Epoch 139/200\n",
      "10/10 [==============================] - 1s 107ms/step - loss: 5.1438e-04 - val_loss: 0.0828\n",
      "Epoch 140/200\n",
      "10/10 [==============================] - 0s 37ms/step - loss: 5.3182e-04 - val_loss: 0.0827\n",
      "Epoch 141/200\n",
      "10/10 [==============================] - 2s 180ms/step - loss: 4.9360e-04 - val_loss: 0.0831\n",
      "Epoch 142/200\n",
      "10/10 [==============================] - 0s 38ms/step - loss: 4.9584e-04 - val_loss: 0.0829\n",
      "Epoch 143/200\n",
      "10/10 [==============================] - 0s 38ms/step - loss: 5.1516e-04 - val_loss: 0.0831\n",
      "Epoch 144/200\n",
      "10/10 [==============================] - 0s 42ms/step - loss: 5.8812e-04 - val_loss: 0.0830\n",
      "Epoch 145/200\n",
      "10/10 [==============================] - 0s 39ms/step - loss: 6.2678e-04 - val_loss: 0.0836\n",
      "Epoch 146/200\n",
      "10/10 [==============================] - 1s 91ms/step - loss: 5.2773e-04 - val_loss: 0.0837\n",
      "Epoch 147/200\n",
      "10/10 [==============================] - 0s 38ms/step - loss: 5.3661e-04 - val_loss: 0.0838\n",
      "Epoch 148/200\n",
      "10/10 [==============================] - 1s 114ms/step - loss: 5.0753e-04 - val_loss: 0.0837\n",
      "Epoch 149/200\n",
      "10/10 [==============================] - 1s 127ms/step - loss: 5.0062e-04 - val_loss: 0.0838\n",
      "Epoch 150/200\n",
      "10/10 [==============================] - 0s 38ms/step - loss: 5.1784e-04 - val_loss: 0.0839\n",
      "Epoch 151/200\n",
      "10/10 [==============================] - 2s 164ms/step - loss: 5.1612e-04 - val_loss: 0.0842\n",
      "Epoch 152/200\n",
      "10/10 [==============================] - 0s 38ms/step - loss: 5.5747e-04 - val_loss: 0.0842\n",
      "Epoch 153/200\n",
      "10/10 [==============================] - 1s 113ms/step - loss: 4.8038e-04 - val_loss: 0.0843\n",
      "Epoch 154/200\n",
      "10/10 [==============================] - 0s 40ms/step - loss: 5.3199e-04 - val_loss: 0.0842\n",
      "Epoch 155/200\n",
      "10/10 [==============================] - 0s 39ms/step - loss: 4.9565e-04 - val_loss: 0.0844\n",
      "Epoch 156/200\n",
      "10/10 [==============================] - 2s 200ms/step - loss: 5.2312e-04 - val_loss: 0.0843\n",
      "Epoch 157/200\n",
      "10/10 [==============================] - 0s 40ms/step - loss: 5.7535e-04 - val_loss: 0.0848\n",
      "Epoch 158/200\n",
      "10/10 [==============================] - 2s 153ms/step - loss: 4.9763e-04 - val_loss: 0.0844\n",
      "Epoch 159/200\n"
     ]
    },
    {
     "name": "stdout",
     "output_type": "stream",
     "text": [
      "10/10 [==============================] - 0s 40ms/step - loss: 4.5611e-04 - val_loss: 0.0846\n",
      "Epoch 160/200\n",
      "10/10 [==============================] - 0s 40ms/step - loss: 4.6968e-04 - val_loss: 0.0846\n",
      "Epoch 161/200\n",
      "10/10 [==============================] - 1s 132ms/step - loss: 4.8193e-04 - val_loss: 0.0848\n",
      "Epoch 162/200\n",
      "10/10 [==============================] - 0s 38ms/step - loss: 4.5996e-04 - val_loss: 0.0848\n",
      "Epoch 163/200\n",
      "10/10 [==============================] - 0s 39ms/step - loss: 5.2816e-04 - val_loss: 0.0848\n",
      "Epoch 164/200\n",
      "10/10 [==============================] - 0s 37ms/step - loss: 4.7380e-04 - val_loss: 0.0845\n",
      "Epoch 165/200\n",
      "10/10 [==============================] - 0s 39ms/step - loss: 4.6671e-04 - val_loss: 0.0847\n",
      "Epoch 166/200\n",
      "10/10 [==============================] - 0s 39ms/step - loss: 4.8495e-04 - val_loss: 0.0849\n",
      "Epoch 167/200\n",
      "10/10 [==============================] - 0s 38ms/step - loss: 4.6060e-04 - val_loss: 0.0850\n",
      "Epoch 168/200\n",
      "10/10 [==============================] - 0s 38ms/step - loss: 4.4365e-04 - val_loss: 0.0851\n",
      "Epoch 169/200\n",
      "10/10 [==============================] - 0s 38ms/step - loss: 4.6543e-04 - val_loss: 0.0851\n",
      "Epoch 170/200\n",
      "10/10 [==============================] - 0s 38ms/step - loss: 4.7530e-04 - val_loss: 0.0851\n",
      "Epoch 171/200\n",
      "10/10 [==============================] - 0s 38ms/step - loss: 5.8557e-04 - val_loss: 0.0854\n",
      "Epoch 172/200\n",
      "10/10 [==============================] - 0s 38ms/step - loss: 4.6107e-04 - val_loss: 0.0853\n",
      "Epoch 173/200\n",
      "10/10 [==============================] - 0s 39ms/step - loss: 4.4477e-04 - val_loss: 0.0856\n",
      "Epoch 174/200\n",
      "10/10 [==============================] - 0s 39ms/step - loss: 4.7324e-04 - val_loss: 0.0858\n",
      "Epoch 175/200\n",
      "10/10 [==============================] - 0s 41ms/step - loss: 4.7088e-04 - val_loss: 0.0856\n",
      "Epoch 176/200\n",
      "10/10 [==============================] - 0s 40ms/step - loss: 4.2268e-04 - val_loss: 0.0860\n",
      "Epoch 177/200\n",
      "10/10 [==============================] - 0s 40ms/step - loss: 4.5458e-04 - val_loss: 0.0861\n",
      "Epoch 178/200\n",
      "10/10 [==============================] - 0s 38ms/step - loss: 4.4995e-04 - val_loss: 0.0861\n",
      "Epoch 179/200\n",
      "10/10 [==============================] - 0s 39ms/step - loss: 4.2819e-04 - val_loss: 0.0862\n",
      "Epoch 180/200\n",
      "10/10 [==============================] - 0s 38ms/step - loss: 4.5339e-04 - val_loss: 0.0861\n",
      "Epoch 181/200\n",
      "10/10 [==============================] - 0s 38ms/step - loss: 4.6145e-04 - val_loss: 0.0860\n",
      "Epoch 182/200\n",
      "10/10 [==============================] - 0s 38ms/step - loss: 4.3014e-04 - val_loss: 0.0861\n",
      "Epoch 183/200\n",
      "10/10 [==============================] - 0s 38ms/step - loss: 4.2458e-04 - val_loss: 0.0862\n",
      "Epoch 184/200\n",
      "10/10 [==============================] - 0s 39ms/step - loss: 4.7671e-04 - val_loss: 0.0864\n",
      "Epoch 185/200\n",
      "10/10 [==============================] - 0s 38ms/step - loss: 4.2604e-04 - val_loss: 0.0863\n",
      "Epoch 186/200\n",
      "10/10 [==============================] - 0s 38ms/step - loss: 4.5023e-04 - val_loss: 0.0864\n",
      "Epoch 187/200\n",
      "10/10 [==============================] - 0s 40ms/step - loss: 4.3093e-04 - val_loss: 0.0864\n",
      "Epoch 188/200\n",
      "10/10 [==============================] - 0s 39ms/step - loss: 4.3838e-04 - val_loss: 0.0865\n",
      "Epoch 189/200\n",
      "10/10 [==============================] - 0s 40ms/step - loss: 4.3478e-04 - val_loss: 0.0867\n",
      "Epoch 190/200\n",
      "10/10 [==============================] - 0s 38ms/step - loss: 4.2337e-04 - val_loss: 0.0867\n",
      "Epoch 191/200\n",
      "10/10 [==============================] - 0s 40ms/step - loss: 4.5837e-04 - val_loss: 0.0865\n",
      "Epoch 192/200\n",
      "10/10 [==============================] - 0s 38ms/step - loss: 4.2672e-04 - val_loss: 0.0868\n",
      "Epoch 193/200\n",
      "10/10 [==============================] - 0s 40ms/step - loss: 4.1671e-04 - val_loss: 0.0868\n",
      "Epoch 194/200\n",
      "10/10 [==============================] - 0s 40ms/step - loss: 4.4724e-04 - val_loss: 0.0869\n",
      "Epoch 195/200\n",
      "10/10 [==============================] - 0s 39ms/step - loss: 4.2456e-04 - val_loss: 0.0870\n",
      "Epoch 196/200\n",
      "10/10 [==============================] - 0s 41ms/step - loss: 4.1524e-04 - val_loss: 0.0871\n",
      "Epoch 197/200\n",
      "10/10 [==============================] - 0s 39ms/step - loss: 4.2461e-04 - val_loss: 0.0869\n",
      "Epoch 198/200\n",
      "10/10 [==============================] - 0s 39ms/step - loss: 4.1652e-04 - val_loss: 0.0871\n",
      "Epoch 199/200\n",
      "10/10 [==============================] - 0s 40ms/step - loss: 4.1794e-04 - val_loss: 0.0870\n",
      "Epoch 200/200\n",
      "10/10 [==============================] - 0s 38ms/step - loss: 4.3542e-04 - val_loss: 0.0869\n",
      "------------------------------------\n",
      "\u001b[1mRunning time:\u001b[0m 1.55 minutes.\n",
      "Start time: 2021-05-18, 22:24:49\n",
      "End time: 2021-05-18, 22:26:22\n",
      "------------------------------------\n"
     ]
    }
   ],
   "source": [
    "nn_start_time = datetime.now()\n",
    "\n",
    "# Creating neural network object, declaring its architecture and defining hyper-parameters:\n",
    "model = KerasNN(model_architecture = model_architecture, num_inputs = X_train.shape[1],\n",
    "                output_activation = output_activation, cost_function = cost_function,\n",
    "                num_epochs = num_epochs, batch_size = batch_size,\n",
    "                default_adam = default_adam, optimizer = optimizer, opt_params = opt_params,\n",
    "                regularization = regularization, regul_param = regul_param,\n",
    "                input_dropout = input_dropout,\n",
    "                weights_init = weights_init)\n",
    "\n",
    "# Training the model:\n",
    "model.run(train_inputs = X_train, train_output = y_train,\n",
    "          val_inputs = X_val, val_output = y_val,\n",
    "          early_stopping = False,\n",
    "          verbose = 1)\n",
    "\n",
    "# Performance metrics on validation data:\n",
    "val_roc_auc = roc_auc_score(y_val, [p[0] for p in model.predictions])\n",
    "val_avg_prec_score = average_precision_score(y_val, [p[0] for p in model.predictions])\n",
    "val_brier_score = brier_score_loss(y_val, [p[0] for p in model.predictions])\n",
    "\n",
    "# Cost function by training epoch:\n",
    "model_costs = model.model_costs\n",
    "\n",
    "# Information relating cost function:\n",
    "min_cost = model_costs.loss.min()\n",
    "epoch_min_cost = model_costs.loss.idxmin() + 1\n",
    "val_min_cost = model_costs.val_loss.min()\n",
    "epoch_min_cost = model_costs.val_loss.idxmin() + 1\n",
    "\n",
    "# Assessing running time:\n",
    "nn_end_time = datetime.now()\n",
    "\n",
    "nn_time = running_time(start_time=nn_start_time, end_time=nn_end_time)"
   ]
  },
  {
   "cell_type": "code",
   "execution_count": 21,
   "metadata": {},
   "outputs": [
    {
     "name": "stdout",
     "output_type": "stream",
     "text": [
      "Validation ROC-AUC: 0.9716.\n",
      "Validation average precision score: 0.8577.\n",
      "Validation Brier score: 0.0131.\n"
     ]
    }
   ],
   "source": [
    "print(f'Validation ROC-AUC: {val_roc_auc:.4f}.')\n",
    "print(f'Validation average precision score: {val_avg_prec_score:.4f}.')\n",
    "print(f'Validation Brier score: {val_brier_score:.4f}.')"
   ]
  },
  {
   "cell_type": "code",
   "execution_count": 22,
   "metadata": {},
   "outputs": [
    {
     "data": {
      "application/vnd.plotly.v1+json": {
       "config": {
        "plotlyServerURL": "https://plot.ly"
       },
       "data": [
        {
         "hovertemplate": "ROC-AUC = %{y:.4f}<br>epoch = %{x}<br>",
         "name": "Val ROC-AUC",
         "type": "scatter",
         "x": [
          1,
          2,
          3,
          4,
          5,
          6,
          7,
          8,
          9,
          10,
          11,
          12,
          13,
          14,
          15,
          16,
          17,
          18,
          19,
          20,
          21,
          22,
          23,
          24,
          25,
          26,
          27,
          28,
          29,
          30,
          31,
          32,
          33,
          34,
          35,
          36,
          37,
          38,
          39,
          40,
          41,
          42,
          43,
          44,
          45,
          46,
          47,
          48,
          49,
          50,
          51,
          52,
          53,
          54,
          55,
          56,
          57,
          58,
          59,
          60,
          61,
          62,
          63,
          64,
          65,
          66,
          67,
          68,
          69,
          70,
          71,
          72,
          73,
          74,
          75,
          76,
          77,
          78,
          79,
          80,
          81,
          82,
          83,
          84,
          85,
          86,
          87,
          88,
          89,
          90,
          91,
          92,
          93,
          94,
          95,
          96,
          97,
          98,
          99,
          100,
          101,
          102,
          103,
          104,
          105,
          106,
          107,
          108,
          109,
          110,
          111,
          112,
          113,
          114,
          115,
          116,
          117,
          118,
          119,
          120,
          121,
          122,
          123,
          124,
          125,
          126,
          127,
          128,
          129,
          130,
          131,
          132,
          133,
          134,
          135,
          136,
          137,
          138,
          139,
          140,
          141,
          142,
          143,
          144,
          145,
          146,
          147,
          148,
          149,
          150,
          151,
          152,
          153,
          154,
          155,
          156,
          157,
          158,
          159,
          160,
          161,
          162,
          163,
          164,
          165,
          166,
          167,
          168,
          169,
          170,
          171,
          172,
          173,
          174,
          175,
          176,
          177,
          178,
          179,
          180,
          181,
          182,
          183,
          184,
          185,
          186,
          187,
          188,
          189,
          190,
          191,
          192,
          193,
          194,
          195,
          196,
          197,
          198,
          199,
          200
         ],
         "xaxis": "x",
         "y": [
          0.9220168814801479,
          0.9354331042224882,
          0.9410482615464453,
          0.9458738866589709,
          0.9510368236552535,
          0.9535007360494795,
          0.956687459623185,
          0.9588876650816008,
          0.9612567912478951,
          0.9629835950986518,
          0.9649968757612022,
          0.9661745549283545,
          0.9671017654596867,
          0.9684631922307065,
          0.968590279910615,
          0.9688608707624202,
          0.9676879573832646,
          0.9689577751183504,
          0.9693739872700509,
          0.9703112589093759,
          0.9696938245978204,
          0.9695365535939338,
          0.9699564724696313,
          0.9700205458415851,
          0.9696906474058227,
          0.9698812789256854,
          0.9696562278258476,
          0.9699622973216272,
          0.9701132139415185,
          0.970730648253074,
          0.9702593647734132,
          0.9702212384694407,
          0.9704891816612478,
          0.9703393241053555,
          0.9708868601929613,
          0.9712898340446713,
          0.9713173697086516,
          0.9712485305487011,
          0.9715598953644767,
          0.9711447422767758,
          0.9713194878366499,
          0.9709615242049077,
          0.9709032756849496,
          0.9705887336771761,
          0.9705553731612002,
          0.9706030310411659,
          0.9704605869332684,
          0.970419283437298,
          0.97102771570486,
          0.9709927665928851,
          0.9707910149010305,
          0.9710605466888365,
          0.9711203838047934,
          0.9711871048367453,
          0.9708836830009637,
          0.971148449000773,
          0.9709715853129004,
          0.9707518295330587,
          0.9712718299566842,
          0.9712029907967339,
          0.9714169217245798,
          0.9709774101648962,
          0.9710409540048505,
          0.9714476345805577,
          0.971067960136831,
          0.970738591233068,
          0.9706215646611525,
          0.9708948031729557,
          0.9713406691166346,
          0.9711966364127385,
          0.9708302002690022,
          0.9708270230770045,
          0.9707317073170733,
          0.9707200576130816,
          0.9706395687491396,
          0.9706644567531215,
          0.9707020535250945,
          0.9709488154369169,
          0.9706400982811392,
          0.9708037236690213,
          0.9705897927411753,
          0.9709085710049458,
          0.9707370026370694,
          0.9706363915571418,
          0.9706035605731655,
          0.9709308113489298,
          0.9709498745009161,
          0.9705574912891985,
          0.9707158213570846,
          0.9709096300689449,
          0.9707756584730415,
          0.9707761880050412,
          0.9709710557809008,
          0.9712527668046981,
          0.9709530516929138,
          0.9707910149010304,
          0.9708423795049936,
          0.9709816464208932,
          0.970864090316978,
          0.9707433570210648,
          0.9708863306609619,
          0.9709244569649345,
          0.9706702816051174,
          0.9706814017771093,
          0.9708439681009924,
          0.9707698336210457,
          0.9708926850449572,
          0.9709207502409372,
          0.9710822575008207,
          0.9711733370047552,
          0.9709202207089375,
          0.9709122777289431,
          0.9707031125890938,
          0.9709239274329348,
          0.9709286932209313,
          0.970758183917054,
          0.9707507704690594,
          0.9707158213570847,
          0.970942990584921,
          0.9709392838609237,
          0.9703769208773286,
          0.9710774917128242,
          0.9707465342130625,
          0.9705326032852165,
          0.9708143143090137,
          0.9709286932209313,
          0.9707274710610763,
          0.9710769621808245,
          0.9710557809008398,
          0.9711627463647627,
          0.9710748440528261,
          0.9710716668608285,
          0.970844497632992,
          0.9711510966607712,
          0.9712707708926851,
          0.9712315855247132,
          0.9709625832689068,
          0.970990118932887,
          0.9708905669169587,
          0.970980587356894,
          0.9708704447009733,
          0.9707989578810248,
          0.9708651493809771,
          0.9710759031168253,
          0.9707539476610572,
          0.9704701185092615,
          0.9706978172690975,
          0.9706681634771189,
          0.9707094669730892,
          0.970913866324942,
          0.9707115851010877,
          0.97061097402116,
          0.9706247418531502,
          0.9709848236128908,
          0.9709075119409464,
          0.9707920739650296,
          0.9708418499729938,
          0.9710674306048315,
          0.9709721148449001,
          0.970862501720979,
          0.970866737976976,
          0.9709615242049077,
          0.9710028277008779,
          0.9708948031729557,
          0.9706904038211029,
          0.970829141205003,
          0.9711119112927994,
          0.9710695487328299,
          0.9709858826768901,
          0.9710091820848734,
          0.9708948031729557,
          0.9709350476049268,
          0.9709038052169493,
          0.9708397318449954,
          0.9711235609967911,
          0.9710621352848354,
          0.9709932961248848,
          0.9712199358207217,
          0.9713131334526546,
          0.9713057200046599,
          0.9712654755726888,
          0.9712231130127194,
          0.971176514196753,
          0.9711881639007445,
          0.9713682047806149,
          0.9713618503966194,
          0.9712961884286667,
          0.9713491416286286,
          0.9710621352848352,
          0.9711743960687544,
          0.9711955773487392,
          0.9712771252766805,
          0.9711998136047361,
          0.9713660866526165,
          0.9713756182286095,
          0.9713809135486057,
          0.9714264533005729,
          0.971163805428762,
          0.9711606282367645,
          0.9716086123084419
         ],
         "yaxis": "y"
        },
        {
         "hovertemplate": "Avg precision = %{y:.4f}<br>epoch = %{x}<br>",
         "marker": {
          "color": "orange"
         },
         "mode": "lines",
         "name": "Val avg precision",
         "type": "scatter",
         "x": [
          1,
          2,
          3,
          4,
          5,
          6,
          7,
          8,
          9,
          10,
          11,
          12,
          13,
          14,
          15,
          16,
          17,
          18,
          19,
          20,
          21,
          22,
          23,
          24,
          25,
          26,
          27,
          28,
          29,
          30,
          31,
          32,
          33,
          34,
          35,
          36,
          37,
          38,
          39,
          40,
          41,
          42,
          43,
          44,
          45,
          46,
          47,
          48,
          49,
          50,
          51,
          52,
          53,
          54,
          55,
          56,
          57,
          58,
          59,
          60,
          61,
          62,
          63,
          64,
          65,
          66,
          67,
          68,
          69,
          70,
          71,
          72,
          73,
          74,
          75,
          76,
          77,
          78,
          79,
          80,
          81,
          82,
          83,
          84,
          85,
          86,
          87,
          88,
          89,
          90,
          91,
          92,
          93,
          94,
          95,
          96,
          97,
          98,
          99,
          100,
          101,
          102,
          103,
          104,
          105,
          106,
          107,
          108,
          109,
          110,
          111,
          112,
          113,
          114,
          115,
          116,
          117,
          118,
          119,
          120,
          121,
          122,
          123,
          124,
          125,
          126,
          127,
          128,
          129,
          130,
          131,
          132,
          133,
          134,
          135,
          136,
          137,
          138,
          139,
          140,
          141,
          142,
          143,
          144,
          145,
          146,
          147,
          148,
          149,
          150,
          151,
          152,
          153,
          154,
          155,
          156,
          157,
          158,
          159,
          160,
          161,
          162,
          163,
          164,
          165,
          166,
          167,
          168,
          169,
          170,
          171,
          172,
          173,
          174,
          175,
          176,
          177,
          178,
          179,
          180,
          181,
          182,
          183,
          184,
          185,
          186,
          187,
          188,
          189,
          190,
          191,
          192,
          193,
          194,
          195,
          196,
          197,
          198,
          199,
          200
         ],
         "xaxis": "x",
         "y": [
          0.6289589982320309,
          0.7294737922948318,
          0.7738016816036498,
          0.7930852295456059,
          0.814607027066613,
          0.8232122668283184,
          0.8243138719163718,
          0.8290782441178075,
          0.8309376812706468,
          0.8310424852888436,
          0.8321385247629913,
          0.8363353378841291,
          0.8359546559348562,
          0.8359821782009357,
          0.8382011989873985,
          0.8353459471383436,
          0.8354574251993275,
          0.8406182965082447,
          0.8372471254683372,
          0.8425959999188156,
          0.840773261120339,
          0.8391024889372938,
          0.8413919516563306,
          0.8315010867008601,
          0.8392774417663217,
          0.8338614354113819,
          0.8368734168586904,
          0.8345482216374115,
          0.8347212955298658,
          0.8329603672088588,
          0.8377158163016843,
          0.8380989023272182,
          0.8408204273071735,
          0.8413098984320717,
          0.8410979388999908,
          0.8427883438523329,
          0.8423369327879446,
          0.8451648874313216,
          0.8488421398185316,
          0.8460101337304681,
          0.8452664057737362,
          0.8486471606584817,
          0.8478592815392676,
          0.8472515842312807,
          0.8464061525418174,
          0.8467963316630556,
          0.8458789604535715,
          0.8462523663917746,
          0.8475000074278647,
          0.84671152413939,
          0.8502810541847065,
          0.848534198240771,
          0.8502859732130821,
          0.8527206939268033,
          0.8501698875374712,
          0.8491256396410539,
          0.8480905440662396,
          0.8485371131936058,
          0.8493291580557346,
          0.8499890966886543,
          0.8498893341300515,
          0.8505173572464275,
          0.8499590564671913,
          0.8518120466728722,
          0.852877845009202,
          0.8516218199279443,
          0.8519982505930193,
          0.8504685942645838,
          0.8521227313854247,
          0.8501811711648789,
          0.8502435932809156,
          0.8523814325079678,
          0.8513889057308894,
          0.8514510140410088,
          0.8501585959676671,
          0.8504120296388741,
          0.8504506919346323,
          0.850741874743176,
          0.8503383942554401,
          0.8534279514005392,
          0.8510273587481635,
          0.852601170698867,
          0.8522345927247233,
          0.8509606508071201,
          0.8509997887589346,
          0.8511406383571493,
          0.8510756911063941,
          0.8523793227881442,
          0.8525585036836865,
          0.8522550469443001,
          0.8515292113238704,
          0.8533771570875036,
          0.8523111099064187,
          0.852520385348041,
          0.8526138446282535,
          0.8531533976102582,
          0.8536571946587622,
          0.8532679423949133,
          0.8537160576772085,
          0.8542571722368676,
          0.8530954305897595,
          0.8531081773429811,
          0.8540330530928962,
          0.8535739084841392,
          0.8545173786417722,
          0.8526015633616196,
          0.8535143099962845,
          0.8536675132779434,
          0.8535960565252372,
          0.8545674141277367,
          0.8537846535515071,
          0.8543463827365839,
          0.8535954783674515,
          0.8537229527025093,
          0.8536967154414049,
          0.8540595426006871,
          0.8550848487805748,
          0.8547665909950936,
          0.8545908838580782,
          0.8542160915703169,
          0.8543742733469812,
          0.8548019119614612,
          0.85457681592557,
          0.854015445591875,
          0.8539267712455517,
          0.8551912740468325,
          0.8547099588628091,
          0.8548258826615007,
          0.8552629881966667,
          0.855520450841255,
          0.8551875952092323,
          0.8551962200225922,
          0.8550450297914212,
          0.8549207925409574,
          0.8547858428351373,
          0.855127246310012,
          0.855847169032678,
          0.8552662055830185,
          0.8553251305707922,
          0.8558421820838098,
          0.855202006792551,
          0.8559770040640584,
          0.8553646311177451,
          0.8554124220332534,
          0.8548094774211086,
          0.855006418480854,
          0.8550410695204733,
          0.8560506786708029,
          0.8554178673016537,
          0.8549786171733252,
          0.8541792511497284,
          0.8547822079958823,
          0.8551746796056015,
          0.8549097725231795,
          0.8552998076897862,
          0.8559824239158852,
          0.8546405285475668,
          0.8552941807940303,
          0.8553703607094298,
          0.8554384045643816,
          0.8549872548978085,
          0.8553220441598264,
          0.8551294393194778,
          0.8565780173279044,
          0.8572592832248164,
          0.8565174014608881,
          0.8557107732240121,
          0.8560993298550978,
          0.8559764426057258,
          0.8564257884036409,
          0.8563108902469875,
          0.8570102462871791,
          0.8560896131436416,
          0.8559289175417837,
          0.8560580988857142,
          0.8559279446955189,
          0.8555894655517388,
          0.8561742277534844,
          0.8557050957448563,
          0.8567224446219689,
          0.857214663196911,
          0.8567606227807432,
          0.8567193973768842,
          0.856109843677624,
          0.8570865133891057,
          0.8568104655268477,
          0.8565807611751856,
          0.8564260866969927,
          0.8561261134626938,
          0.8563225637206642,
          0.857143918706423,
          0.8563791990105609,
          0.8568743295474361,
          0.8570957165010703,
          0.8567260272543666,
          0.8566783110623026,
          0.8573251963677642,
          0.856689181324091,
          0.8574930749481696,
          0.8576890956705835
         ],
         "yaxis": "y2"
        }
       ],
       "layout": {
        "height": 400,
        "template": {
         "data": {
          "bar": [
           {
            "error_x": {
             "color": "#2a3f5f"
            },
            "error_y": {
             "color": "#2a3f5f"
            },
            "marker": {
             "line": {
              "color": "#E5ECF6",
              "width": 0.5
             }
            },
            "type": "bar"
           }
          ],
          "barpolar": [
           {
            "marker": {
             "line": {
              "color": "#E5ECF6",
              "width": 0.5
             }
            },
            "type": "barpolar"
           }
          ],
          "carpet": [
           {
            "aaxis": {
             "endlinecolor": "#2a3f5f",
             "gridcolor": "white",
             "linecolor": "white",
             "minorgridcolor": "white",
             "startlinecolor": "#2a3f5f"
            },
            "baxis": {
             "endlinecolor": "#2a3f5f",
             "gridcolor": "white",
             "linecolor": "white",
             "minorgridcolor": "white",
             "startlinecolor": "#2a3f5f"
            },
            "type": "carpet"
           }
          ],
          "choropleth": [
           {
            "colorbar": {
             "outlinewidth": 0,
             "ticks": ""
            },
            "type": "choropleth"
           }
          ],
          "contour": [
           {
            "colorbar": {
             "outlinewidth": 0,
             "ticks": ""
            },
            "colorscale": [
             [
              0,
              "#0d0887"
             ],
             [
              0.1111111111111111,
              "#46039f"
             ],
             [
              0.2222222222222222,
              "#7201a8"
             ],
             [
              0.3333333333333333,
              "#9c179e"
             ],
             [
              0.4444444444444444,
              "#bd3786"
             ],
             [
              0.5555555555555556,
              "#d8576b"
             ],
             [
              0.6666666666666666,
              "#ed7953"
             ],
             [
              0.7777777777777778,
              "#fb9f3a"
             ],
             [
              0.8888888888888888,
              "#fdca26"
             ],
             [
              1,
              "#f0f921"
             ]
            ],
            "type": "contour"
           }
          ],
          "contourcarpet": [
           {
            "colorbar": {
             "outlinewidth": 0,
             "ticks": ""
            },
            "type": "contourcarpet"
           }
          ],
          "heatmap": [
           {
            "colorbar": {
             "outlinewidth": 0,
             "ticks": ""
            },
            "colorscale": [
             [
              0,
              "#0d0887"
             ],
             [
              0.1111111111111111,
              "#46039f"
             ],
             [
              0.2222222222222222,
              "#7201a8"
             ],
             [
              0.3333333333333333,
              "#9c179e"
             ],
             [
              0.4444444444444444,
              "#bd3786"
             ],
             [
              0.5555555555555556,
              "#d8576b"
             ],
             [
              0.6666666666666666,
              "#ed7953"
             ],
             [
              0.7777777777777778,
              "#fb9f3a"
             ],
             [
              0.8888888888888888,
              "#fdca26"
             ],
             [
              1,
              "#f0f921"
             ]
            ],
            "type": "heatmap"
           }
          ],
          "heatmapgl": [
           {
            "colorbar": {
             "outlinewidth": 0,
             "ticks": ""
            },
            "colorscale": [
             [
              0,
              "#0d0887"
             ],
             [
              0.1111111111111111,
              "#46039f"
             ],
             [
              0.2222222222222222,
              "#7201a8"
             ],
             [
              0.3333333333333333,
              "#9c179e"
             ],
             [
              0.4444444444444444,
              "#bd3786"
             ],
             [
              0.5555555555555556,
              "#d8576b"
             ],
             [
              0.6666666666666666,
              "#ed7953"
             ],
             [
              0.7777777777777778,
              "#fb9f3a"
             ],
             [
              0.8888888888888888,
              "#fdca26"
             ],
             [
              1,
              "#f0f921"
             ]
            ],
            "type": "heatmapgl"
           }
          ],
          "histogram": [
           {
            "marker": {
             "colorbar": {
              "outlinewidth": 0,
              "ticks": ""
             }
            },
            "type": "histogram"
           }
          ],
          "histogram2d": [
           {
            "colorbar": {
             "outlinewidth": 0,
             "ticks": ""
            },
            "colorscale": [
             [
              0,
              "#0d0887"
             ],
             [
              0.1111111111111111,
              "#46039f"
             ],
             [
              0.2222222222222222,
              "#7201a8"
             ],
             [
              0.3333333333333333,
              "#9c179e"
             ],
             [
              0.4444444444444444,
              "#bd3786"
             ],
             [
              0.5555555555555556,
              "#d8576b"
             ],
             [
              0.6666666666666666,
              "#ed7953"
             ],
             [
              0.7777777777777778,
              "#fb9f3a"
             ],
             [
              0.8888888888888888,
              "#fdca26"
             ],
             [
              1,
              "#f0f921"
             ]
            ],
            "type": "histogram2d"
           }
          ],
          "histogram2dcontour": [
           {
            "colorbar": {
             "outlinewidth": 0,
             "ticks": ""
            },
            "colorscale": [
             [
              0,
              "#0d0887"
             ],
             [
              0.1111111111111111,
              "#46039f"
             ],
             [
              0.2222222222222222,
              "#7201a8"
             ],
             [
              0.3333333333333333,
              "#9c179e"
             ],
             [
              0.4444444444444444,
              "#bd3786"
             ],
             [
              0.5555555555555556,
              "#d8576b"
             ],
             [
              0.6666666666666666,
              "#ed7953"
             ],
             [
              0.7777777777777778,
              "#fb9f3a"
             ],
             [
              0.8888888888888888,
              "#fdca26"
             ],
             [
              1,
              "#f0f921"
             ]
            ],
            "type": "histogram2dcontour"
           }
          ],
          "mesh3d": [
           {
            "colorbar": {
             "outlinewidth": 0,
             "ticks": ""
            },
            "type": "mesh3d"
           }
          ],
          "parcoords": [
           {
            "line": {
             "colorbar": {
              "outlinewidth": 0,
              "ticks": ""
             }
            },
            "type": "parcoords"
           }
          ],
          "pie": [
           {
            "automargin": true,
            "type": "pie"
           }
          ],
          "scatter": [
           {
            "marker": {
             "colorbar": {
              "outlinewidth": 0,
              "ticks": ""
             }
            },
            "type": "scatter"
           }
          ],
          "scatter3d": [
           {
            "line": {
             "colorbar": {
              "outlinewidth": 0,
              "ticks": ""
             }
            },
            "marker": {
             "colorbar": {
              "outlinewidth": 0,
              "ticks": ""
             }
            },
            "type": "scatter3d"
           }
          ],
          "scattercarpet": [
           {
            "marker": {
             "colorbar": {
              "outlinewidth": 0,
              "ticks": ""
             }
            },
            "type": "scattercarpet"
           }
          ],
          "scattergeo": [
           {
            "marker": {
             "colorbar": {
              "outlinewidth": 0,
              "ticks": ""
             }
            },
            "type": "scattergeo"
           }
          ],
          "scattergl": [
           {
            "marker": {
             "colorbar": {
              "outlinewidth": 0,
              "ticks": ""
             }
            },
            "type": "scattergl"
           }
          ],
          "scattermapbox": [
           {
            "marker": {
             "colorbar": {
              "outlinewidth": 0,
              "ticks": ""
             }
            },
            "type": "scattermapbox"
           }
          ],
          "scatterpolar": [
           {
            "marker": {
             "colorbar": {
              "outlinewidth": 0,
              "ticks": ""
             }
            },
            "type": "scatterpolar"
           }
          ],
          "scatterpolargl": [
           {
            "marker": {
             "colorbar": {
              "outlinewidth": 0,
              "ticks": ""
             }
            },
            "type": "scatterpolargl"
           }
          ],
          "scatterternary": [
           {
            "marker": {
             "colorbar": {
              "outlinewidth": 0,
              "ticks": ""
             }
            },
            "type": "scatterternary"
           }
          ],
          "surface": [
           {
            "colorbar": {
             "outlinewidth": 0,
             "ticks": ""
            },
            "colorscale": [
             [
              0,
              "#0d0887"
             ],
             [
              0.1111111111111111,
              "#46039f"
             ],
             [
              0.2222222222222222,
              "#7201a8"
             ],
             [
              0.3333333333333333,
              "#9c179e"
             ],
             [
              0.4444444444444444,
              "#bd3786"
             ],
             [
              0.5555555555555556,
              "#d8576b"
             ],
             [
              0.6666666666666666,
              "#ed7953"
             ],
             [
              0.7777777777777778,
              "#fb9f3a"
             ],
             [
              0.8888888888888888,
              "#fdca26"
             ],
             [
              1,
              "#f0f921"
             ]
            ],
            "type": "surface"
           }
          ],
          "table": [
           {
            "cells": {
             "fill": {
              "color": "#EBF0F8"
             },
             "line": {
              "color": "white"
             }
            },
            "header": {
             "fill": {
              "color": "#C8D4E3"
             },
             "line": {
              "color": "white"
             }
            },
            "type": "table"
           }
          ]
         },
         "layout": {
          "annotationdefaults": {
           "arrowcolor": "#2a3f5f",
           "arrowhead": 0,
           "arrowwidth": 1
          },
          "coloraxis": {
           "colorbar": {
            "outlinewidth": 0,
            "ticks": ""
           }
          },
          "colorscale": {
           "diverging": [
            [
             0,
             "#8e0152"
            ],
            [
             0.1,
             "#c51b7d"
            ],
            [
             0.2,
             "#de77ae"
            ],
            [
             0.3,
             "#f1b6da"
            ],
            [
             0.4,
             "#fde0ef"
            ],
            [
             0.5,
             "#f7f7f7"
            ],
            [
             0.6,
             "#e6f5d0"
            ],
            [
             0.7,
             "#b8e186"
            ],
            [
             0.8,
             "#7fbc41"
            ],
            [
             0.9,
             "#4d9221"
            ],
            [
             1,
             "#276419"
            ]
           ],
           "sequential": [
            [
             0,
             "#0d0887"
            ],
            [
             0.1111111111111111,
             "#46039f"
            ],
            [
             0.2222222222222222,
             "#7201a8"
            ],
            [
             0.3333333333333333,
             "#9c179e"
            ],
            [
             0.4444444444444444,
             "#bd3786"
            ],
            [
             0.5555555555555556,
             "#d8576b"
            ],
            [
             0.6666666666666666,
             "#ed7953"
            ],
            [
             0.7777777777777778,
             "#fb9f3a"
            ],
            [
             0.8888888888888888,
             "#fdca26"
            ],
            [
             1,
             "#f0f921"
            ]
           ],
           "sequentialminus": [
            [
             0,
             "#0d0887"
            ],
            [
             0.1111111111111111,
             "#46039f"
            ],
            [
             0.2222222222222222,
             "#7201a8"
            ],
            [
             0.3333333333333333,
             "#9c179e"
            ],
            [
             0.4444444444444444,
             "#bd3786"
            ],
            [
             0.5555555555555556,
             "#d8576b"
            ],
            [
             0.6666666666666666,
             "#ed7953"
            ],
            [
             0.7777777777777778,
             "#fb9f3a"
            ],
            [
             0.8888888888888888,
             "#fdca26"
            ],
            [
             1,
             "#f0f921"
            ]
           ]
          },
          "colorway": [
           "#636efa",
           "#EF553B",
           "#00cc96",
           "#ab63fa",
           "#FFA15A",
           "#19d3f3",
           "#FF6692",
           "#B6E880",
           "#FF97FF",
           "#FECB52"
          ],
          "font": {
           "color": "#2a3f5f"
          },
          "geo": {
           "bgcolor": "white",
           "lakecolor": "white",
           "landcolor": "#E5ECF6",
           "showlakes": true,
           "showland": true,
           "subunitcolor": "white"
          },
          "hoverlabel": {
           "align": "left"
          },
          "hovermode": "closest",
          "mapbox": {
           "style": "light"
          },
          "paper_bgcolor": "white",
          "plot_bgcolor": "#E5ECF6",
          "polar": {
           "angularaxis": {
            "gridcolor": "white",
            "linecolor": "white",
            "ticks": ""
           },
           "bgcolor": "#E5ECF6",
           "radialaxis": {
            "gridcolor": "white",
            "linecolor": "white",
            "ticks": ""
           }
          },
          "scene": {
           "xaxis": {
            "backgroundcolor": "#E5ECF6",
            "gridcolor": "white",
            "gridwidth": 2,
            "linecolor": "white",
            "showbackground": true,
            "ticks": "",
            "zerolinecolor": "white"
           },
           "yaxis": {
            "backgroundcolor": "#E5ECF6",
            "gridcolor": "white",
            "gridwidth": 2,
            "linecolor": "white",
            "showbackground": true,
            "ticks": "",
            "zerolinecolor": "white"
           },
           "zaxis": {
            "backgroundcolor": "#E5ECF6",
            "gridcolor": "white",
            "gridwidth": 2,
            "linecolor": "white",
            "showbackground": true,
            "ticks": "",
            "zerolinecolor": "white"
           }
          },
          "shapedefaults": {
           "line": {
            "color": "#2a3f5f"
           }
          },
          "ternary": {
           "aaxis": {
            "gridcolor": "white",
            "linecolor": "white",
            "ticks": ""
           },
           "baxis": {
            "gridcolor": "white",
            "linecolor": "white",
            "ticks": ""
           },
           "bgcolor": "#E5ECF6",
           "caxis": {
            "gridcolor": "white",
            "linecolor": "white",
            "ticks": ""
           }
          },
          "title": {
           "x": 0.05
          },
          "xaxis": {
           "automargin": true,
           "gridcolor": "white",
           "linecolor": "white",
           "ticks": "",
           "title": {
            "standoff": 15
           },
           "zerolinecolor": "white",
           "zerolinewidth": 2
          },
          "yaxis": {
           "automargin": true,
           "gridcolor": "white",
           "linecolor": "white",
           "ticks": "",
           "title": {
            "standoff": 15
           },
           "zerolinecolor": "white",
           "zerolinewidth": 2
          }
         }
        },
        "title": {
         "text": "Validation performance by epoch of training<br>"
        },
        "width": 700,
        "xaxis": {
         "anchor": "y",
         "domain": [
          0,
          0.94
         ],
         "title": {
          "text": "epoch"
         }
        },
        "yaxis": {
         "anchor": "x",
         "domain": [
          0,
          1
         ],
         "title": {
          "text": "performance"
         }
        },
        "yaxis2": {
         "anchor": "x",
         "overlaying": "y",
         "side": "right"
        }
       }
      },
      "text/html": [
       "<div>\n",
       "        \n",
       "        \n",
       "            <div id=\"6fffd44a-bfae-4b35-80c4-800120e7bb34\" class=\"plotly-graph-div\" style=\"height:400px; width:700px;\"></div>\n",
       "            <script type=\"text/javascript\">\n",
       "                require([\"plotly\"], function(Plotly) {\n",
       "                    window.PLOTLYENV=window.PLOTLYENV || {};\n",
       "                    \n",
       "                if (document.getElementById(\"6fffd44a-bfae-4b35-80c4-800120e7bb34\")) {\n",
       "                    Plotly.newPlot(\n",
       "                        '6fffd44a-bfae-4b35-80c4-800120e7bb34',\n",
       "                        [{\"hovertemplate\": \"ROC-AUC = %{y:.4f}<br>epoch = %{x}<br>\", \"name\": \"Val ROC-AUC\", \"type\": \"scatter\", \"x\": [1, 2, 3, 4, 5, 6, 7, 8, 9, 10, 11, 12, 13, 14, 15, 16, 17, 18, 19, 20, 21, 22, 23, 24, 25, 26, 27, 28, 29, 30, 31, 32, 33, 34, 35, 36, 37, 38, 39, 40, 41, 42, 43, 44, 45, 46, 47, 48, 49, 50, 51, 52, 53, 54, 55, 56, 57, 58, 59, 60, 61, 62, 63, 64, 65, 66, 67, 68, 69, 70, 71, 72, 73, 74, 75, 76, 77, 78, 79, 80, 81, 82, 83, 84, 85, 86, 87, 88, 89, 90, 91, 92, 93, 94, 95, 96, 97, 98, 99, 100, 101, 102, 103, 104, 105, 106, 107, 108, 109, 110, 111, 112, 113, 114, 115, 116, 117, 118, 119, 120, 121, 122, 123, 124, 125, 126, 127, 128, 129, 130, 131, 132, 133, 134, 135, 136, 137, 138, 139, 140, 141, 142, 143, 144, 145, 146, 147, 148, 149, 150, 151, 152, 153, 154, 155, 156, 157, 158, 159, 160, 161, 162, 163, 164, 165, 166, 167, 168, 169, 170, 171, 172, 173, 174, 175, 176, 177, 178, 179, 180, 181, 182, 183, 184, 185, 186, 187, 188, 189, 190, 191, 192, 193, 194, 195, 196, 197, 198, 199, 200], \"xaxis\": \"x\", \"y\": [0.9220168814801479, 0.9354331042224882, 0.9410482615464453, 0.9458738866589709, 0.9510368236552535, 0.9535007360494795, 0.956687459623185, 0.9588876650816008, 0.9612567912478951, 0.9629835950986518, 0.9649968757612022, 0.9661745549283545, 0.9671017654596867, 0.9684631922307065, 0.968590279910615, 0.9688608707624202, 0.9676879573832646, 0.9689577751183504, 0.9693739872700509, 0.9703112589093759, 0.9696938245978204, 0.9695365535939338, 0.9699564724696313, 0.9700205458415851, 0.9696906474058227, 0.9698812789256854, 0.9696562278258476, 0.9699622973216272, 0.9701132139415185, 0.970730648253074, 0.9702593647734132, 0.9702212384694407, 0.9704891816612478, 0.9703393241053555, 0.9708868601929613, 0.9712898340446713, 0.9713173697086516, 0.9712485305487011, 0.9715598953644767, 0.9711447422767758, 0.9713194878366499, 0.9709615242049077, 0.9709032756849496, 0.9705887336771761, 0.9705553731612002, 0.9706030310411659, 0.9704605869332684, 0.970419283437298, 0.97102771570486, 0.9709927665928851, 0.9707910149010305, 0.9710605466888365, 0.9711203838047934, 0.9711871048367453, 0.9708836830009637, 0.971148449000773, 0.9709715853129004, 0.9707518295330587, 0.9712718299566842, 0.9712029907967339, 0.9714169217245798, 0.9709774101648962, 0.9710409540048505, 0.9714476345805577, 0.971067960136831, 0.970738591233068, 0.9706215646611525, 0.9708948031729557, 0.9713406691166346, 0.9711966364127385, 0.9708302002690022, 0.9708270230770045, 0.9707317073170733, 0.9707200576130816, 0.9706395687491396, 0.9706644567531215, 0.9707020535250945, 0.9709488154369169, 0.9706400982811392, 0.9708037236690213, 0.9705897927411753, 0.9709085710049458, 0.9707370026370694, 0.9706363915571418, 0.9706035605731655, 0.9709308113489298, 0.9709498745009161, 0.9705574912891985, 0.9707158213570846, 0.9709096300689449, 0.9707756584730415, 0.9707761880050412, 0.9709710557809008, 0.9712527668046981, 0.9709530516929138, 0.9707910149010304, 0.9708423795049936, 0.9709816464208932, 0.970864090316978, 0.9707433570210648, 0.9708863306609619, 0.9709244569649345, 0.9706702816051174, 0.9706814017771093, 0.9708439681009924, 0.9707698336210457, 0.9708926850449572, 0.9709207502409372, 0.9710822575008207, 0.9711733370047552, 0.9709202207089375, 0.9709122777289431, 0.9707031125890938, 0.9709239274329348, 0.9709286932209313, 0.970758183917054, 0.9707507704690594, 0.9707158213570847, 0.970942990584921, 0.9709392838609237, 0.9703769208773286, 0.9710774917128242, 0.9707465342130625, 0.9705326032852165, 0.9708143143090137, 0.9709286932209313, 0.9707274710610763, 0.9710769621808245, 0.9710557809008398, 0.9711627463647627, 0.9710748440528261, 0.9710716668608285, 0.970844497632992, 0.9711510966607712, 0.9712707708926851, 0.9712315855247132, 0.9709625832689068, 0.970990118932887, 0.9708905669169587, 0.970980587356894, 0.9708704447009733, 0.9707989578810248, 0.9708651493809771, 0.9710759031168253, 0.9707539476610572, 0.9704701185092615, 0.9706978172690975, 0.9706681634771189, 0.9707094669730892, 0.970913866324942, 0.9707115851010877, 0.97061097402116, 0.9706247418531502, 0.9709848236128908, 0.9709075119409464, 0.9707920739650296, 0.9708418499729938, 0.9710674306048315, 0.9709721148449001, 0.970862501720979, 0.970866737976976, 0.9709615242049077, 0.9710028277008779, 0.9708948031729557, 0.9706904038211029, 0.970829141205003, 0.9711119112927994, 0.9710695487328299, 0.9709858826768901, 0.9710091820848734, 0.9708948031729557, 0.9709350476049268, 0.9709038052169493, 0.9708397318449954, 0.9711235609967911, 0.9710621352848354, 0.9709932961248848, 0.9712199358207217, 0.9713131334526546, 0.9713057200046599, 0.9712654755726888, 0.9712231130127194, 0.971176514196753, 0.9711881639007445, 0.9713682047806149, 0.9713618503966194, 0.9712961884286667, 0.9713491416286286, 0.9710621352848352, 0.9711743960687544, 0.9711955773487392, 0.9712771252766805, 0.9711998136047361, 0.9713660866526165, 0.9713756182286095, 0.9713809135486057, 0.9714264533005729, 0.971163805428762, 0.9711606282367645, 0.9716086123084419], \"yaxis\": \"y\"}, {\"hovertemplate\": \"Avg precision = %{y:.4f}<br>epoch = %{x}<br>\", \"marker\": {\"color\": \"orange\"}, \"mode\": \"lines\", \"name\": \"Val avg precision\", \"type\": \"scatter\", \"x\": [1, 2, 3, 4, 5, 6, 7, 8, 9, 10, 11, 12, 13, 14, 15, 16, 17, 18, 19, 20, 21, 22, 23, 24, 25, 26, 27, 28, 29, 30, 31, 32, 33, 34, 35, 36, 37, 38, 39, 40, 41, 42, 43, 44, 45, 46, 47, 48, 49, 50, 51, 52, 53, 54, 55, 56, 57, 58, 59, 60, 61, 62, 63, 64, 65, 66, 67, 68, 69, 70, 71, 72, 73, 74, 75, 76, 77, 78, 79, 80, 81, 82, 83, 84, 85, 86, 87, 88, 89, 90, 91, 92, 93, 94, 95, 96, 97, 98, 99, 100, 101, 102, 103, 104, 105, 106, 107, 108, 109, 110, 111, 112, 113, 114, 115, 116, 117, 118, 119, 120, 121, 122, 123, 124, 125, 126, 127, 128, 129, 130, 131, 132, 133, 134, 135, 136, 137, 138, 139, 140, 141, 142, 143, 144, 145, 146, 147, 148, 149, 150, 151, 152, 153, 154, 155, 156, 157, 158, 159, 160, 161, 162, 163, 164, 165, 166, 167, 168, 169, 170, 171, 172, 173, 174, 175, 176, 177, 178, 179, 180, 181, 182, 183, 184, 185, 186, 187, 188, 189, 190, 191, 192, 193, 194, 195, 196, 197, 198, 199, 200], \"xaxis\": \"x\", \"y\": [0.6289589982320309, 0.7294737922948318, 0.7738016816036498, 0.7930852295456059, 0.814607027066613, 0.8232122668283184, 0.8243138719163718, 0.8290782441178075, 0.8309376812706468, 0.8310424852888436, 0.8321385247629913, 0.8363353378841291, 0.8359546559348562, 0.8359821782009357, 0.8382011989873985, 0.8353459471383436, 0.8354574251993275, 0.8406182965082447, 0.8372471254683372, 0.8425959999188156, 0.840773261120339, 0.8391024889372938, 0.8413919516563306, 0.8315010867008601, 0.8392774417663217, 0.8338614354113819, 0.8368734168586904, 0.8345482216374115, 0.8347212955298658, 0.8329603672088588, 0.8377158163016843, 0.8380989023272182, 0.8408204273071735, 0.8413098984320717, 0.8410979388999908, 0.8427883438523329, 0.8423369327879446, 0.8451648874313216, 0.8488421398185316, 0.8460101337304681, 0.8452664057737362, 0.8486471606584817, 0.8478592815392676, 0.8472515842312807, 0.8464061525418174, 0.8467963316630556, 0.8458789604535715, 0.8462523663917746, 0.8475000074278647, 0.84671152413939, 0.8502810541847065, 0.848534198240771, 0.8502859732130821, 0.8527206939268033, 0.8501698875374712, 0.8491256396410539, 0.8480905440662396, 0.8485371131936058, 0.8493291580557346, 0.8499890966886543, 0.8498893341300515, 0.8505173572464275, 0.8499590564671913, 0.8518120466728722, 0.852877845009202, 0.8516218199279443, 0.8519982505930193, 0.8504685942645838, 0.8521227313854247, 0.8501811711648789, 0.8502435932809156, 0.8523814325079678, 0.8513889057308894, 0.8514510140410088, 0.8501585959676671, 0.8504120296388741, 0.8504506919346323, 0.850741874743176, 0.8503383942554401, 0.8534279514005392, 0.8510273587481635, 0.852601170698867, 0.8522345927247233, 0.8509606508071201, 0.8509997887589346, 0.8511406383571493, 0.8510756911063941, 0.8523793227881442, 0.8525585036836865, 0.8522550469443001, 0.8515292113238704, 0.8533771570875036, 0.8523111099064187, 0.852520385348041, 0.8526138446282535, 0.8531533976102582, 0.8536571946587622, 0.8532679423949133, 0.8537160576772085, 0.8542571722368676, 0.8530954305897595, 0.8531081773429811, 0.8540330530928962, 0.8535739084841392, 0.8545173786417722, 0.8526015633616196, 0.8535143099962845, 0.8536675132779434, 0.8535960565252372, 0.8545674141277367, 0.8537846535515071, 0.8543463827365839, 0.8535954783674515, 0.8537229527025093, 0.8536967154414049, 0.8540595426006871, 0.8550848487805748, 0.8547665909950936, 0.8545908838580782, 0.8542160915703169, 0.8543742733469812, 0.8548019119614612, 0.85457681592557, 0.854015445591875, 0.8539267712455517, 0.8551912740468325, 0.8547099588628091, 0.8548258826615007, 0.8552629881966667, 0.855520450841255, 0.8551875952092323, 0.8551962200225922, 0.8550450297914212, 0.8549207925409574, 0.8547858428351373, 0.855127246310012, 0.855847169032678, 0.8552662055830185, 0.8553251305707922, 0.8558421820838098, 0.855202006792551, 0.8559770040640584, 0.8553646311177451, 0.8554124220332534, 0.8548094774211086, 0.855006418480854, 0.8550410695204733, 0.8560506786708029, 0.8554178673016537, 0.8549786171733252, 0.8541792511497284, 0.8547822079958823, 0.8551746796056015, 0.8549097725231795, 0.8552998076897862, 0.8559824239158852, 0.8546405285475668, 0.8552941807940303, 0.8553703607094298, 0.8554384045643816, 0.8549872548978085, 0.8553220441598264, 0.8551294393194778, 0.8565780173279044, 0.8572592832248164, 0.8565174014608881, 0.8557107732240121, 0.8560993298550978, 0.8559764426057258, 0.8564257884036409, 0.8563108902469875, 0.8570102462871791, 0.8560896131436416, 0.8559289175417837, 0.8560580988857142, 0.8559279446955189, 0.8555894655517388, 0.8561742277534844, 0.8557050957448563, 0.8567224446219689, 0.857214663196911, 0.8567606227807432, 0.8567193973768842, 0.856109843677624, 0.8570865133891057, 0.8568104655268477, 0.8565807611751856, 0.8564260866969927, 0.8561261134626938, 0.8563225637206642, 0.857143918706423, 0.8563791990105609, 0.8568743295474361, 0.8570957165010703, 0.8567260272543666, 0.8566783110623026, 0.8573251963677642, 0.856689181324091, 0.8574930749481696, 0.8576890956705835], \"yaxis\": \"y2\"}],\n",
       "                        {\"height\": 400, \"template\": {\"data\": {\"bar\": [{\"error_x\": {\"color\": \"#2a3f5f\"}, \"error_y\": {\"color\": \"#2a3f5f\"}, \"marker\": {\"line\": {\"color\": \"#E5ECF6\", \"width\": 0.5}}, \"type\": \"bar\"}], \"barpolar\": [{\"marker\": {\"line\": {\"color\": \"#E5ECF6\", \"width\": 0.5}}, \"type\": \"barpolar\"}], \"carpet\": [{\"aaxis\": {\"endlinecolor\": \"#2a3f5f\", \"gridcolor\": \"white\", \"linecolor\": \"white\", \"minorgridcolor\": \"white\", \"startlinecolor\": \"#2a3f5f\"}, \"baxis\": {\"endlinecolor\": \"#2a3f5f\", \"gridcolor\": \"white\", \"linecolor\": \"white\", \"minorgridcolor\": \"white\", \"startlinecolor\": \"#2a3f5f\"}, \"type\": \"carpet\"}], \"choropleth\": [{\"colorbar\": {\"outlinewidth\": 0, \"ticks\": \"\"}, \"type\": \"choropleth\"}], \"contour\": [{\"colorbar\": {\"outlinewidth\": 0, \"ticks\": \"\"}, \"colorscale\": [[0.0, \"#0d0887\"], [0.1111111111111111, \"#46039f\"], [0.2222222222222222, \"#7201a8\"], [0.3333333333333333, \"#9c179e\"], [0.4444444444444444, \"#bd3786\"], [0.5555555555555556, \"#d8576b\"], [0.6666666666666666, \"#ed7953\"], [0.7777777777777778, \"#fb9f3a\"], [0.8888888888888888, \"#fdca26\"], [1.0, \"#f0f921\"]], \"type\": \"contour\"}], \"contourcarpet\": [{\"colorbar\": {\"outlinewidth\": 0, \"ticks\": \"\"}, \"type\": \"contourcarpet\"}], \"heatmap\": [{\"colorbar\": {\"outlinewidth\": 0, \"ticks\": \"\"}, \"colorscale\": [[0.0, \"#0d0887\"], [0.1111111111111111, \"#46039f\"], [0.2222222222222222, \"#7201a8\"], [0.3333333333333333, \"#9c179e\"], [0.4444444444444444, \"#bd3786\"], [0.5555555555555556, \"#d8576b\"], [0.6666666666666666, \"#ed7953\"], [0.7777777777777778, \"#fb9f3a\"], [0.8888888888888888, \"#fdca26\"], [1.0, \"#f0f921\"]], \"type\": \"heatmap\"}], \"heatmapgl\": [{\"colorbar\": {\"outlinewidth\": 0, \"ticks\": \"\"}, \"colorscale\": [[0.0, \"#0d0887\"], [0.1111111111111111, \"#46039f\"], [0.2222222222222222, \"#7201a8\"], [0.3333333333333333, \"#9c179e\"], [0.4444444444444444, \"#bd3786\"], [0.5555555555555556, \"#d8576b\"], [0.6666666666666666, \"#ed7953\"], [0.7777777777777778, \"#fb9f3a\"], [0.8888888888888888, \"#fdca26\"], [1.0, \"#f0f921\"]], \"type\": \"heatmapgl\"}], \"histogram\": [{\"marker\": {\"colorbar\": {\"outlinewidth\": 0, \"ticks\": \"\"}}, \"type\": \"histogram\"}], \"histogram2d\": [{\"colorbar\": {\"outlinewidth\": 0, \"ticks\": \"\"}, \"colorscale\": [[0.0, \"#0d0887\"], [0.1111111111111111, \"#46039f\"], [0.2222222222222222, \"#7201a8\"], [0.3333333333333333, \"#9c179e\"], [0.4444444444444444, \"#bd3786\"], [0.5555555555555556, \"#d8576b\"], [0.6666666666666666, \"#ed7953\"], [0.7777777777777778, \"#fb9f3a\"], [0.8888888888888888, \"#fdca26\"], [1.0, \"#f0f921\"]], \"type\": \"histogram2d\"}], \"histogram2dcontour\": [{\"colorbar\": {\"outlinewidth\": 0, \"ticks\": \"\"}, \"colorscale\": [[0.0, \"#0d0887\"], [0.1111111111111111, \"#46039f\"], [0.2222222222222222, \"#7201a8\"], [0.3333333333333333, \"#9c179e\"], [0.4444444444444444, \"#bd3786\"], [0.5555555555555556, \"#d8576b\"], [0.6666666666666666, \"#ed7953\"], [0.7777777777777778, \"#fb9f3a\"], [0.8888888888888888, \"#fdca26\"], [1.0, \"#f0f921\"]], \"type\": \"histogram2dcontour\"}], \"mesh3d\": [{\"colorbar\": {\"outlinewidth\": 0, \"ticks\": \"\"}, \"type\": \"mesh3d\"}], \"parcoords\": [{\"line\": {\"colorbar\": {\"outlinewidth\": 0, \"ticks\": \"\"}}, \"type\": \"parcoords\"}], \"pie\": [{\"automargin\": true, \"type\": \"pie\"}], \"scatter\": [{\"marker\": {\"colorbar\": {\"outlinewidth\": 0, \"ticks\": \"\"}}, \"type\": \"scatter\"}], \"scatter3d\": [{\"line\": {\"colorbar\": {\"outlinewidth\": 0, \"ticks\": \"\"}}, \"marker\": {\"colorbar\": {\"outlinewidth\": 0, \"ticks\": \"\"}}, \"type\": \"scatter3d\"}], \"scattercarpet\": [{\"marker\": {\"colorbar\": {\"outlinewidth\": 0, \"ticks\": \"\"}}, \"type\": \"scattercarpet\"}], \"scattergeo\": [{\"marker\": {\"colorbar\": {\"outlinewidth\": 0, \"ticks\": \"\"}}, \"type\": \"scattergeo\"}], \"scattergl\": [{\"marker\": {\"colorbar\": {\"outlinewidth\": 0, \"ticks\": \"\"}}, \"type\": \"scattergl\"}], \"scattermapbox\": [{\"marker\": {\"colorbar\": {\"outlinewidth\": 0, \"ticks\": \"\"}}, \"type\": \"scattermapbox\"}], \"scatterpolar\": [{\"marker\": {\"colorbar\": {\"outlinewidth\": 0, \"ticks\": \"\"}}, \"type\": \"scatterpolar\"}], \"scatterpolargl\": [{\"marker\": {\"colorbar\": {\"outlinewidth\": 0, \"ticks\": \"\"}}, \"type\": \"scatterpolargl\"}], \"scatterternary\": [{\"marker\": {\"colorbar\": {\"outlinewidth\": 0, \"ticks\": \"\"}}, \"type\": \"scatterternary\"}], \"surface\": [{\"colorbar\": {\"outlinewidth\": 0, \"ticks\": \"\"}, \"colorscale\": [[0.0, \"#0d0887\"], [0.1111111111111111, \"#46039f\"], [0.2222222222222222, \"#7201a8\"], [0.3333333333333333, \"#9c179e\"], [0.4444444444444444, \"#bd3786\"], [0.5555555555555556, \"#d8576b\"], [0.6666666666666666, \"#ed7953\"], [0.7777777777777778, \"#fb9f3a\"], [0.8888888888888888, \"#fdca26\"], [1.0, \"#f0f921\"]], \"type\": \"surface\"}], \"table\": [{\"cells\": {\"fill\": {\"color\": \"#EBF0F8\"}, \"line\": {\"color\": \"white\"}}, \"header\": {\"fill\": {\"color\": \"#C8D4E3\"}, \"line\": {\"color\": \"white\"}}, \"type\": \"table\"}]}, \"layout\": {\"annotationdefaults\": {\"arrowcolor\": \"#2a3f5f\", \"arrowhead\": 0, \"arrowwidth\": 1}, \"coloraxis\": {\"colorbar\": {\"outlinewidth\": 0, \"ticks\": \"\"}}, \"colorscale\": {\"diverging\": [[0, \"#8e0152\"], [0.1, \"#c51b7d\"], [0.2, \"#de77ae\"], [0.3, \"#f1b6da\"], [0.4, \"#fde0ef\"], [0.5, \"#f7f7f7\"], [0.6, \"#e6f5d0\"], [0.7, \"#b8e186\"], [0.8, \"#7fbc41\"], [0.9, \"#4d9221\"], [1, \"#276419\"]], \"sequential\": [[0.0, \"#0d0887\"], [0.1111111111111111, \"#46039f\"], [0.2222222222222222, \"#7201a8\"], [0.3333333333333333, \"#9c179e\"], [0.4444444444444444, \"#bd3786\"], [0.5555555555555556, \"#d8576b\"], [0.6666666666666666, \"#ed7953\"], [0.7777777777777778, \"#fb9f3a\"], [0.8888888888888888, \"#fdca26\"], [1.0, \"#f0f921\"]], \"sequentialminus\": [[0.0, \"#0d0887\"], [0.1111111111111111, \"#46039f\"], [0.2222222222222222, \"#7201a8\"], [0.3333333333333333, \"#9c179e\"], [0.4444444444444444, \"#bd3786\"], [0.5555555555555556, \"#d8576b\"], [0.6666666666666666, \"#ed7953\"], [0.7777777777777778, \"#fb9f3a\"], [0.8888888888888888, \"#fdca26\"], [1.0, \"#f0f921\"]]}, \"colorway\": [\"#636efa\", \"#EF553B\", \"#00cc96\", \"#ab63fa\", \"#FFA15A\", \"#19d3f3\", \"#FF6692\", \"#B6E880\", \"#FF97FF\", \"#FECB52\"], \"font\": {\"color\": \"#2a3f5f\"}, \"geo\": {\"bgcolor\": \"white\", \"lakecolor\": \"white\", \"landcolor\": \"#E5ECF6\", \"showlakes\": true, \"showland\": true, \"subunitcolor\": \"white\"}, \"hoverlabel\": {\"align\": \"left\"}, \"hovermode\": \"closest\", \"mapbox\": {\"style\": \"light\"}, \"paper_bgcolor\": \"white\", \"plot_bgcolor\": \"#E5ECF6\", \"polar\": {\"angularaxis\": {\"gridcolor\": \"white\", \"linecolor\": \"white\", \"ticks\": \"\"}, \"bgcolor\": \"#E5ECF6\", \"radialaxis\": {\"gridcolor\": \"white\", \"linecolor\": \"white\", \"ticks\": \"\"}}, \"scene\": {\"xaxis\": {\"backgroundcolor\": \"#E5ECF6\", \"gridcolor\": \"white\", \"gridwidth\": 2, \"linecolor\": \"white\", \"showbackground\": true, \"ticks\": \"\", \"zerolinecolor\": \"white\"}, \"yaxis\": {\"backgroundcolor\": \"#E5ECF6\", \"gridcolor\": \"white\", \"gridwidth\": 2, \"linecolor\": \"white\", \"showbackground\": true, \"ticks\": \"\", \"zerolinecolor\": \"white\"}, \"zaxis\": {\"backgroundcolor\": \"#E5ECF6\", \"gridcolor\": \"white\", \"gridwidth\": 2, \"linecolor\": \"white\", \"showbackground\": true, \"ticks\": \"\", \"zerolinecolor\": \"white\"}}, \"shapedefaults\": {\"line\": {\"color\": \"#2a3f5f\"}}, \"ternary\": {\"aaxis\": {\"gridcolor\": \"white\", \"linecolor\": \"white\", \"ticks\": \"\"}, \"baxis\": {\"gridcolor\": \"white\", \"linecolor\": \"white\", \"ticks\": \"\"}, \"bgcolor\": \"#E5ECF6\", \"caxis\": {\"gridcolor\": \"white\", \"linecolor\": \"white\", \"ticks\": \"\"}}, \"title\": {\"x\": 0.05}, \"xaxis\": {\"automargin\": true, \"gridcolor\": \"white\", \"linecolor\": \"white\", \"ticks\": \"\", \"title\": {\"standoff\": 15}, \"zerolinecolor\": \"white\", \"zerolinewidth\": 2}, \"yaxis\": {\"automargin\": true, \"gridcolor\": \"white\", \"linecolor\": \"white\", \"ticks\": \"\", \"title\": {\"standoff\": 15}, \"zerolinecolor\": \"white\", \"zerolinewidth\": 2}}}, \"title\": {\"text\": \"Validation performance by epoch of training<br>\"}, \"width\": 700, \"xaxis\": {\"anchor\": \"y\", \"domain\": [0.0, 0.94], \"title\": {\"text\": \"epoch\"}}, \"yaxis\": {\"anchor\": \"x\", \"domain\": [0.0, 1.0], \"title\": {\"text\": \"performance\"}}, \"yaxis2\": {\"anchor\": \"x\", \"overlaying\": \"y\", \"side\": \"right\"}},\n",
       "                        {\"responsive\": true}\n",
       "                    ).then(function(){\n",
       "                            \n",
       "var gd = document.getElementById('6fffd44a-bfae-4b35-80c4-800120e7bb34');\n",
       "var x = new MutationObserver(function (mutations, observer) {{\n",
       "        var display = window.getComputedStyle(gd).display;\n",
       "        if (!display || display === 'none') {{\n",
       "            console.log([gd, 'removed!']);\n",
       "            Plotly.purge(gd);\n",
       "            observer.disconnect();\n",
       "        }}\n",
       "}});\n",
       "\n",
       "// Listen for the removal of the full notebook cells\n",
       "var notebookContainer = gd.closest('#notebook-container');\n",
       "if (notebookContainer) {{\n",
       "    x.observe(notebookContainer, {childList: true});\n",
       "}}\n",
       "\n",
       "// Listen for the clearing of the current output cell\n",
       "var outputEl = gd.closest('.output');\n",
       "if (outputEl) {{\n",
       "    x.observe(outputEl, {childList: true});\n",
       "}}\n",
       "\n",
       "                        })\n",
       "                };\n",
       "                });\n",
       "            </script>\n",
       "        </div>"
      ]
     },
     "metadata": {},
     "output_type": "display_data"
    }
   ],
   "source": [
    "# Create figure:\n",
    "fig = make_subplots(specs=[[{'secondary_y': True}]])\n",
    "\n",
    "# Create the plot (first axis):\n",
    "fig.add_trace(\n",
    "    go.Scatter(x=[i+1 for i in range(len(model.epoch_performance['epoch_val_roc_auc']))],\n",
    "               y=model.epoch_performance['epoch_val_roc_auc'], name='Val ROC-AUC',\n",
    "               hovertemplate =\n",
    "                'ROC-AUC = %{y:.4f}<br>'+\n",
    "                'epoch = %{x}<br>'\n",
    "              ),\n",
    "    secondary_y=False,\n",
    ")\n",
    "\n",
    "fig.add_trace(\n",
    "    go.Scatter(x=[i+1 for i in range(len(model.epoch_performance['epoch_val_avg_prec_score']))],\n",
    "               y=model.epoch_performance['epoch_val_avg_prec_score'], name='Val avg precision',\n",
    "               hovertemplate = 'Avg precision = %{y:.4f}<br>'+\n",
    "                               'epoch = %{x}<br>',\n",
    "               marker_color='orange',\n",
    "               mode='lines'\n",
    "              ),\n",
    "    secondary_y=True,\n",
    ")\n",
    "\n",
    "# Changing layout:\n",
    "fig.update_layout(\n",
    "    title_text='Validation performance by epoch of training<br>',\n",
    "    width=700,\n",
    "    height=400\n",
    ")\n",
    "\n",
    "# Set labels:\n",
    "fig.update_xaxes(title_text='epoch')\n",
    "fig.update_yaxes(title_text='performance', secondary_y=False)\n",
    "\n",
    "fig.show()"
   ]
  },
  {
   "cell_type": "markdown",
   "metadata": {},
   "source": [
    "<a id='model_fitting_es'></a>"
   ]
  },
  {
   "cell_type": "markdown",
   "metadata": {},
   "source": [
    "### Model fitting with early stopping"
   ]
  },
  {
   "cell_type": "code",
   "execution_count": 23,
   "metadata": {},
   "outputs": [],
   "source": [
    "es_param = {'min_delta': 0.0001, 'patience': 10, 'consecutive_patience': False}"
   ]
  },
  {
   "cell_type": "code",
   "execution_count": 24,
   "metadata": {
    "scrolled": true
   },
   "outputs": [
    {
     "name": "stdout",
     "output_type": "stream",
     "text": [
      "Epoch 1/200\n",
      "10/10 [==============================] - 1s 56ms/step - loss: 0.2593 - val_loss: 0.0893\n",
      "Epoch 2/200\n",
      "10/10 [==============================] - 0s 47ms/step - loss: 0.0749 - val_loss: 0.0711\n",
      "Epoch 3/200\n",
      "10/10 [==============================] - 0s 49ms/step - loss: 0.0561 - val_loss: 0.0634\n",
      "Epoch 4/200\n",
      "10/10 [==============================] - 0s 47ms/step - loss: 0.0464 - val_loss: 0.0600\n",
      "Epoch 5/200\n",
      "10/10 [==============================] - 0s 47ms/step - loss: 0.0398 - val_loss: 0.0588\n",
      "Epoch 6/200\n",
      "10/10 [==============================] - 0s 47ms/step - loss: 0.0345 - val_loss: 0.0566\n",
      "Epoch 7/200\n",
      "10/10 [==============================] - 0s 47ms/step - loss: 0.0316 - val_loss: 0.0565\n",
      "Epoch 8/200\n",
      "10/10 [==============================] - 0s 46ms/step - loss: 0.0282 - val_loss: 0.0557\n",
      "Epoch 9/200\n",
      "10/10 [==============================] - 0s 47ms/step - loss: 0.0252 - val_loss: 0.0554\n",
      "Epoch 10/200\n",
      "10/10 [==============================] - 0s 48ms/step - loss: 0.0227 - val_loss: 0.0551\n",
      "Epoch 11/200\n",
      "10/10 [==============================] - 0s 48ms/step - loss: 0.0207 - val_loss: 0.0545\n",
      "Epoch 12/200\n",
      "10/10 [==============================] - 0s 47ms/step - loss: 0.0191 - val_loss: 0.0555\n",
      "Epoch 13/200\n",
      "10/10 [==============================] - 0s 48ms/step - loss: 0.0179 - val_loss: 0.0549\n",
      "Epoch 14/200\n",
      "10/10 [==============================] - 0s 47ms/step - loss: 0.0154 - val_loss: 0.0556\n",
      "Epoch 15/200\n",
      "10/10 [==============================] - 0s 47ms/step - loss: 0.0145 - val_loss: 0.0553\n",
      "Epoch 16/200\n",
      "10/10 [==============================] - 1s 52ms/step - loss: 0.0136 - val_loss: 0.0556\n",
      "Epoch 17/200\n",
      "10/10 [==============================] - 0s 48ms/step - loss: 0.0134 - val_loss: 0.0558\n",
      "Epoch 18/200\n",
      "10/10 [==============================] - 0s 47ms/step - loss: 0.0116 - val_loss: 0.0561\n",
      "Epoch 19/200\n",
      "10/10 [==============================] - 0s 48ms/step - loss: 0.0104 - val_loss: 0.0564\n",
      "Epoch 20/200\n",
      "10/10 [==============================] - 0s 48ms/step - loss: 0.0099 - val_loss: 0.0566\n",
      "Epoch 21/200\n",
      "10/10 [==============================] - 0s 47ms/step - loss: 0.0089 - val_loss: 0.0572\n",
      "Epoch 22/200\n",
      "10/10 [==============================] - 0s 47ms/step - loss: 0.0087 - val_loss: 0.0570\n",
      "Epoch 23/200\n",
      "10/10 [==============================] - 0s 48ms/step - loss: 0.0073 - val_loss: 0.0582\n",
      "Epoch 24/200\n",
      "10/10 [==============================] - 0s 47ms/step - loss: 0.0069 - val_loss: 0.0590\n",
      "Epoch 25/200\n",
      "10/10 [==============================] - 0s 48ms/step - loss: 0.0071 - val_loss: 0.0591\n",
      "Epoch 26/200\n",
      "10/10 [==============================] - 0s 49ms/step - loss: 0.0066 - val_loss: 0.0593\n",
      "Epoch 27/200\n",
      "10/10 [==============================] - 0s 48ms/step - loss: 0.0062 - val_loss: 0.0599\n",
      "Epoch 28/200\n",
      "10/10 [==============================] - 0s 50ms/step - loss: 0.0059 - val_loss: 0.0594\n",
      "Epoch 29/200\n",
      "10/10 [==============================] - 0s 47ms/step - loss: 0.0056 - val_loss: 0.0598\n",
      "Epoch 30/200\n",
      "10/10 [==============================] - 0s 48ms/step - loss: 0.0051 - val_loss: 0.0607\n",
      "Epoch 31/200\n",
      "10/10 [==============================] - 0s 49ms/step - loss: 0.0051 - val_loss: 0.0613\n",
      "Epoch 32/200\n",
      "10/10 [==============================] - 0s 49ms/step - loss: 0.0043 - val_loss: 0.0615\n",
      "Epoch 33/200\n",
      "10/10 [==============================] - 0s 49ms/step - loss: 0.0042 - val_loss: 0.0618\n",
      "Epoch 34/200\n",
      "10/10 [==============================] - 0s 49ms/step - loss: 0.0041 - val_loss: 0.0617\n",
      "------------------------------------\n",
      "\u001b[1mRunning time:\u001b[0m 0.29 minutes.\n",
      "Start time: 2021-05-18, 22:26:24\n",
      "End time: 2021-05-18, 22:26:41\n",
      "------------------------------------\n"
     ]
    }
   ],
   "source": [
    "nn_start_time = datetime.now()\n",
    "\n",
    "# Creating neural network object, declaring its architecture and defining hyper-parameters:\n",
    "model = KerasNN(model_architecture = model_architecture, num_inputs = X_train.shape[1],\n",
    "                 output_activation = output_activation, cost_function = cost_function,\n",
    "                 num_epochs = num_epochs, batch_size = batch_size,\n",
    "                 default_adam = default_adam, optimizer = optimizer, opt_params = opt_params,\n",
    "                 regularization = regularization, regul_param = regul_param,\n",
    "                 input_dropout = input_dropout,\n",
    "                 weights_init = weights_init)\n",
    "\n",
    "# Training the model:\n",
    "model.run(train_inputs = X_train, train_output = y_train,\n",
    "          val_inputs = X_val, val_output = y_val,\n",
    "          test_inputs = X_test, test_output = y_test,\n",
    "          early_stopping = True, es_params = es_param,\n",
    "          verbose = 1)\n",
    "\n",
    "# Performance metrics on validation data:\n",
    "test_roc_auc = roc_auc_score(y_test, [p[0] for p in model.predictions['test']])\n",
    "test_avg_prec_score = average_precision_score(y_test, [p[0] for p in model.predictions['test']])\n",
    "test_brier_score = brier_score_loss(y_test, [p[0] for p in model.predictions['test']])\n",
    "\n",
    "# Cost function by training epoch:\n",
    "model_costs = model.model_costs\n",
    "\n",
    "# Information relating cost function:\n",
    "min_cost = model_costs.loss.min()\n",
    "epoch_min_cost = model_costs.loss.idxmin() + 1\n",
    "val_min_cost = model_costs.val_loss.min()\n",
    "epoch_min_cost = model_costs.val_loss.idxmin() + 1\n",
    "\n",
    "# Assessing running time:\n",
    "nn_end_time = datetime.now()\n",
    "\n",
    "nn_time = running_time(start_time=nn_start_time, end_time=nn_end_time)"
   ]
  },
  {
   "cell_type": "code",
   "execution_count": 25,
   "metadata": {},
   "outputs": [
    {
     "name": "stdout",
     "output_type": "stream",
     "text": [
      "Test ROC-AUC: 0.9809.\n",
      "Test average precision score: 0.8761.\n",
      "Test Brier score: 0.0124.\n"
     ]
    }
   ],
   "source": [
    "print(f'Test ROC-AUC: {test_roc_auc:.4f}.')\n",
    "print(f'Test average precision score: {test_avg_prec_score:.4f}.')\n",
    "print(f'Test Brier score: {test_brier_score:.4f}.')"
   ]
  },
  {
   "cell_type": "code",
   "execution_count": null,
   "metadata": {},
   "outputs": [],
   "source": []
  }
 ],
 "metadata": {
  "kernelspec": {
   "display_name": "Python 3",
   "language": "python",
   "name": "python3"
  },
  "language_info": {
   "codemirror_mode": {
    "name": "ipython",
    "version": 3
   },
   "file_extension": ".py",
   "mimetype": "text/x-python",
   "name": "python",
   "nbconvert_exporter": "python",
   "pygments_lexer": "ipython3",
   "version": "3.7.4"
  }
 },
 "nbformat": 4,
 "nbformat_minor": 2
}
