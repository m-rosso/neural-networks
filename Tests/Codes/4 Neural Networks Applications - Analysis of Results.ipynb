{
 "cells": [
  {
   "cell_type": "markdown",
   "metadata": {},
   "source": [
    "## Neural networks applications to fraud detection\n",
    "## Analysis of results"
   ]
  },
  {
   "cell_type": "markdown",
   "metadata": {},
   "source": [
    "Neural networks are one of the most relevant learning methods currently available, and their widespread application is understood by theoretical robustness, flexible architecture design, and strong expected predictive accuracy.\n",
    "<br>\n",
    "<br>\n",
    "The main objective of this study is to develop a neural network application to fraud detection, and mainly to construct and implement a strategy for hyper-parameter tuning, since this learning method requires a proper definition of a large set of parameters in order to result in a competitive performance.\n",
    "<br>\n",
    "<br>\n",
    "Previously to empirical inquirements, it is necessary to review all details concerning neural networks structure, fitting, and specification, which will base experiments design and tests implementation. So, the theoretical presentation of this notebook will be followed by an empirical stage of tests in which hyper-parameters will be defined to improve neural networks predictive accuracy, after which the best specification obtained should be opposed to alternative learning methods."
   ]
  },
  {
   "cell_type": "markdown",
   "metadata": {},
   "source": [
    "---------------"
   ]
  },
  {
   "cell_type": "markdown",
   "metadata": {},
   "source": [
    "**Hyper-parameters and other definitions**"
   ]
  },
  {
   "cell_type": "markdown",
   "metadata": {},
   "source": [
    "The following attributes of a neural network should be specified in order to optimize predictive accuracy:\n",
    "1. Architecture: number of hidden layers ($L$), number of neurons in each hidden layer ($J_l$).\n",
    "2. Functions: cost function, activation function for neurons in each layer (except for input layer).\n",
    "3. Distribution for weights initialization.\n",
    "4. Learning rate ($\\eta$).\n",
    "5. Fitting hyper-parameters: number of epochs ($T$), mini-batch size ($S$).\n",
    "6. L1 or L2 regularization and its hyper-parameter ($\\lambda$).\n",
    "7. Share of neurons to be dropped out at each mini-batch iteration ($\\rho$).\n",
    "8. Early stopping: minimum change for an improvement ($\\delta$) and tolerated (consecutive) number of epochs without improvement ($P$)."
   ]
  },
  {
   "cell_type": "markdown",
   "metadata": {},
   "source": [
    "-----------"
   ]
  },
  {
   "cell_type": "markdown",
   "metadata": {},
   "source": [
    "**Strategy to define architecture and hyper-parameters**"
   ]
  },
  {
   "cell_type": "markdown",
   "metadata": {},
   "source": [
    "The strategy applied here has followed an intinerary that begins with the choice of broader parameters, such as architecture setting, fitting hyper-parameters (mini-batch size) and functions (cost and activation). Then, tests have focused on parameters that are expected to improve generalization as they act to directly reduce overfitting: dropout parameters (input and hidden), and regularization parameters (L1 vs. L2 and penalty term). Later, tuning has covered the learning activity by approaching the optimizer (Adam vs. SGD and all of their parameters) and weights initialization.\n",
    "<br>\n",
    "<br>\n",
    "The next step has concerned a review of all major choices previously made. So, alternative architectures were again tested, besides of new checks on the following hyper-parameters: mini-batch size, dropout parameters (input and hidden), and Adam parameters.\n",
    "<br>\n",
    "<br>\n",
    "Since all tests mentioned above have used random samples of training and validation data, in order to speed up estimations, the regularization parameter was finally set up by making use of a grid search using the entire training and validation datasets. Similarly, the number of epochs was fixed to a small, yet representative value. Then, its final choice has relied on early stopping.\n",
    "<br>\n",
    "<br>\n",
    "In a section below, each hyper-parameter choice will be indicated together with a graph illustrating the evolution of performance metrics by best partial specification."
   ]
  },
  {
   "cell_type": "markdown",
   "metadata": {},
   "source": [
    "-----------"
   ]
  },
  {
   "cell_type": "markdown",
   "metadata": {},
   "source": [
    "#### Evolution of perfomance metrics"
   ]
  },
  {
   "cell_type": "markdown",
   "metadata": {},
   "source": [
    "As the line plots of evolution in performance metrics by tuning step show, the successive hyper-parameters tuning has achieved ever growing averages of *ROC-AUC* and *average precision score* metrics. Not only the average of these metrics over 100 estimations has improved, but also their standard deviation has consistently decreased, as the ratio between the average and the standard deviation of performance metrics shows.\n",
    "<br>\n",
    "<br>\n",
    "Two tuning steps has provided the strongest improvements in performance: the change in activation function for hidden neurons (from reLu to tanh) and the review in architecture after a first round of hyper-parameters choices (from 2 hidden layers to 1 hidden layer, besides a change in the rule for the number of hidden neurons from $J_1 = sqrt(num\\_inputs*num\\_outputs)$, $J_2 = J_1/2$ to $J_1 = (num\\_inputs + num\\_outputs)*0.1$).\n",
    "<br>\n",
    "<br>\n",
    "This illustrates how further improvements could be obtained by iterating even more over that itinerary of hyper-parameters definition. Even so, after only two iterations the best choices of hyper-parameters are as follows:\n",
    "* Model architecture:\n",
    "    * One hidden layer.\n",
    "    * Number of hidden neurons given by $J_1 = (num\\_inputs + num\\_outputs)*0.1$.\n",
    "<br>\n",
    "<br>\n",
    "* Sigmoid activation function for the output neuron.\n",
    "* Tanh activation function for the hidden neurons.\n",
    "* Binary cross-entropy cost function.\n",
    "* Mini-batch size: $S = 512$.\n",
    "* L2 regularization with $\\lambda = 1e-6$.\n",
    "* No input dropout.\n",
    "* Hidden dropout of $\\rho = 0.1$.\n",
    "* Glorot uniform distribution for weights initialization.\n",
    "* Optimizer: Adam with parameters $\\{\\eta = 0.001, \\beta_1 = 0.5, \\beta_2 = 0.9999, \\epsilon = 1e-7\\}$.\n",
    "* Default number of epochs: $T = 200$, but effective number defined through early stopping."
   ]
  },
  {
   "cell_type": "markdown",
   "metadata": {},
   "source": [
    "--------"
   ]
  },
  {
   "cell_type": "markdown",
   "metadata": {},
   "source": [
    "This notebook presents and discusses the evolution of performance metrics by step of hyper-parameter tuning, while line plots will illustrate it the change in performance level."
   ]
  },
  {
   "cell_type": "markdown",
   "metadata": {},
   "source": [
    "---------------"
   ]
  },
  {
   "cell_type": "markdown",
   "metadata": {},
   "source": [
    "**Summary:**\n",
    "1. [Libraries](#libraries)<a href='#libraries'></a>.\n",
    "2. [Importing data](#imports)<a href='#imports'></a>.\n",
    "3. [Hyper-parameters choices](#hyper_parameters_choices)<a href='#hyper_parameters_choices'></a>.\n",
    "    * [Collection of estimations](#collection_estimations)<a href='#collection_estimations'></a>.\n",
    "    * [Evolution of performance metrics](#performance_evolution)<a href='#performance_evolution'></a>."
   ]
  },
  {
   "cell_type": "markdown",
   "metadata": {},
   "source": [
    "<a id='libraries'></a>"
   ]
  },
  {
   "cell_type": "markdown",
   "metadata": {},
   "source": [
    "## Libraries"
   ]
  },
  {
   "cell_type": "code",
   "execution_count": 1,
   "metadata": {},
   "outputs": [
    {
     "name": "stdout",
     "output_type": "stream",
     "text": [
      "4.12.0\n"
     ]
    }
   ],
   "source": [
    "import pandas as pd\n",
    "import numpy as np\n",
    "import json\n",
    "import os\n",
    "\n",
    "from datetime import datetime\n",
    "import time\n",
    "\n",
    "import matplotlib.pyplot as plt\n",
    "import seaborn as sns\n",
    "%matplotlib inline\n",
    "\n",
    "from plotly import __version__\n",
    "from plotly.offline import download_plotlyjs, init_notebook_mode, plot, iplot\n",
    "print(__version__) # requires version >= 1.9.0\n",
    "\n",
    "# import cufflinks as cf\n",
    "# init_notebook_mode(connected=True)\n",
    "# cf.go_offline()\n",
    "\n",
    "import plotly.express as px\n",
    "import plotly.graph_objects as go\n",
    "from plotly.subplots import make_subplots\n",
    "\n",
    "import pickle"
   ]
  },
  {
   "cell_type": "markdown",
   "metadata": {},
   "source": [
    "<a id='imports'></a>"
   ]
  },
  {
   "cell_type": "markdown",
   "metadata": {},
   "source": [
    "## Importing data"
   ]
  },
  {
   "cell_type": "code",
   "execution_count": 2,
   "metadata": {},
   "outputs": [],
   "source": [
    "# Dictionary with information on model structure and performance:\n",
    "os.chdir('..')\n",
    "\n",
    "if 'model_assessment.json' not in os.listdir('Datasets'):\n",
    "    model_assessment = {}\n",
    "\n",
    "else:\n",
    "    with open('Datasets/model_assessment.json') as json_file:\n",
    "        model_assessment = json.load(json_file)"
   ]
  },
  {
   "cell_type": "markdown",
   "metadata": {},
   "source": [
    "<a id='hyper_parameters_choices'></a>"
   ]
  },
  {
   "cell_type": "markdown",
   "metadata": {},
   "source": [
    "## Hyper-parameters choices"
   ]
  },
  {
   "cell_type": "markdown",
   "metadata": {},
   "source": [
    "<a id='collection_estimations'></a>"
   ]
  },
  {
   "cell_type": "markdown",
   "metadata": {},
   "source": [
    "### Collection of estimations"
   ]
  },
  {
   "cell_type": "code",
   "execution_count": 3,
   "metadata": {
    "scrolled": true
   },
   "outputs": [],
   "source": [
    "# Dataframe with the identification of all estimations:\n",
    "estimations = pd.DataFrame(data={\n",
    "    'estimation_id': list(model_assessment.keys()),\n",
    "    'comment': [model_assessment[k]['comment'] for k in model_assessment.keys()]\n",
    "})\n",
    "\n",
    "# Keeping only unique assessments:\n",
    "estimations = estimations.drop_duplicates(['comment'], keep='last').reset_index(drop=True)"
   ]
  },
  {
   "cell_type": "code",
   "execution_count": 4,
   "metadata": {
    "scrolled": true
   },
   "outputs": [
    {
     "data": {
      "text/plain": [
       "['Basic estimation for codes development.',\n",
       " 'Estimation loop for variability assessment.',\n",
       " 'Testing architectures. One hidden layer: J1 = (num_inputs + num_outputs)*0.1',\n",
       " 'Testing architectures. One hidden layer: J1 = (num_inputs + num_outputs)*0.2',\n",
       " 'Testing architectures. One hidden layer: J1 = (num_inputs + num_outputs)*0.3',\n",
       " 'Testing architectures. One hidden layer: J1 = (num_inputs + num_outputs)*0.4',\n",
       " 'Testing architectures. One hidden layer: J1 = (num_inputs + num_outputs)*0.5',\n",
       " 'Testing architectures. One hidden layer: J1 = (num_inputs + num_outputs)*0.6',\n",
       " 'Testing architectures. One hidden layer: J1 = (num_inputs + num_outputs)*0.7',\n",
       " 'Testing architectures. One hidden layer: J1 = (num_inputs + num_outputs)*0.8',\n",
       " 'Testing architectures. One hidden layer: J1 = (num_inputs + num_outputs)*0.9',\n",
       " 'Testing architectures. One hidden layer: J1 = num_obs/(2*(num_inputs + num_outputs))',\n",
       " 'Testing architectures. One hidden layer: J1 = num_obs/(4*(num_inputs + num_outputs))',\n",
       " 'Testing architectures. One hidden layer: J1 = num_obs/(6*(num_inputs + num_outputs))',\n",
       " 'Testing architectures. One hidden layer: J1 = sqrt(num_inputs*num_outputs)',\n",
       " 'Testing architectures. One hidden layer: J1 = log(num_inputs*num_outputs)',\n",
       " 'Testing architectures. Two hidden layers: J1 = (num_inputs + J2)*0.1, J2 = (J1 + num_outputs)*0.1',\n",
       " 'Testing architectures. Two hidden layers: J1 = sqrt(num_inputs*J2), J2 = sqrt(J1 + num_outputs)',\n",
       " 'Testing architectures. Two hidden layers: J1 = (num_inputs + num_outputs)*0.1, J2 = J1/2',\n",
       " 'Testing architectures. Two hidden layers: J1 = sqrt(num_inputs*num_outputs), J2 = J1/2',\n",
       " 'Testing architectures. Two hidden layers: J1 = (num_inputs + num_outputs)*0.1, J2 = J1',\n",
       " 'Testing architectures. Two hidden layers: J1 = sqrt(num_inputs*num_outputs), J2 = J1',\n",
       " 'Testing architectures. Three hidden layers: J1 = sqrt(num_inputs*J2), J2 = sqrt(J1 + J3), J3 = sqrt(J2 + num_outputs)',\n",
       " 'Testing architectures. Three hidden layers: J1 = sqrt(num_inputs*num_outputs), J2 = J1/2, J3 = J1/4',\n",
       " 'Testing architectures. Three hidden layers: J1 = sqrt(num_inputs*num_outputs), J2 = J1, J3 = J1',\n",
       " 'Two hidden layers: J1 = sqrt(num_inputs*num_outputs), J2 = J1/2. Testing values for mini-batch size using powers of 2.',\n",
       " 'Two hidden layers: J1 = sqrt(num_inputs*num_outputs), J2 = J1/2. Comparing alternative mini-batch sizes: [None, 32].',\n",
       " 'Two hidden layers: J1 = sqrt(num_inputs*num_outputs), J2 = J1/2. Velocity approach to mini-batch size definition.',\n",
       " 'Two hidden layers: J1 = sqrt(num_inputs*num_outputs), J2 = J1/2. Assessing number of epochs by using a large value for it.',\n",
       " 'Two hidden layers: J1 = sqrt(num_inputs*num_outputs), J2 = J1/2. Testing alternative cost functions.',\n",
       " 'Two hidden layers: J1 = sqrt(num_inputs*num_outputs), J2 = J1/2. Testing alternative activation functions.',\n",
       " 'Two hidden layers: J1 = sqrt(num_inputs*num_outputs), J2 = J1/2. Assessing overfitting by trying different values for the L2 regularization parameter.',\n",
       " 'Two hidden layers: J1 = sqrt(num_inputs*num_outputs), J2 = J1/2. Assessing overfitting by trying different values for the L1 regularization parameter.',\n",
       " 'Two hidden layers: J1 = sqrt(num_inputs*num_outputs), J2 = J1/2. Testing alternative values for the L2 regularization parameter.',\n",
       " 'Two hidden layers: J1 = sqrt(num_inputs*num_outputs), J2 = J1/2. Testing alternative values for the L1 regularization parameter.',\n",
       " 'Two hidden layers: J1 = sqrt(num_inputs*num_outputs), J2 = J1/2. Testing alternative values for input dropout parameter.',\n",
       " 'Two hidden layers: J1 = sqrt(num_inputs*num_outputs), J2 = J1/2. Testing alternative values for hidden dropout parameter.',\n",
       " 'Two hidden layers: J1 = sqrt(num_inputs*num_outputs), J2 = J1/2. Testing alternative values for Adam hyper-parameters.',\n",
       " 'Two hidden layers: J1 = sqrt(num_inputs*num_outputs), J2 = J1/2. Defining learning rate with no momentum and no decay.',\n",
       " 'Two hidden layers: J1 = sqrt(num_inputs*num_outputs), J2 = J1/2. Testing alternative values for SGD hyper-parameters.',\n",
       " 'Two hidden layers: J1 = sqrt(num_inputs*num_outputs), J2 = J1/2. Testing alternative distributions for weights initialization.',\n",
       " 'One hidden layer: J1 = sqrt(num_inputs*num_outputs). Reviewing model architecture.',\n",
       " 'One hidden layer: J1 = (num_inputs + num_outputs)*0.1. Reviewing model architecture.',\n",
       " 'Two hidden layers: J1 = sqrt(num_inputs*J2), J2 = sqrt(J1*num_outputs). Reviewing model architecture.',\n",
       " 'Two hidden layers: J1 = sqrt(num_inputs*num_outputs), J2 = J1/2. Reviewing model architecture.',\n",
       " 'Two hidden layers: J1 = sqrt(num_inputs*num_outputs), J2 = J1. Reviewing model architecture.',\n",
       " 'Two hidden layers: J1 = (num_inputs + J2)*0.1, J2 = (J1 + num_outputs)*0.1. Reviewing model architecture.',\n",
       " 'Two hidden layers: J1 = (num_inputs + num_outputs)*0.1, J2 = J1/2. Reviewing model architecture.',\n",
       " 'Two hidden layers: J1 = (num_inputs + num_outputs)*0.1, J2 = J1. Reviewing model architecture.',\n",
       " 'Three hidden layers: J1 = sqrt(num_inputs*J2), J2 = sqrt(J1*J3), J3 = sqrt(J2*num_outputs). Reviewing model architecture.',\n",
       " 'Three hidden layers: J1 = sqrt(num_inputs*num_outputs), J2 = J1/2, J3 = J1/4. Reviewing model architecture.',\n",
       " 'Three hidden layers: J1 = sqrt(num_inputs*num_outputs), J2 = J1, J3 = J1. Reviewing model architecture.',\n",
       " 'One hidden layer: J1 = (num_inputs + num_outputs)*0.1. Reviewing mini-batch size.',\n",
       " 'One hidden layer: J1 = (num_inputs + num_outputs)*0.1. Reviewing input dropout parameter.',\n",
       " 'One hidden layer: J1 = (num_inputs + num_outputs)*0.1. Reviewing hidden dropout parameter.',\n",
       " 'One hidden layer: J1 = (num_inputs + num_outputs)*0.1. Reviewing Adam hyper-parameters.',\n",
       " 'One hidden layer: J1 = (num_inputs + num_outputs)*0.1. Grid search for L2 regularization parameter.',\n",
       " 'One hidden layer: J1 = (num_inputs + num_outputs)*0.1. Testing different parameters of early stopping callback (consecutive patience).',\n",
       " 'One hidden layer: J1 = (num_inputs + num_outputs)*0.1. Testing different parameters of early stopping callback (cumulative patience).',\n",
       " 'One hidden layer: J1 = (num_inputs + num_outputs)*0.1. No early stopping.',\n",
       " 'One hidden layer: J1 = (num_inputs + num_outputs)*0.1. Final estimation.']"
      ]
     },
     "execution_count": 4,
     "metadata": {},
     "output_type": "execute_result"
    }
   ],
   "source": [
    "# Complete list of estimations description:\n",
    "list(estimations.comment)"
   ]
  },
  {
   "cell_type": "markdown",
   "metadata": {},
   "source": [
    "#### Selected estimations"
   ]
  },
  {
   "cell_type": "code",
   "execution_count": 5,
   "metadata": {},
   "outputs": [],
   "source": [
    "selected_estimations = ['1609598769', '1609988509', '1610758512', '1610905503', '1611425007', '1611712007',\n",
    "                        '1611780618', '1612103127', '1612635856', '1613085785', '1613223667', '1613227483',\n",
    "                        '1613238130', '1613319533', '1613473761']\n",
    "tuning = ['architecture', 'batch_size', 'cost_function', 'hidden_activations', 'regul_param', 'input_dropout',\n",
    "          'hidden_dropout', 'opt_params', 'weights_init',\n",
    "          'architecture_review', 'batch_size_review', 'input_dropout_review', 'hidden_dropout_review',\n",
    "          'opt_params_review', 'regul_param_final']\n",
    "param = ['architecture', 'batch_size', 'cost_function', 'hidden_activations', 'regul_param', 'input_dropout',\n",
    "         'hidden_dropout', 'opt_params', 'weights_init', 'architecture', 'batch_size', 'input_dropout',\n",
    "         'hidden_dropout', 'opt_params', 'regul_param']"
   ]
  },
  {
   "cell_type": "code",
   "execution_count": 6,
   "metadata": {
    "scrolled": true
   },
   "outputs": [
    {
     "name": "stdout",
     "output_type": "stream",
     "text": [
      "\u001b[1mShape of outcomes:\u001b[0m (15, 12).\n"
     ]
    },
    {
     "data": {
      "text/html": [
       "<div>\n",
       "<style scoped>\n",
       "    .dataframe tbody tr th:only-of-type {\n",
       "        vertical-align: middle;\n",
       "    }\n",
       "\n",
       "    .dataframe tbody tr th {\n",
       "        vertical-align: top;\n",
       "    }\n",
       "\n",
       "    .dataframe thead th {\n",
       "        text-align: right;\n",
       "    }\n",
       "</style>\n",
       "<table border=\"1\" class=\"dataframe\">\n",
       "  <thead>\n",
       "    <tr style=\"text-align: right;\">\n",
       "      <th></th>\n",
       "      <th>estimation_id</th>\n",
       "      <th>tuning_parameter</th>\n",
       "      <th>tuning_step</th>\n",
       "      <th>avg_roc_auc</th>\n",
       "      <th>std_roc_auc</th>\n",
       "      <th>ratio_roc_auc</th>\n",
       "      <th>avg_avg_prec_score</th>\n",
       "      <th>std_avg_prec_score</th>\n",
       "      <th>ratio_avg_prec_score</th>\n",
       "      <th>avg_brier_score</th>\n",
       "      <th>std_brier_score</th>\n",
       "      <th>ratio_brier_score</th>\n",
       "    </tr>\n",
       "  </thead>\n",
       "  <tbody>\n",
       "    <tr>\n",
       "      <th>0</th>\n",
       "      <td>1609598769</td>\n",
       "      <td>architecture</td>\n",
       "      <td>architecture</td>\n",
       "      <td>0.868335</td>\n",
       "      <td>0.013726</td>\n",
       "      <td>26.383978</td>\n",
       "      <td>0.262224</td>\n",
       "      <td>0.032911</td>\n",
       "      <td>7.967559</td>\n",
       "      <td>0.018823</td>\n",
       "      <td>0.020680</td>\n",
       "      <td>0.910219</td>\n",
       "    </tr>\n",
       "    <tr>\n",
       "      <th>1</th>\n",
       "      <td>1609988509</td>\n",
       "      <td>batch_size</td>\n",
       "      <td>batch_size</td>\n",
       "      <td>0.825623</td>\n",
       "      <td>0.011539</td>\n",
       "      <td>52.242784</td>\n",
       "      <td>0.217563</td>\n",
       "      <td>0.015804</td>\n",
       "      <td>13.766690</td>\n",
       "      <td>0.010698</td>\n",
       "      <td>0.000183</td>\n",
       "      <td>58.399124</td>\n",
       "    </tr>\n",
       "    <tr>\n",
       "      <th>2</th>\n",
       "      <td>1610758512</td>\n",
       "      <td>cost_function</td>\n",
       "      <td>cost_function</td>\n",
       "      <td>0.825063</td>\n",
       "      <td>0.012350</td>\n",
       "      <td>49.486930</td>\n",
       "      <td>0.216830</td>\n",
       "      <td>0.016672</td>\n",
       "      <td>13.005352</td>\n",
       "      <td>0.010708</td>\n",
       "      <td>0.000223</td>\n",
       "      <td>48.062630</td>\n",
       "    </tr>\n",
       "  </tbody>\n",
       "</table>\n",
       "</div>"
      ],
      "text/plain": [
       "  estimation_id tuning_parameter    tuning_step  avg_roc_auc  std_roc_auc  \\\n",
       "0    1609598769     architecture   architecture     0.868335     0.013726   \n",
       "1    1609988509       batch_size     batch_size     0.825623     0.011539   \n",
       "2    1610758512    cost_function  cost_function     0.825063     0.012350   \n",
       "\n",
       "   ratio_roc_auc  avg_avg_prec_score  std_avg_prec_score  \\\n",
       "0      26.383978            0.262224            0.032911   \n",
       "1      52.242784            0.217563            0.015804   \n",
       "2      49.486930            0.216830            0.016672   \n",
       "\n",
       "   ratio_avg_prec_score  avg_brier_score  std_brier_score  ratio_brier_score  \n",
       "0              7.967559         0.018823         0.020680           0.910219  \n",
       "1             13.766690         0.010698         0.000183          58.399124  \n",
       "2             13.005352         0.010708         0.000223          48.062630  "
      ]
     },
     "execution_count": 6,
     "metadata": {},
     "output_type": "execute_result"
    }
   ],
   "source": [
    "outcomes = pd.DataFrame(data={\n",
    "    'estimation_id': selected_estimations,\n",
    "    'tuning_parameter': param,\n",
    "    'tuning_step': tuning,\n",
    "    'avg_roc_auc': [e['performance_metrics']['avg_roc_auc'] for e in\n",
    "                    [model_assessment[e] for e in selected_estimations]],\n",
    "    'std_roc_auc': [e['performance_metrics']['std_roc_auc'] for e in\n",
    "                    [model_assessment[e] for e in selected_estimations]],\n",
    "    'ratio_roc_auc': [e['performance_metrics']['avg_roc_auc']/e['performance_metrics']['std_avg_prec_score']\n",
    "                      for e in [model_assessment[e] for e in selected_estimations]],\n",
    "    \n",
    "    'avg_avg_prec_score': [e['performance_metrics']['avg_avg_prec_score'] for e in\n",
    "                           [model_assessment[e] for e in selected_estimations]],\n",
    "    'std_avg_prec_score': [e['performance_metrics']['std_avg_prec_score'] for e in\n",
    "                           [model_assessment[e] for e in selected_estimations]],\n",
    "    'ratio_avg_prec_score': [e['performance_metrics']['avg_avg_prec_score']/e['performance_metrics']['std_avg_prec_score']\n",
    "                             for e in [model_assessment[e] for e in selected_estimations]],\n",
    "    \n",
    "    'avg_brier_score': [e['performance_metrics']['avg_brier_score'] for e in\n",
    "                        [model_assessment[e] for e in selected_estimations]],\n",
    "    'std_brier_score': [e['performance_metrics']['std_brier_score'] for e in\n",
    "                        [model_assessment[e] for e in selected_estimations]],\n",
    "    'ratio_brier_score': [e['performance_metrics']['avg_brier_score']/e['performance_metrics']['std_brier_score']\n",
    "                          for e in [model_assessment[e] for e in selected_estimations]]\n",
    "})\n",
    "\n",
    "print(f'\\033[1mShape of outcomes:\\033[0m {outcomes.shape}.')\n",
    "\n",
    "outcomes.head(3)"
   ]
  },
  {
   "cell_type": "markdown",
   "metadata": {},
   "source": [
    "<a id='performance_evolution'></a>"
   ]
  },
  {
   "cell_type": "markdown",
   "metadata": {},
   "source": [
    "### Evolution of performance metrics"
   ]
  },
  {
   "cell_type": "code",
   "execution_count": 8,
   "metadata": {},
   "outputs": [],
   "source": [
    "metric = ['roc_auc', 'avg_prec_score']\n",
    "metric_name = {'roc_auc': 'ROC-AUC', 'avg_prec_score': 'Average precision score'}"
   ]
  },
  {
   "cell_type": "code",
   "execution_count": 10,
   "metadata": {
    "scrolled": false
   },
   "outputs": [
    {
     "data": {
      "application/vnd.plotly.v1+json": {
       "config": {
        "plotlyServerURL": "https://plot.ly"
       },
       "data": [
        {
         "hovertemplate": "avg_roc_auc = %{y:.4f}<br>tuning_step = %{x}",
         "marker": {
          "color": "black"
         },
         "name": "avg_roc_auc",
         "type": "scatter",
         "x": [
          "architecture",
          "batch_size",
          "cost_function",
          "hidden_activations",
          "regul_param",
          "input_dropout",
          "hidden_dropout",
          "opt_params",
          "weights_init",
          "architecture_review",
          "batch_size_review",
          "input_dropout_review",
          "hidden_dropout_review",
          "opt_params_review",
          "regul_param_final"
         ],
         "xaxis": "x",
         "y": [
          0.86833499295749,
          0.8256226719711264,
          0.8250628676721058,
          0.8401131515114068,
          0.8417295937525252,
          0.8372654978793251,
          0.8350169883723324,
          0.8419180264494183,
          0.8413195279537744,
          0.8513809182038985,
          0.8515726067744351,
          0.8520417773742923,
          0.852701670080977,
          0.8522713996454186,
          0.9370198835368889
         ],
         "yaxis": "y"
        },
        {
         "hovertemplate": "ratio_roc_auc = %{y:.4f}<br>tuning_step = %{x}",
         "marker": {
          "color": "blue"
         },
         "name": "ratio_roc_auc",
         "type": "scatter",
         "x": [
          "architecture",
          "batch_size",
          "cost_function",
          "hidden_activations",
          "regul_param",
          "input_dropout",
          "hidden_dropout",
          "opt_params",
          "weights_init",
          "architecture_review",
          "batch_size_review",
          "input_dropout_review",
          "hidden_dropout_review",
          "opt_params_review",
          "regul_param_final"
         ],
         "xaxis": "x",
         "y": [
          26.383977546936844,
          52.24278404949068,
          49.48692969578735,
          79.2657001043622,
          73.28532725360941,
          80.8254261382208,
          79.92978126926374,
          81.74938158433274,
          73.4252730290918,
          100.58349350753575,
          99.98544707524246,
          109.83041220029575,
          102.359041321507,
          103.11954946737528,
          146.6491262324553
         ],
         "yaxis": "y2"
        }
       ],
       "layout": {
        "height": 600,
        "template": {
         "data": {
          "bar": [
           {
            "error_x": {
             "color": "#2a3f5f"
            },
            "error_y": {
             "color": "#2a3f5f"
            },
            "marker": {
             "line": {
              "color": "#E5ECF6",
              "width": 0.5
             }
            },
            "type": "bar"
           }
          ],
          "barpolar": [
           {
            "marker": {
             "line": {
              "color": "#E5ECF6",
              "width": 0.5
             }
            },
            "type": "barpolar"
           }
          ],
          "carpet": [
           {
            "aaxis": {
             "endlinecolor": "#2a3f5f",
             "gridcolor": "white",
             "linecolor": "white",
             "minorgridcolor": "white",
             "startlinecolor": "#2a3f5f"
            },
            "baxis": {
             "endlinecolor": "#2a3f5f",
             "gridcolor": "white",
             "linecolor": "white",
             "minorgridcolor": "white",
             "startlinecolor": "#2a3f5f"
            },
            "type": "carpet"
           }
          ],
          "choropleth": [
           {
            "colorbar": {
             "outlinewidth": 0,
             "ticks": ""
            },
            "type": "choropleth"
           }
          ],
          "contour": [
           {
            "colorbar": {
             "outlinewidth": 0,
             "ticks": ""
            },
            "colorscale": [
             [
              0,
              "#0d0887"
             ],
             [
              0.1111111111111111,
              "#46039f"
             ],
             [
              0.2222222222222222,
              "#7201a8"
             ],
             [
              0.3333333333333333,
              "#9c179e"
             ],
             [
              0.4444444444444444,
              "#bd3786"
             ],
             [
              0.5555555555555556,
              "#d8576b"
             ],
             [
              0.6666666666666666,
              "#ed7953"
             ],
             [
              0.7777777777777778,
              "#fb9f3a"
             ],
             [
              0.8888888888888888,
              "#fdca26"
             ],
             [
              1,
              "#f0f921"
             ]
            ],
            "type": "contour"
           }
          ],
          "contourcarpet": [
           {
            "colorbar": {
             "outlinewidth": 0,
             "ticks": ""
            },
            "type": "contourcarpet"
           }
          ],
          "heatmap": [
           {
            "colorbar": {
             "outlinewidth": 0,
             "ticks": ""
            },
            "colorscale": [
             [
              0,
              "#0d0887"
             ],
             [
              0.1111111111111111,
              "#46039f"
             ],
             [
              0.2222222222222222,
              "#7201a8"
             ],
             [
              0.3333333333333333,
              "#9c179e"
             ],
             [
              0.4444444444444444,
              "#bd3786"
             ],
             [
              0.5555555555555556,
              "#d8576b"
             ],
             [
              0.6666666666666666,
              "#ed7953"
             ],
             [
              0.7777777777777778,
              "#fb9f3a"
             ],
             [
              0.8888888888888888,
              "#fdca26"
             ],
             [
              1,
              "#f0f921"
             ]
            ],
            "type": "heatmap"
           }
          ],
          "heatmapgl": [
           {
            "colorbar": {
             "outlinewidth": 0,
             "ticks": ""
            },
            "colorscale": [
             [
              0,
              "#0d0887"
             ],
             [
              0.1111111111111111,
              "#46039f"
             ],
             [
              0.2222222222222222,
              "#7201a8"
             ],
             [
              0.3333333333333333,
              "#9c179e"
             ],
             [
              0.4444444444444444,
              "#bd3786"
             ],
             [
              0.5555555555555556,
              "#d8576b"
             ],
             [
              0.6666666666666666,
              "#ed7953"
             ],
             [
              0.7777777777777778,
              "#fb9f3a"
             ],
             [
              0.8888888888888888,
              "#fdca26"
             ],
             [
              1,
              "#f0f921"
             ]
            ],
            "type": "heatmapgl"
           }
          ],
          "histogram": [
           {
            "marker": {
             "colorbar": {
              "outlinewidth": 0,
              "ticks": ""
             }
            },
            "type": "histogram"
           }
          ],
          "histogram2d": [
           {
            "colorbar": {
             "outlinewidth": 0,
             "ticks": ""
            },
            "colorscale": [
             [
              0,
              "#0d0887"
             ],
             [
              0.1111111111111111,
              "#46039f"
             ],
             [
              0.2222222222222222,
              "#7201a8"
             ],
             [
              0.3333333333333333,
              "#9c179e"
             ],
             [
              0.4444444444444444,
              "#bd3786"
             ],
             [
              0.5555555555555556,
              "#d8576b"
             ],
             [
              0.6666666666666666,
              "#ed7953"
             ],
             [
              0.7777777777777778,
              "#fb9f3a"
             ],
             [
              0.8888888888888888,
              "#fdca26"
             ],
             [
              1,
              "#f0f921"
             ]
            ],
            "type": "histogram2d"
           }
          ],
          "histogram2dcontour": [
           {
            "colorbar": {
             "outlinewidth": 0,
             "ticks": ""
            },
            "colorscale": [
             [
              0,
              "#0d0887"
             ],
             [
              0.1111111111111111,
              "#46039f"
             ],
             [
              0.2222222222222222,
              "#7201a8"
             ],
             [
              0.3333333333333333,
              "#9c179e"
             ],
             [
              0.4444444444444444,
              "#bd3786"
             ],
             [
              0.5555555555555556,
              "#d8576b"
             ],
             [
              0.6666666666666666,
              "#ed7953"
             ],
             [
              0.7777777777777778,
              "#fb9f3a"
             ],
             [
              0.8888888888888888,
              "#fdca26"
             ],
             [
              1,
              "#f0f921"
             ]
            ],
            "type": "histogram2dcontour"
           }
          ],
          "mesh3d": [
           {
            "colorbar": {
             "outlinewidth": 0,
             "ticks": ""
            },
            "type": "mesh3d"
           }
          ],
          "parcoords": [
           {
            "line": {
             "colorbar": {
              "outlinewidth": 0,
              "ticks": ""
             }
            },
            "type": "parcoords"
           }
          ],
          "pie": [
           {
            "automargin": true,
            "type": "pie"
           }
          ],
          "scatter": [
           {
            "marker": {
             "colorbar": {
              "outlinewidth": 0,
              "ticks": ""
             }
            },
            "type": "scatter"
           }
          ],
          "scatter3d": [
           {
            "line": {
             "colorbar": {
              "outlinewidth": 0,
              "ticks": ""
             }
            },
            "marker": {
             "colorbar": {
              "outlinewidth": 0,
              "ticks": ""
             }
            },
            "type": "scatter3d"
           }
          ],
          "scattercarpet": [
           {
            "marker": {
             "colorbar": {
              "outlinewidth": 0,
              "ticks": ""
             }
            },
            "type": "scattercarpet"
           }
          ],
          "scattergeo": [
           {
            "marker": {
             "colorbar": {
              "outlinewidth": 0,
              "ticks": ""
             }
            },
            "type": "scattergeo"
           }
          ],
          "scattergl": [
           {
            "marker": {
             "colorbar": {
              "outlinewidth": 0,
              "ticks": ""
             }
            },
            "type": "scattergl"
           }
          ],
          "scattermapbox": [
           {
            "marker": {
             "colorbar": {
              "outlinewidth": 0,
              "ticks": ""
             }
            },
            "type": "scattermapbox"
           }
          ],
          "scatterpolar": [
           {
            "marker": {
             "colorbar": {
              "outlinewidth": 0,
              "ticks": ""
             }
            },
            "type": "scatterpolar"
           }
          ],
          "scatterpolargl": [
           {
            "marker": {
             "colorbar": {
              "outlinewidth": 0,
              "ticks": ""
             }
            },
            "type": "scatterpolargl"
           }
          ],
          "scatterternary": [
           {
            "marker": {
             "colorbar": {
              "outlinewidth": 0,
              "ticks": ""
             }
            },
            "type": "scatterternary"
           }
          ],
          "surface": [
           {
            "colorbar": {
             "outlinewidth": 0,
             "ticks": ""
            },
            "colorscale": [
             [
              0,
              "#0d0887"
             ],
             [
              0.1111111111111111,
              "#46039f"
             ],
             [
              0.2222222222222222,
              "#7201a8"
             ],
             [
              0.3333333333333333,
              "#9c179e"
             ],
             [
              0.4444444444444444,
              "#bd3786"
             ],
             [
              0.5555555555555556,
              "#d8576b"
             ],
             [
              0.6666666666666666,
              "#ed7953"
             ],
             [
              0.7777777777777778,
              "#fb9f3a"
             ],
             [
              0.8888888888888888,
              "#fdca26"
             ],
             [
              1,
              "#f0f921"
             ]
            ],
            "type": "surface"
           }
          ],
          "table": [
           {
            "cells": {
             "fill": {
              "color": "#EBF0F8"
             },
             "line": {
              "color": "white"
             }
            },
            "header": {
             "fill": {
              "color": "#C8D4E3"
             },
             "line": {
              "color": "white"
             }
            },
            "type": "table"
           }
          ]
         },
         "layout": {
          "annotationdefaults": {
           "arrowcolor": "#2a3f5f",
           "arrowhead": 0,
           "arrowwidth": 1
          },
          "coloraxis": {
           "colorbar": {
            "outlinewidth": 0,
            "ticks": ""
           }
          },
          "colorscale": {
           "diverging": [
            [
             0,
             "#8e0152"
            ],
            [
             0.1,
             "#c51b7d"
            ],
            [
             0.2,
             "#de77ae"
            ],
            [
             0.3,
             "#f1b6da"
            ],
            [
             0.4,
             "#fde0ef"
            ],
            [
             0.5,
             "#f7f7f7"
            ],
            [
             0.6,
             "#e6f5d0"
            ],
            [
             0.7,
             "#b8e186"
            ],
            [
             0.8,
             "#7fbc41"
            ],
            [
             0.9,
             "#4d9221"
            ],
            [
             1,
             "#276419"
            ]
           ],
           "sequential": [
            [
             0,
             "#0d0887"
            ],
            [
             0.1111111111111111,
             "#46039f"
            ],
            [
             0.2222222222222222,
             "#7201a8"
            ],
            [
             0.3333333333333333,
             "#9c179e"
            ],
            [
             0.4444444444444444,
             "#bd3786"
            ],
            [
             0.5555555555555556,
             "#d8576b"
            ],
            [
             0.6666666666666666,
             "#ed7953"
            ],
            [
             0.7777777777777778,
             "#fb9f3a"
            ],
            [
             0.8888888888888888,
             "#fdca26"
            ],
            [
             1,
             "#f0f921"
            ]
           ],
           "sequentialminus": [
            [
             0,
             "#0d0887"
            ],
            [
             0.1111111111111111,
             "#46039f"
            ],
            [
             0.2222222222222222,
             "#7201a8"
            ],
            [
             0.3333333333333333,
             "#9c179e"
            ],
            [
             0.4444444444444444,
             "#bd3786"
            ],
            [
             0.5555555555555556,
             "#d8576b"
            ],
            [
             0.6666666666666666,
             "#ed7953"
            ],
            [
             0.7777777777777778,
             "#fb9f3a"
            ],
            [
             0.8888888888888888,
             "#fdca26"
            ],
            [
             1,
             "#f0f921"
            ]
           ]
          },
          "colorway": [
           "#636efa",
           "#EF553B",
           "#00cc96",
           "#ab63fa",
           "#FFA15A",
           "#19d3f3",
           "#FF6692",
           "#B6E880",
           "#FF97FF",
           "#FECB52"
          ],
          "font": {
           "color": "#2a3f5f"
          },
          "geo": {
           "bgcolor": "white",
           "lakecolor": "white",
           "landcolor": "#E5ECF6",
           "showlakes": true,
           "showland": true,
           "subunitcolor": "white"
          },
          "hoverlabel": {
           "align": "left"
          },
          "hovermode": "closest",
          "mapbox": {
           "style": "light"
          },
          "paper_bgcolor": "white",
          "plot_bgcolor": "#E5ECF6",
          "polar": {
           "angularaxis": {
            "gridcolor": "white",
            "linecolor": "white",
            "ticks": ""
           },
           "bgcolor": "#E5ECF6",
           "radialaxis": {
            "gridcolor": "white",
            "linecolor": "white",
            "ticks": ""
           }
          },
          "scene": {
           "xaxis": {
            "backgroundcolor": "#E5ECF6",
            "gridcolor": "white",
            "gridwidth": 2,
            "linecolor": "white",
            "showbackground": true,
            "ticks": "",
            "zerolinecolor": "white"
           },
           "yaxis": {
            "backgroundcolor": "#E5ECF6",
            "gridcolor": "white",
            "gridwidth": 2,
            "linecolor": "white",
            "showbackground": true,
            "ticks": "",
            "zerolinecolor": "white"
           },
           "zaxis": {
            "backgroundcolor": "#E5ECF6",
            "gridcolor": "white",
            "gridwidth": 2,
            "linecolor": "white",
            "showbackground": true,
            "ticks": "",
            "zerolinecolor": "white"
           }
          },
          "shapedefaults": {
           "line": {
            "color": "#2a3f5f"
           }
          },
          "ternary": {
           "aaxis": {
            "gridcolor": "white",
            "linecolor": "white",
            "ticks": ""
           },
           "baxis": {
            "gridcolor": "white",
            "linecolor": "white",
            "ticks": ""
           },
           "bgcolor": "#E5ECF6",
           "caxis": {
            "gridcolor": "white",
            "linecolor": "white",
            "ticks": ""
           }
          },
          "title": {
           "x": 0.05
          },
          "xaxis": {
           "automargin": true,
           "gridcolor": "white",
           "linecolor": "white",
           "ticks": "",
           "title": {
            "standoff": 15
           },
           "zerolinecolor": "white",
           "zerolinewidth": 2
          },
          "yaxis": {
           "automargin": true,
           "gridcolor": "white",
           "linecolor": "white",
           "ticks": "",
           "title": {
            "standoff": 15
           },
           "zerolinecolor": "white",
           "zerolinewidth": 2
          }
         }
        },
        "title": {
         "text": "Evolution of performance metrics - ROC-AUC"
        },
        "width": 900,
        "xaxis": {
         "anchor": "y",
         "domain": [
          0,
          0.94
         ],
         "tickangle": 45,
         "title": {
          "text": "tuning step"
         }
        },
        "yaxis": {
         "anchor": "x",
         "domain": [
          0,
          1
         ],
         "title": {
          "text": "avg_roc_auc"
         }
        },
        "yaxis2": {
         "anchor": "x",
         "overlaying": "y",
         "side": "right",
         "title": {
          "text": "ratio_roc_auc"
         }
        }
       }
      },
      "text/html": [
       "<div>                            <div id=\"9a2ae1f2-1cd3-46d9-843b-e9c5519f4e67\" class=\"plotly-graph-div\" style=\"height:600px; width:900px;\"></div>            <script type=\"text/javascript\">                require([\"plotly\"], function(Plotly) {                    window.PLOTLYENV=window.PLOTLYENV || {};                                    if (document.getElementById(\"9a2ae1f2-1cd3-46d9-843b-e9c5519f4e67\")) {                    Plotly.newPlot(                        \"9a2ae1f2-1cd3-46d9-843b-e9c5519f4e67\",                        [{\"hovertemplate\": \"avg_roc_auc = %{y:.4f}<br>tuning_step = %{x}\", \"marker\": {\"color\": \"black\"}, \"name\": \"avg_roc_auc\", \"type\": \"scatter\", \"x\": [\"architecture\", \"batch_size\", \"cost_function\", \"hidden_activations\", \"regul_param\", \"input_dropout\", \"hidden_dropout\", \"opt_params\", \"weights_init\", \"architecture_review\", \"batch_size_review\", \"input_dropout_review\", \"hidden_dropout_review\", \"opt_params_review\", \"regul_param_final\"], \"xaxis\": \"x\", \"y\": [0.86833499295749, 0.8256226719711264, 0.8250628676721058, 0.8401131515114068, 0.8417295937525252, 0.8372654978793251, 0.8350169883723324, 0.8419180264494183, 0.8413195279537744, 0.8513809182038985, 0.8515726067744351, 0.8520417773742923, 0.852701670080977, 0.8522713996454186, 0.9370198835368889], \"yaxis\": \"y\"}, {\"hovertemplate\": \"ratio_roc_auc = %{y:.4f}<br>tuning_step = %{x}\", \"marker\": {\"color\": \"blue\"}, \"name\": \"ratio_roc_auc\", \"type\": \"scatter\", \"x\": [\"architecture\", \"batch_size\", \"cost_function\", \"hidden_activations\", \"regul_param\", \"input_dropout\", \"hidden_dropout\", \"opt_params\", \"weights_init\", \"architecture_review\", \"batch_size_review\", \"input_dropout_review\", \"hidden_dropout_review\", \"opt_params_review\", \"regul_param_final\"], \"xaxis\": \"x\", \"y\": [26.383977546936844, 52.24278404949068, 49.48692969578735, 79.2657001043622, 73.28532725360941, 80.8254261382208, 79.92978126926374, 81.74938158433274, 73.4252730290918, 100.58349350753575, 99.98544707524246, 109.83041220029575, 102.359041321507, 103.11954946737528, 146.6491262324553], \"yaxis\": \"y2\"}],                        {\"height\": 600, \"template\": {\"data\": {\"bar\": [{\"error_x\": {\"color\": \"#2a3f5f\"}, \"error_y\": {\"color\": \"#2a3f5f\"}, \"marker\": {\"line\": {\"color\": \"#E5ECF6\", \"width\": 0.5}}, \"type\": \"bar\"}], \"barpolar\": [{\"marker\": {\"line\": {\"color\": \"#E5ECF6\", \"width\": 0.5}}, \"type\": \"barpolar\"}], \"carpet\": [{\"aaxis\": {\"endlinecolor\": \"#2a3f5f\", \"gridcolor\": \"white\", \"linecolor\": \"white\", \"minorgridcolor\": \"white\", \"startlinecolor\": \"#2a3f5f\"}, \"baxis\": {\"endlinecolor\": \"#2a3f5f\", \"gridcolor\": \"white\", \"linecolor\": \"white\", \"minorgridcolor\": \"white\", \"startlinecolor\": \"#2a3f5f\"}, \"type\": \"carpet\"}], \"choropleth\": [{\"colorbar\": {\"outlinewidth\": 0, \"ticks\": \"\"}, \"type\": \"choropleth\"}], \"contour\": [{\"colorbar\": {\"outlinewidth\": 0, \"ticks\": \"\"}, \"colorscale\": [[0.0, \"#0d0887\"], [0.1111111111111111, \"#46039f\"], [0.2222222222222222, \"#7201a8\"], [0.3333333333333333, \"#9c179e\"], [0.4444444444444444, \"#bd3786\"], [0.5555555555555556, \"#d8576b\"], [0.6666666666666666, \"#ed7953\"], [0.7777777777777778, \"#fb9f3a\"], [0.8888888888888888, \"#fdca26\"], [1.0, \"#f0f921\"]], \"type\": \"contour\"}], \"contourcarpet\": [{\"colorbar\": {\"outlinewidth\": 0, \"ticks\": \"\"}, \"type\": \"contourcarpet\"}], \"heatmap\": [{\"colorbar\": {\"outlinewidth\": 0, \"ticks\": \"\"}, \"colorscale\": [[0.0, \"#0d0887\"], [0.1111111111111111, \"#46039f\"], [0.2222222222222222, \"#7201a8\"], [0.3333333333333333, \"#9c179e\"], [0.4444444444444444, \"#bd3786\"], [0.5555555555555556, \"#d8576b\"], [0.6666666666666666, \"#ed7953\"], [0.7777777777777778, \"#fb9f3a\"], [0.8888888888888888, \"#fdca26\"], [1.0, \"#f0f921\"]], \"type\": \"heatmap\"}], \"heatmapgl\": [{\"colorbar\": {\"outlinewidth\": 0, \"ticks\": \"\"}, \"colorscale\": [[0.0, \"#0d0887\"], [0.1111111111111111, \"#46039f\"], [0.2222222222222222, \"#7201a8\"], [0.3333333333333333, \"#9c179e\"], [0.4444444444444444, \"#bd3786\"], [0.5555555555555556, \"#d8576b\"], [0.6666666666666666, \"#ed7953\"], [0.7777777777777778, \"#fb9f3a\"], [0.8888888888888888, \"#fdca26\"], [1.0, \"#f0f921\"]], \"type\": \"heatmapgl\"}], \"histogram\": [{\"marker\": {\"colorbar\": {\"outlinewidth\": 0, \"ticks\": \"\"}}, \"type\": \"histogram\"}], \"histogram2d\": [{\"colorbar\": {\"outlinewidth\": 0, \"ticks\": \"\"}, \"colorscale\": [[0.0, \"#0d0887\"], [0.1111111111111111, \"#46039f\"], [0.2222222222222222, \"#7201a8\"], [0.3333333333333333, \"#9c179e\"], [0.4444444444444444, \"#bd3786\"], [0.5555555555555556, \"#d8576b\"], [0.6666666666666666, \"#ed7953\"], [0.7777777777777778, \"#fb9f3a\"], [0.8888888888888888, \"#fdca26\"], [1.0, \"#f0f921\"]], \"type\": \"histogram2d\"}], \"histogram2dcontour\": [{\"colorbar\": {\"outlinewidth\": 0, \"ticks\": \"\"}, \"colorscale\": [[0.0, \"#0d0887\"], [0.1111111111111111, \"#46039f\"], [0.2222222222222222, \"#7201a8\"], [0.3333333333333333, \"#9c179e\"], [0.4444444444444444, \"#bd3786\"], [0.5555555555555556, \"#d8576b\"], [0.6666666666666666, \"#ed7953\"], [0.7777777777777778, \"#fb9f3a\"], [0.8888888888888888, \"#fdca26\"], [1.0, \"#f0f921\"]], \"type\": \"histogram2dcontour\"}], \"mesh3d\": [{\"colorbar\": {\"outlinewidth\": 0, \"ticks\": \"\"}, \"type\": \"mesh3d\"}], \"parcoords\": [{\"line\": {\"colorbar\": {\"outlinewidth\": 0, \"ticks\": \"\"}}, \"type\": \"parcoords\"}], \"pie\": [{\"automargin\": true, \"type\": \"pie\"}], \"scatter\": [{\"marker\": {\"colorbar\": {\"outlinewidth\": 0, \"ticks\": \"\"}}, \"type\": \"scatter\"}], \"scatter3d\": [{\"line\": {\"colorbar\": {\"outlinewidth\": 0, \"ticks\": \"\"}}, \"marker\": {\"colorbar\": {\"outlinewidth\": 0, \"ticks\": \"\"}}, \"type\": \"scatter3d\"}], \"scattercarpet\": [{\"marker\": {\"colorbar\": {\"outlinewidth\": 0, \"ticks\": \"\"}}, \"type\": \"scattercarpet\"}], \"scattergeo\": [{\"marker\": {\"colorbar\": {\"outlinewidth\": 0, \"ticks\": \"\"}}, \"type\": \"scattergeo\"}], \"scattergl\": [{\"marker\": {\"colorbar\": {\"outlinewidth\": 0, \"ticks\": \"\"}}, \"type\": \"scattergl\"}], \"scattermapbox\": [{\"marker\": {\"colorbar\": {\"outlinewidth\": 0, \"ticks\": \"\"}}, \"type\": \"scattermapbox\"}], \"scatterpolar\": [{\"marker\": {\"colorbar\": {\"outlinewidth\": 0, \"ticks\": \"\"}}, \"type\": \"scatterpolar\"}], \"scatterpolargl\": [{\"marker\": {\"colorbar\": {\"outlinewidth\": 0, \"ticks\": \"\"}}, \"type\": \"scatterpolargl\"}], \"scatterternary\": [{\"marker\": {\"colorbar\": {\"outlinewidth\": 0, \"ticks\": \"\"}}, \"type\": \"scatterternary\"}], \"surface\": [{\"colorbar\": {\"outlinewidth\": 0, \"ticks\": \"\"}, \"colorscale\": [[0.0, \"#0d0887\"], [0.1111111111111111, \"#46039f\"], [0.2222222222222222, \"#7201a8\"], [0.3333333333333333, \"#9c179e\"], [0.4444444444444444, \"#bd3786\"], [0.5555555555555556, \"#d8576b\"], [0.6666666666666666, \"#ed7953\"], [0.7777777777777778, \"#fb9f3a\"], [0.8888888888888888, \"#fdca26\"], [1.0, \"#f0f921\"]], \"type\": \"surface\"}], \"table\": [{\"cells\": {\"fill\": {\"color\": \"#EBF0F8\"}, \"line\": {\"color\": \"white\"}}, \"header\": {\"fill\": {\"color\": \"#C8D4E3\"}, \"line\": {\"color\": \"white\"}}, \"type\": \"table\"}]}, \"layout\": {\"annotationdefaults\": {\"arrowcolor\": \"#2a3f5f\", \"arrowhead\": 0, \"arrowwidth\": 1}, \"coloraxis\": {\"colorbar\": {\"outlinewidth\": 0, \"ticks\": \"\"}}, \"colorscale\": {\"diverging\": [[0, \"#8e0152\"], [0.1, \"#c51b7d\"], [0.2, \"#de77ae\"], [0.3, \"#f1b6da\"], [0.4, \"#fde0ef\"], [0.5, \"#f7f7f7\"], [0.6, \"#e6f5d0\"], [0.7, \"#b8e186\"], [0.8, \"#7fbc41\"], [0.9, \"#4d9221\"], [1, \"#276419\"]], \"sequential\": [[0.0, \"#0d0887\"], [0.1111111111111111, \"#46039f\"], [0.2222222222222222, \"#7201a8\"], [0.3333333333333333, \"#9c179e\"], [0.4444444444444444, \"#bd3786\"], [0.5555555555555556, \"#d8576b\"], [0.6666666666666666, \"#ed7953\"], [0.7777777777777778, \"#fb9f3a\"], [0.8888888888888888, \"#fdca26\"], [1.0, \"#f0f921\"]], \"sequentialminus\": [[0.0, \"#0d0887\"], [0.1111111111111111, \"#46039f\"], [0.2222222222222222, \"#7201a8\"], [0.3333333333333333, \"#9c179e\"], [0.4444444444444444, \"#bd3786\"], [0.5555555555555556, \"#d8576b\"], [0.6666666666666666, \"#ed7953\"], [0.7777777777777778, \"#fb9f3a\"], [0.8888888888888888, \"#fdca26\"], [1.0, \"#f0f921\"]]}, \"colorway\": [\"#636efa\", \"#EF553B\", \"#00cc96\", \"#ab63fa\", \"#FFA15A\", \"#19d3f3\", \"#FF6692\", \"#B6E880\", \"#FF97FF\", \"#FECB52\"], \"font\": {\"color\": \"#2a3f5f\"}, \"geo\": {\"bgcolor\": \"white\", \"lakecolor\": \"white\", \"landcolor\": \"#E5ECF6\", \"showlakes\": true, \"showland\": true, \"subunitcolor\": \"white\"}, \"hoverlabel\": {\"align\": \"left\"}, \"hovermode\": \"closest\", \"mapbox\": {\"style\": \"light\"}, \"paper_bgcolor\": \"white\", \"plot_bgcolor\": \"#E5ECF6\", \"polar\": {\"angularaxis\": {\"gridcolor\": \"white\", \"linecolor\": \"white\", \"ticks\": \"\"}, \"bgcolor\": \"#E5ECF6\", \"radialaxis\": {\"gridcolor\": \"white\", \"linecolor\": \"white\", \"ticks\": \"\"}}, \"scene\": {\"xaxis\": {\"backgroundcolor\": \"#E5ECF6\", \"gridcolor\": \"white\", \"gridwidth\": 2, \"linecolor\": \"white\", \"showbackground\": true, \"ticks\": \"\", \"zerolinecolor\": \"white\"}, \"yaxis\": {\"backgroundcolor\": \"#E5ECF6\", \"gridcolor\": \"white\", \"gridwidth\": 2, \"linecolor\": \"white\", \"showbackground\": true, \"ticks\": \"\", \"zerolinecolor\": \"white\"}, \"zaxis\": {\"backgroundcolor\": \"#E5ECF6\", \"gridcolor\": \"white\", \"gridwidth\": 2, \"linecolor\": \"white\", \"showbackground\": true, \"ticks\": \"\", \"zerolinecolor\": \"white\"}}, \"shapedefaults\": {\"line\": {\"color\": \"#2a3f5f\"}}, \"ternary\": {\"aaxis\": {\"gridcolor\": \"white\", \"linecolor\": \"white\", \"ticks\": \"\"}, \"baxis\": {\"gridcolor\": \"white\", \"linecolor\": \"white\", \"ticks\": \"\"}, \"bgcolor\": \"#E5ECF6\", \"caxis\": {\"gridcolor\": \"white\", \"linecolor\": \"white\", \"ticks\": \"\"}}, \"title\": {\"x\": 0.05}, \"xaxis\": {\"automargin\": true, \"gridcolor\": \"white\", \"linecolor\": \"white\", \"ticks\": \"\", \"title\": {\"standoff\": 15}, \"zerolinecolor\": \"white\", \"zerolinewidth\": 2}, \"yaxis\": {\"automargin\": true, \"gridcolor\": \"white\", \"linecolor\": \"white\", \"ticks\": \"\", \"title\": {\"standoff\": 15}, \"zerolinecolor\": \"white\", \"zerolinewidth\": 2}}}, \"title\": {\"text\": \"Evolution of performance metrics - ROC-AUC\"}, \"width\": 900, \"xaxis\": {\"anchor\": \"y\", \"domain\": [0.0, 0.94], \"tickangle\": 45, \"title\": {\"text\": \"tuning step\"}}, \"yaxis\": {\"anchor\": \"x\", \"domain\": [0.0, 1.0], \"title\": {\"text\": \"avg_roc_auc\"}}, \"yaxis2\": {\"anchor\": \"x\", \"overlaying\": \"y\", \"side\": \"right\", \"title\": {\"text\": \"ratio_roc_auc\"}}},                        {\"responsive\": true}                    ).then(function(){\n",
       "                            \n",
       "var gd = document.getElementById('9a2ae1f2-1cd3-46d9-843b-e9c5519f4e67');\n",
       "var x = new MutationObserver(function (mutations, observer) {{\n",
       "        var display = window.getComputedStyle(gd).display;\n",
       "        if (!display || display === 'none') {{\n",
       "            console.log([gd, 'removed!']);\n",
       "            Plotly.purge(gd);\n",
       "            observer.disconnect();\n",
       "        }}\n",
       "}});\n",
       "\n",
       "// Listen for the removal of the full notebook cells\n",
       "var notebookContainer = gd.closest('#notebook-container');\n",
       "if (notebookContainer) {{\n",
       "    x.observe(notebookContainer, {childList: true});\n",
       "}}\n",
       "\n",
       "// Listen for the clearing of the current output cell\n",
       "var outputEl = gd.closest('.output');\n",
       "if (outputEl) {{\n",
       "    x.observe(outputEl, {childList: true});\n",
       "}}\n",
       "\n",
       "                        })                };                });            </script>        </div>"
      ]
     },
     "metadata": {},
     "output_type": "display_data"
    },
    {
     "data": {
      "application/vnd.plotly.v1+json": {
       "config": {
        "plotlyServerURL": "https://plot.ly"
       },
       "data": [
        {
         "hovertemplate": "avg_avg_prec_score = %{y:.4f}<br>tuning_step = %{x}",
         "marker": {
          "color": "black"
         },
         "name": "avg_avg_prec_score",
         "type": "scatter",
         "x": [
          "architecture",
          "batch_size",
          "cost_function",
          "hidden_activations",
          "regul_param",
          "input_dropout",
          "hidden_dropout",
          "opt_params",
          "weights_init",
          "architecture_review",
          "batch_size_review",
          "input_dropout_review",
          "hidden_dropout_review",
          "opt_params_review",
          "regul_param_final"
         ],
         "xaxis": "x",
         "y": [
          0.2622239446846659,
          0.217562889562637,
          0.21682962985793966,
          0.21557944490011433,
          0.2201315690892912,
          0.2169443764750655,
          0.21130197109091092,
          0.22037207951298135,
          0.21856448926304586,
          0.2636874788185221,
          0.2620500951443011,
          0.2621485363128326,
          0.2608013781026879,
          0.2778691524415712,
          0.4536799070860484
         ],
         "yaxis": "y"
        },
        {
         "hovertemplate": "ratio_avg_prec_score = %{y:.4f}<br>tuning_step = %{x}",
         "marker": {
          "color": "blue"
         },
         "name": "ratio_avg_prec_score",
         "type": "scatter",
         "x": [
          "architecture",
          "batch_size",
          "cost_function",
          "hidden_activations",
          "regul_param",
          "input_dropout",
          "hidden_dropout",
          "opt_params",
          "weights_init",
          "architecture_review",
          "batch_size_review",
          "input_dropout_review",
          "hidden_dropout_review",
          "opt_params_review",
          "regul_param_final"
         ],
         "xaxis": "x",
         "y": [
          7.967559438397683,
          13.76668960588031,
          13.005351554625815,
          20.340183459067443,
          19.165791721352125,
          20.942725719978295,
          20.226319423731155,
          21.397904133986337,
          19.074984908094155,
          31.152457433171353,
          30.76801168881769,
          33.79163154378362,
          31.306821570296524,
          33.62044276339371,
          71.00357541214467
         ],
         "yaxis": "y2"
        }
       ],
       "layout": {
        "height": 600,
        "template": {
         "data": {
          "bar": [
           {
            "error_x": {
             "color": "#2a3f5f"
            },
            "error_y": {
             "color": "#2a3f5f"
            },
            "marker": {
             "line": {
              "color": "#E5ECF6",
              "width": 0.5
             }
            },
            "type": "bar"
           }
          ],
          "barpolar": [
           {
            "marker": {
             "line": {
              "color": "#E5ECF6",
              "width": 0.5
             }
            },
            "type": "barpolar"
           }
          ],
          "carpet": [
           {
            "aaxis": {
             "endlinecolor": "#2a3f5f",
             "gridcolor": "white",
             "linecolor": "white",
             "minorgridcolor": "white",
             "startlinecolor": "#2a3f5f"
            },
            "baxis": {
             "endlinecolor": "#2a3f5f",
             "gridcolor": "white",
             "linecolor": "white",
             "minorgridcolor": "white",
             "startlinecolor": "#2a3f5f"
            },
            "type": "carpet"
           }
          ],
          "choropleth": [
           {
            "colorbar": {
             "outlinewidth": 0,
             "ticks": ""
            },
            "type": "choropleth"
           }
          ],
          "contour": [
           {
            "colorbar": {
             "outlinewidth": 0,
             "ticks": ""
            },
            "colorscale": [
             [
              0,
              "#0d0887"
             ],
             [
              0.1111111111111111,
              "#46039f"
             ],
             [
              0.2222222222222222,
              "#7201a8"
             ],
             [
              0.3333333333333333,
              "#9c179e"
             ],
             [
              0.4444444444444444,
              "#bd3786"
             ],
             [
              0.5555555555555556,
              "#d8576b"
             ],
             [
              0.6666666666666666,
              "#ed7953"
             ],
             [
              0.7777777777777778,
              "#fb9f3a"
             ],
             [
              0.8888888888888888,
              "#fdca26"
             ],
             [
              1,
              "#f0f921"
             ]
            ],
            "type": "contour"
           }
          ],
          "contourcarpet": [
           {
            "colorbar": {
             "outlinewidth": 0,
             "ticks": ""
            },
            "type": "contourcarpet"
           }
          ],
          "heatmap": [
           {
            "colorbar": {
             "outlinewidth": 0,
             "ticks": ""
            },
            "colorscale": [
             [
              0,
              "#0d0887"
             ],
             [
              0.1111111111111111,
              "#46039f"
             ],
             [
              0.2222222222222222,
              "#7201a8"
             ],
             [
              0.3333333333333333,
              "#9c179e"
             ],
             [
              0.4444444444444444,
              "#bd3786"
             ],
             [
              0.5555555555555556,
              "#d8576b"
             ],
             [
              0.6666666666666666,
              "#ed7953"
             ],
             [
              0.7777777777777778,
              "#fb9f3a"
             ],
             [
              0.8888888888888888,
              "#fdca26"
             ],
             [
              1,
              "#f0f921"
             ]
            ],
            "type": "heatmap"
           }
          ],
          "heatmapgl": [
           {
            "colorbar": {
             "outlinewidth": 0,
             "ticks": ""
            },
            "colorscale": [
             [
              0,
              "#0d0887"
             ],
             [
              0.1111111111111111,
              "#46039f"
             ],
             [
              0.2222222222222222,
              "#7201a8"
             ],
             [
              0.3333333333333333,
              "#9c179e"
             ],
             [
              0.4444444444444444,
              "#bd3786"
             ],
             [
              0.5555555555555556,
              "#d8576b"
             ],
             [
              0.6666666666666666,
              "#ed7953"
             ],
             [
              0.7777777777777778,
              "#fb9f3a"
             ],
             [
              0.8888888888888888,
              "#fdca26"
             ],
             [
              1,
              "#f0f921"
             ]
            ],
            "type": "heatmapgl"
           }
          ],
          "histogram": [
           {
            "marker": {
             "colorbar": {
              "outlinewidth": 0,
              "ticks": ""
             }
            },
            "type": "histogram"
           }
          ],
          "histogram2d": [
           {
            "colorbar": {
             "outlinewidth": 0,
             "ticks": ""
            },
            "colorscale": [
             [
              0,
              "#0d0887"
             ],
             [
              0.1111111111111111,
              "#46039f"
             ],
             [
              0.2222222222222222,
              "#7201a8"
             ],
             [
              0.3333333333333333,
              "#9c179e"
             ],
             [
              0.4444444444444444,
              "#bd3786"
             ],
             [
              0.5555555555555556,
              "#d8576b"
             ],
             [
              0.6666666666666666,
              "#ed7953"
             ],
             [
              0.7777777777777778,
              "#fb9f3a"
             ],
             [
              0.8888888888888888,
              "#fdca26"
             ],
             [
              1,
              "#f0f921"
             ]
            ],
            "type": "histogram2d"
           }
          ],
          "histogram2dcontour": [
           {
            "colorbar": {
             "outlinewidth": 0,
             "ticks": ""
            },
            "colorscale": [
             [
              0,
              "#0d0887"
             ],
             [
              0.1111111111111111,
              "#46039f"
             ],
             [
              0.2222222222222222,
              "#7201a8"
             ],
             [
              0.3333333333333333,
              "#9c179e"
             ],
             [
              0.4444444444444444,
              "#bd3786"
             ],
             [
              0.5555555555555556,
              "#d8576b"
             ],
             [
              0.6666666666666666,
              "#ed7953"
             ],
             [
              0.7777777777777778,
              "#fb9f3a"
             ],
             [
              0.8888888888888888,
              "#fdca26"
             ],
             [
              1,
              "#f0f921"
             ]
            ],
            "type": "histogram2dcontour"
           }
          ],
          "mesh3d": [
           {
            "colorbar": {
             "outlinewidth": 0,
             "ticks": ""
            },
            "type": "mesh3d"
           }
          ],
          "parcoords": [
           {
            "line": {
             "colorbar": {
              "outlinewidth": 0,
              "ticks": ""
             }
            },
            "type": "parcoords"
           }
          ],
          "pie": [
           {
            "automargin": true,
            "type": "pie"
           }
          ],
          "scatter": [
           {
            "marker": {
             "colorbar": {
              "outlinewidth": 0,
              "ticks": ""
             }
            },
            "type": "scatter"
           }
          ],
          "scatter3d": [
           {
            "line": {
             "colorbar": {
              "outlinewidth": 0,
              "ticks": ""
             }
            },
            "marker": {
             "colorbar": {
              "outlinewidth": 0,
              "ticks": ""
             }
            },
            "type": "scatter3d"
           }
          ],
          "scattercarpet": [
           {
            "marker": {
             "colorbar": {
              "outlinewidth": 0,
              "ticks": ""
             }
            },
            "type": "scattercarpet"
           }
          ],
          "scattergeo": [
           {
            "marker": {
             "colorbar": {
              "outlinewidth": 0,
              "ticks": ""
             }
            },
            "type": "scattergeo"
           }
          ],
          "scattergl": [
           {
            "marker": {
             "colorbar": {
              "outlinewidth": 0,
              "ticks": ""
             }
            },
            "type": "scattergl"
           }
          ],
          "scattermapbox": [
           {
            "marker": {
             "colorbar": {
              "outlinewidth": 0,
              "ticks": ""
             }
            },
            "type": "scattermapbox"
           }
          ],
          "scatterpolar": [
           {
            "marker": {
             "colorbar": {
              "outlinewidth": 0,
              "ticks": ""
             }
            },
            "type": "scatterpolar"
           }
          ],
          "scatterpolargl": [
           {
            "marker": {
             "colorbar": {
              "outlinewidth": 0,
              "ticks": ""
             }
            },
            "type": "scatterpolargl"
           }
          ],
          "scatterternary": [
           {
            "marker": {
             "colorbar": {
              "outlinewidth": 0,
              "ticks": ""
             }
            },
            "type": "scatterternary"
           }
          ],
          "surface": [
           {
            "colorbar": {
             "outlinewidth": 0,
             "ticks": ""
            },
            "colorscale": [
             [
              0,
              "#0d0887"
             ],
             [
              0.1111111111111111,
              "#46039f"
             ],
             [
              0.2222222222222222,
              "#7201a8"
             ],
             [
              0.3333333333333333,
              "#9c179e"
             ],
             [
              0.4444444444444444,
              "#bd3786"
             ],
             [
              0.5555555555555556,
              "#d8576b"
             ],
             [
              0.6666666666666666,
              "#ed7953"
             ],
             [
              0.7777777777777778,
              "#fb9f3a"
             ],
             [
              0.8888888888888888,
              "#fdca26"
             ],
             [
              1,
              "#f0f921"
             ]
            ],
            "type": "surface"
           }
          ],
          "table": [
           {
            "cells": {
             "fill": {
              "color": "#EBF0F8"
             },
             "line": {
              "color": "white"
             }
            },
            "header": {
             "fill": {
              "color": "#C8D4E3"
             },
             "line": {
              "color": "white"
             }
            },
            "type": "table"
           }
          ]
         },
         "layout": {
          "annotationdefaults": {
           "arrowcolor": "#2a3f5f",
           "arrowhead": 0,
           "arrowwidth": 1
          },
          "coloraxis": {
           "colorbar": {
            "outlinewidth": 0,
            "ticks": ""
           }
          },
          "colorscale": {
           "diverging": [
            [
             0,
             "#8e0152"
            ],
            [
             0.1,
             "#c51b7d"
            ],
            [
             0.2,
             "#de77ae"
            ],
            [
             0.3,
             "#f1b6da"
            ],
            [
             0.4,
             "#fde0ef"
            ],
            [
             0.5,
             "#f7f7f7"
            ],
            [
             0.6,
             "#e6f5d0"
            ],
            [
             0.7,
             "#b8e186"
            ],
            [
             0.8,
             "#7fbc41"
            ],
            [
             0.9,
             "#4d9221"
            ],
            [
             1,
             "#276419"
            ]
           ],
           "sequential": [
            [
             0,
             "#0d0887"
            ],
            [
             0.1111111111111111,
             "#46039f"
            ],
            [
             0.2222222222222222,
             "#7201a8"
            ],
            [
             0.3333333333333333,
             "#9c179e"
            ],
            [
             0.4444444444444444,
             "#bd3786"
            ],
            [
             0.5555555555555556,
             "#d8576b"
            ],
            [
             0.6666666666666666,
             "#ed7953"
            ],
            [
             0.7777777777777778,
             "#fb9f3a"
            ],
            [
             0.8888888888888888,
             "#fdca26"
            ],
            [
             1,
             "#f0f921"
            ]
           ],
           "sequentialminus": [
            [
             0,
             "#0d0887"
            ],
            [
             0.1111111111111111,
             "#46039f"
            ],
            [
             0.2222222222222222,
             "#7201a8"
            ],
            [
             0.3333333333333333,
             "#9c179e"
            ],
            [
             0.4444444444444444,
             "#bd3786"
            ],
            [
             0.5555555555555556,
             "#d8576b"
            ],
            [
             0.6666666666666666,
             "#ed7953"
            ],
            [
             0.7777777777777778,
             "#fb9f3a"
            ],
            [
             0.8888888888888888,
             "#fdca26"
            ],
            [
             1,
             "#f0f921"
            ]
           ]
          },
          "colorway": [
           "#636efa",
           "#EF553B",
           "#00cc96",
           "#ab63fa",
           "#FFA15A",
           "#19d3f3",
           "#FF6692",
           "#B6E880",
           "#FF97FF",
           "#FECB52"
          ],
          "font": {
           "color": "#2a3f5f"
          },
          "geo": {
           "bgcolor": "white",
           "lakecolor": "white",
           "landcolor": "#E5ECF6",
           "showlakes": true,
           "showland": true,
           "subunitcolor": "white"
          },
          "hoverlabel": {
           "align": "left"
          },
          "hovermode": "closest",
          "mapbox": {
           "style": "light"
          },
          "paper_bgcolor": "white",
          "plot_bgcolor": "#E5ECF6",
          "polar": {
           "angularaxis": {
            "gridcolor": "white",
            "linecolor": "white",
            "ticks": ""
           },
           "bgcolor": "#E5ECF6",
           "radialaxis": {
            "gridcolor": "white",
            "linecolor": "white",
            "ticks": ""
           }
          },
          "scene": {
           "xaxis": {
            "backgroundcolor": "#E5ECF6",
            "gridcolor": "white",
            "gridwidth": 2,
            "linecolor": "white",
            "showbackground": true,
            "ticks": "",
            "zerolinecolor": "white"
           },
           "yaxis": {
            "backgroundcolor": "#E5ECF6",
            "gridcolor": "white",
            "gridwidth": 2,
            "linecolor": "white",
            "showbackground": true,
            "ticks": "",
            "zerolinecolor": "white"
           },
           "zaxis": {
            "backgroundcolor": "#E5ECF6",
            "gridcolor": "white",
            "gridwidth": 2,
            "linecolor": "white",
            "showbackground": true,
            "ticks": "",
            "zerolinecolor": "white"
           }
          },
          "shapedefaults": {
           "line": {
            "color": "#2a3f5f"
           }
          },
          "ternary": {
           "aaxis": {
            "gridcolor": "white",
            "linecolor": "white",
            "ticks": ""
           },
           "baxis": {
            "gridcolor": "white",
            "linecolor": "white",
            "ticks": ""
           },
           "bgcolor": "#E5ECF6",
           "caxis": {
            "gridcolor": "white",
            "linecolor": "white",
            "ticks": ""
           }
          },
          "title": {
           "x": 0.05
          },
          "xaxis": {
           "automargin": true,
           "gridcolor": "white",
           "linecolor": "white",
           "ticks": "",
           "title": {
            "standoff": 15
           },
           "zerolinecolor": "white",
           "zerolinewidth": 2
          },
          "yaxis": {
           "automargin": true,
           "gridcolor": "white",
           "linecolor": "white",
           "ticks": "",
           "title": {
            "standoff": 15
           },
           "zerolinecolor": "white",
           "zerolinewidth": 2
          }
         }
        },
        "title": {
         "text": "Evolution of performance metrics - Average precision score"
        },
        "width": 900,
        "xaxis": {
         "anchor": "y",
         "domain": [
          0,
          0.94
         ],
         "tickangle": 45,
         "title": {
          "text": "tuning step"
         }
        },
        "yaxis": {
         "anchor": "x",
         "domain": [
          0,
          1
         ],
         "title": {
          "text": "avg_avg_prec_score"
         }
        },
        "yaxis2": {
         "anchor": "x",
         "overlaying": "y",
         "side": "right",
         "title": {
          "text": "ratio_avg_prec_score"
         }
        }
       }
      },
      "text/html": [
       "<div>                            <div id=\"7df620ea-0820-430a-a4a8-99cb5999e278\" class=\"plotly-graph-div\" style=\"height:600px; width:900px;\"></div>            <script type=\"text/javascript\">                require([\"plotly\"], function(Plotly) {                    window.PLOTLYENV=window.PLOTLYENV || {};                                    if (document.getElementById(\"7df620ea-0820-430a-a4a8-99cb5999e278\")) {                    Plotly.newPlot(                        \"7df620ea-0820-430a-a4a8-99cb5999e278\",                        [{\"hovertemplate\": \"avg_avg_prec_score = %{y:.4f}<br>tuning_step = %{x}\", \"marker\": {\"color\": \"black\"}, \"name\": \"avg_avg_prec_score\", \"type\": \"scatter\", \"x\": [\"architecture\", \"batch_size\", \"cost_function\", \"hidden_activations\", \"regul_param\", \"input_dropout\", \"hidden_dropout\", \"opt_params\", \"weights_init\", \"architecture_review\", \"batch_size_review\", \"input_dropout_review\", \"hidden_dropout_review\", \"opt_params_review\", \"regul_param_final\"], \"xaxis\": \"x\", \"y\": [0.2622239446846659, 0.217562889562637, 0.21682962985793966, 0.21557944490011433, 0.2201315690892912, 0.2169443764750655, 0.21130197109091092, 0.22037207951298135, 0.21856448926304586, 0.2636874788185221, 0.2620500951443011, 0.2621485363128326, 0.2608013781026879, 0.2778691524415712, 0.4536799070860484], \"yaxis\": \"y\"}, {\"hovertemplate\": \"ratio_avg_prec_score = %{y:.4f}<br>tuning_step = %{x}\", \"marker\": {\"color\": \"blue\"}, \"name\": \"ratio_avg_prec_score\", \"type\": \"scatter\", \"x\": [\"architecture\", \"batch_size\", \"cost_function\", \"hidden_activations\", \"regul_param\", \"input_dropout\", \"hidden_dropout\", \"opt_params\", \"weights_init\", \"architecture_review\", \"batch_size_review\", \"input_dropout_review\", \"hidden_dropout_review\", \"opt_params_review\", \"regul_param_final\"], \"xaxis\": \"x\", \"y\": [7.967559438397683, 13.76668960588031, 13.005351554625815, 20.340183459067443, 19.165791721352125, 20.942725719978295, 20.226319423731155, 21.397904133986337, 19.074984908094155, 31.152457433171353, 30.76801168881769, 33.79163154378362, 31.306821570296524, 33.62044276339371, 71.00357541214467], \"yaxis\": \"y2\"}],                        {\"height\": 600, \"template\": {\"data\": {\"bar\": [{\"error_x\": {\"color\": \"#2a3f5f\"}, \"error_y\": {\"color\": \"#2a3f5f\"}, \"marker\": {\"line\": {\"color\": \"#E5ECF6\", \"width\": 0.5}}, \"type\": \"bar\"}], \"barpolar\": [{\"marker\": {\"line\": {\"color\": \"#E5ECF6\", \"width\": 0.5}}, \"type\": \"barpolar\"}], \"carpet\": [{\"aaxis\": {\"endlinecolor\": \"#2a3f5f\", \"gridcolor\": \"white\", \"linecolor\": \"white\", \"minorgridcolor\": \"white\", \"startlinecolor\": \"#2a3f5f\"}, \"baxis\": {\"endlinecolor\": \"#2a3f5f\", \"gridcolor\": \"white\", \"linecolor\": \"white\", \"minorgridcolor\": \"white\", \"startlinecolor\": \"#2a3f5f\"}, \"type\": \"carpet\"}], \"choropleth\": [{\"colorbar\": {\"outlinewidth\": 0, \"ticks\": \"\"}, \"type\": \"choropleth\"}], \"contour\": [{\"colorbar\": {\"outlinewidth\": 0, \"ticks\": \"\"}, \"colorscale\": [[0.0, \"#0d0887\"], [0.1111111111111111, \"#46039f\"], [0.2222222222222222, \"#7201a8\"], [0.3333333333333333, \"#9c179e\"], [0.4444444444444444, \"#bd3786\"], [0.5555555555555556, \"#d8576b\"], [0.6666666666666666, \"#ed7953\"], [0.7777777777777778, \"#fb9f3a\"], [0.8888888888888888, \"#fdca26\"], [1.0, \"#f0f921\"]], \"type\": \"contour\"}], \"contourcarpet\": [{\"colorbar\": {\"outlinewidth\": 0, \"ticks\": \"\"}, \"type\": \"contourcarpet\"}], \"heatmap\": [{\"colorbar\": {\"outlinewidth\": 0, \"ticks\": \"\"}, \"colorscale\": [[0.0, \"#0d0887\"], [0.1111111111111111, \"#46039f\"], [0.2222222222222222, \"#7201a8\"], [0.3333333333333333, \"#9c179e\"], [0.4444444444444444, \"#bd3786\"], [0.5555555555555556, \"#d8576b\"], [0.6666666666666666, \"#ed7953\"], [0.7777777777777778, \"#fb9f3a\"], [0.8888888888888888, \"#fdca26\"], [1.0, \"#f0f921\"]], \"type\": \"heatmap\"}], \"heatmapgl\": [{\"colorbar\": {\"outlinewidth\": 0, \"ticks\": \"\"}, \"colorscale\": [[0.0, \"#0d0887\"], [0.1111111111111111, \"#46039f\"], [0.2222222222222222, \"#7201a8\"], [0.3333333333333333, \"#9c179e\"], [0.4444444444444444, \"#bd3786\"], [0.5555555555555556, \"#d8576b\"], [0.6666666666666666, \"#ed7953\"], [0.7777777777777778, \"#fb9f3a\"], [0.8888888888888888, \"#fdca26\"], [1.0, \"#f0f921\"]], \"type\": \"heatmapgl\"}], \"histogram\": [{\"marker\": {\"colorbar\": {\"outlinewidth\": 0, \"ticks\": \"\"}}, \"type\": \"histogram\"}], \"histogram2d\": [{\"colorbar\": {\"outlinewidth\": 0, \"ticks\": \"\"}, \"colorscale\": [[0.0, \"#0d0887\"], [0.1111111111111111, \"#46039f\"], [0.2222222222222222, \"#7201a8\"], [0.3333333333333333, \"#9c179e\"], [0.4444444444444444, \"#bd3786\"], [0.5555555555555556, \"#d8576b\"], [0.6666666666666666, \"#ed7953\"], [0.7777777777777778, \"#fb9f3a\"], [0.8888888888888888, \"#fdca26\"], [1.0, \"#f0f921\"]], \"type\": \"histogram2d\"}], \"histogram2dcontour\": [{\"colorbar\": {\"outlinewidth\": 0, \"ticks\": \"\"}, \"colorscale\": [[0.0, \"#0d0887\"], [0.1111111111111111, \"#46039f\"], [0.2222222222222222, \"#7201a8\"], [0.3333333333333333, \"#9c179e\"], [0.4444444444444444, \"#bd3786\"], [0.5555555555555556, \"#d8576b\"], [0.6666666666666666, \"#ed7953\"], [0.7777777777777778, \"#fb9f3a\"], [0.8888888888888888, \"#fdca26\"], [1.0, \"#f0f921\"]], \"type\": \"histogram2dcontour\"}], \"mesh3d\": [{\"colorbar\": {\"outlinewidth\": 0, \"ticks\": \"\"}, \"type\": \"mesh3d\"}], \"parcoords\": [{\"line\": {\"colorbar\": {\"outlinewidth\": 0, \"ticks\": \"\"}}, \"type\": \"parcoords\"}], \"pie\": [{\"automargin\": true, \"type\": \"pie\"}], \"scatter\": [{\"marker\": {\"colorbar\": {\"outlinewidth\": 0, \"ticks\": \"\"}}, \"type\": \"scatter\"}], \"scatter3d\": [{\"line\": {\"colorbar\": {\"outlinewidth\": 0, \"ticks\": \"\"}}, \"marker\": {\"colorbar\": {\"outlinewidth\": 0, \"ticks\": \"\"}}, \"type\": \"scatter3d\"}], \"scattercarpet\": [{\"marker\": {\"colorbar\": {\"outlinewidth\": 0, \"ticks\": \"\"}}, \"type\": \"scattercarpet\"}], \"scattergeo\": [{\"marker\": {\"colorbar\": {\"outlinewidth\": 0, \"ticks\": \"\"}}, \"type\": \"scattergeo\"}], \"scattergl\": [{\"marker\": {\"colorbar\": {\"outlinewidth\": 0, \"ticks\": \"\"}}, \"type\": \"scattergl\"}], \"scattermapbox\": [{\"marker\": {\"colorbar\": {\"outlinewidth\": 0, \"ticks\": \"\"}}, \"type\": \"scattermapbox\"}], \"scatterpolar\": [{\"marker\": {\"colorbar\": {\"outlinewidth\": 0, \"ticks\": \"\"}}, \"type\": \"scatterpolar\"}], \"scatterpolargl\": [{\"marker\": {\"colorbar\": {\"outlinewidth\": 0, \"ticks\": \"\"}}, \"type\": \"scatterpolargl\"}], \"scatterternary\": [{\"marker\": {\"colorbar\": {\"outlinewidth\": 0, \"ticks\": \"\"}}, \"type\": \"scatterternary\"}], \"surface\": [{\"colorbar\": {\"outlinewidth\": 0, \"ticks\": \"\"}, \"colorscale\": [[0.0, \"#0d0887\"], [0.1111111111111111, \"#46039f\"], [0.2222222222222222, \"#7201a8\"], [0.3333333333333333, \"#9c179e\"], [0.4444444444444444, \"#bd3786\"], [0.5555555555555556, \"#d8576b\"], [0.6666666666666666, \"#ed7953\"], [0.7777777777777778, \"#fb9f3a\"], [0.8888888888888888, \"#fdca26\"], [1.0, \"#f0f921\"]], \"type\": \"surface\"}], \"table\": [{\"cells\": {\"fill\": {\"color\": \"#EBF0F8\"}, \"line\": {\"color\": \"white\"}}, \"header\": {\"fill\": {\"color\": \"#C8D4E3\"}, \"line\": {\"color\": \"white\"}}, \"type\": \"table\"}]}, \"layout\": {\"annotationdefaults\": {\"arrowcolor\": \"#2a3f5f\", \"arrowhead\": 0, \"arrowwidth\": 1}, \"coloraxis\": {\"colorbar\": {\"outlinewidth\": 0, \"ticks\": \"\"}}, \"colorscale\": {\"diverging\": [[0, \"#8e0152\"], [0.1, \"#c51b7d\"], [0.2, \"#de77ae\"], [0.3, \"#f1b6da\"], [0.4, \"#fde0ef\"], [0.5, \"#f7f7f7\"], [0.6, \"#e6f5d0\"], [0.7, \"#b8e186\"], [0.8, \"#7fbc41\"], [0.9, \"#4d9221\"], [1, \"#276419\"]], \"sequential\": [[0.0, \"#0d0887\"], [0.1111111111111111, \"#46039f\"], [0.2222222222222222, \"#7201a8\"], [0.3333333333333333, \"#9c179e\"], [0.4444444444444444, \"#bd3786\"], [0.5555555555555556, \"#d8576b\"], [0.6666666666666666, \"#ed7953\"], [0.7777777777777778, \"#fb9f3a\"], [0.8888888888888888, \"#fdca26\"], [1.0, \"#f0f921\"]], \"sequentialminus\": [[0.0, \"#0d0887\"], [0.1111111111111111, \"#46039f\"], [0.2222222222222222, \"#7201a8\"], [0.3333333333333333, \"#9c179e\"], [0.4444444444444444, \"#bd3786\"], [0.5555555555555556, \"#d8576b\"], [0.6666666666666666, \"#ed7953\"], [0.7777777777777778, \"#fb9f3a\"], [0.8888888888888888, \"#fdca26\"], [1.0, \"#f0f921\"]]}, \"colorway\": [\"#636efa\", \"#EF553B\", \"#00cc96\", \"#ab63fa\", \"#FFA15A\", \"#19d3f3\", \"#FF6692\", \"#B6E880\", \"#FF97FF\", \"#FECB52\"], \"font\": {\"color\": \"#2a3f5f\"}, \"geo\": {\"bgcolor\": \"white\", \"lakecolor\": \"white\", \"landcolor\": \"#E5ECF6\", \"showlakes\": true, \"showland\": true, \"subunitcolor\": \"white\"}, \"hoverlabel\": {\"align\": \"left\"}, \"hovermode\": \"closest\", \"mapbox\": {\"style\": \"light\"}, \"paper_bgcolor\": \"white\", \"plot_bgcolor\": \"#E5ECF6\", \"polar\": {\"angularaxis\": {\"gridcolor\": \"white\", \"linecolor\": \"white\", \"ticks\": \"\"}, \"bgcolor\": \"#E5ECF6\", \"radialaxis\": {\"gridcolor\": \"white\", \"linecolor\": \"white\", \"ticks\": \"\"}}, \"scene\": {\"xaxis\": {\"backgroundcolor\": \"#E5ECF6\", \"gridcolor\": \"white\", \"gridwidth\": 2, \"linecolor\": \"white\", \"showbackground\": true, \"ticks\": \"\", \"zerolinecolor\": \"white\"}, \"yaxis\": {\"backgroundcolor\": \"#E5ECF6\", \"gridcolor\": \"white\", \"gridwidth\": 2, \"linecolor\": \"white\", \"showbackground\": true, \"ticks\": \"\", \"zerolinecolor\": \"white\"}, \"zaxis\": {\"backgroundcolor\": \"#E5ECF6\", \"gridcolor\": \"white\", \"gridwidth\": 2, \"linecolor\": \"white\", \"showbackground\": true, \"ticks\": \"\", \"zerolinecolor\": \"white\"}}, \"shapedefaults\": {\"line\": {\"color\": \"#2a3f5f\"}}, \"ternary\": {\"aaxis\": {\"gridcolor\": \"white\", \"linecolor\": \"white\", \"ticks\": \"\"}, \"baxis\": {\"gridcolor\": \"white\", \"linecolor\": \"white\", \"ticks\": \"\"}, \"bgcolor\": \"#E5ECF6\", \"caxis\": {\"gridcolor\": \"white\", \"linecolor\": \"white\", \"ticks\": \"\"}}, \"title\": {\"x\": 0.05}, \"xaxis\": {\"automargin\": true, \"gridcolor\": \"white\", \"linecolor\": \"white\", \"ticks\": \"\", \"title\": {\"standoff\": 15}, \"zerolinecolor\": \"white\", \"zerolinewidth\": 2}, \"yaxis\": {\"automargin\": true, \"gridcolor\": \"white\", \"linecolor\": \"white\", \"ticks\": \"\", \"title\": {\"standoff\": 15}, \"zerolinecolor\": \"white\", \"zerolinewidth\": 2}}}, \"title\": {\"text\": \"Evolution of performance metrics - Average precision score\"}, \"width\": 900, \"xaxis\": {\"anchor\": \"y\", \"domain\": [0.0, 0.94], \"tickangle\": 45, \"title\": {\"text\": \"tuning step\"}}, \"yaxis\": {\"anchor\": \"x\", \"domain\": [0.0, 1.0], \"title\": {\"text\": \"avg_avg_prec_score\"}}, \"yaxis2\": {\"anchor\": \"x\", \"overlaying\": \"y\", \"side\": \"right\", \"title\": {\"text\": \"ratio_avg_prec_score\"}}},                        {\"responsive\": true}                    ).then(function(){\n",
       "                            \n",
       "var gd = document.getElementById('7df620ea-0820-430a-a4a8-99cb5999e278');\n",
       "var x = new MutationObserver(function (mutations, observer) {{\n",
       "        var display = window.getComputedStyle(gd).display;\n",
       "        if (!display || display === 'none') {{\n",
       "            console.log([gd, 'removed!']);\n",
       "            Plotly.purge(gd);\n",
       "            observer.disconnect();\n",
       "        }}\n",
       "}});\n",
       "\n",
       "// Listen for the removal of the full notebook cells\n",
       "var notebookContainer = gd.closest('#notebook-container');\n",
       "if (notebookContainer) {{\n",
       "    x.observe(notebookContainer, {childList: true});\n",
       "}}\n",
       "\n",
       "// Listen for the clearing of the current output cell\n",
       "var outputEl = gd.closest('.output');\n",
       "if (outputEl) {{\n",
       "    x.observe(outputEl, {childList: true});\n",
       "}}\n",
       "\n",
       "                        })                };                });            </script>        </div>"
      ]
     },
     "metadata": {},
     "output_type": "display_data"
    }
   ],
   "source": [
    "# Loop over performance metrics:\n",
    "for m in metric:\n",
    "    # Create figure:\n",
    "    fig = make_subplots(specs=[[{'secondary_y': True}]])\n",
    "\n",
    "    fig.add_trace(\n",
    "        go.Scatter(x = outcomes['tuning_step'], y = outcomes['avg_{0}'.format(m)], name = 'avg_{0}'.format(m),\n",
    "                   hovertemplate = 'avg_{0}'.format(m) + ' = %{y:.4f}<br>' + 'tuning_step = %{x}',\n",
    "                   marker_color = 'black'),\n",
    "        secondary_y = False,\n",
    "    )\n",
    "\n",
    "    fig.add_trace(\n",
    "        go.Scatter(x = outcomes['tuning_step'], y = outcomes['ratio_{0}'.format(m)], name = 'ratio_{0}'.format(m),\n",
    "                   hovertemplate = 'ratio_{0}'.format(m) + ' = %{y:.4f}<br>' + 'tuning_step = %{x}',\n",
    "                   marker_color = 'blue'),\n",
    "        secondary_y = True,\n",
    "    )\n",
    "\n",
    "    # Changing layout:\n",
    "    fig.update_layout(\n",
    "        title_text=f'Evolution of performance metrics - {metric_name[m]}',\n",
    "        width=900, height=600\n",
    "    )\n",
    "\n",
    "    # Set labels:\n",
    "    fig.update_xaxes(tickangle=45, title_text='tuning step')\n",
    "    fig.update_yaxes(title_text='avg_{0}'.format(m), secondary_y = False)\n",
    "    fig.update_yaxes(title_text='ratio_{0}'.format(m), secondary_y = True)\n",
    "\n",
    "    fig.show()"
   ]
  },
  {
   "cell_type": "code",
   "execution_count": null,
   "metadata": {},
   "outputs": [],
   "source": []
  }
 ],
 "metadata": {
  "kernelspec": {
   "display_name": "Python 3",
   "language": "python",
   "name": "python3"
  },
  "language_info": {
   "codemirror_mode": {
    "name": "ipython",
    "version": 3
   },
   "file_extension": ".py",
   "mimetype": "text/x-python",
   "name": "python",
   "nbconvert_exporter": "python",
   "pygments_lexer": "ipython3",
   "version": "3.7.3"
  }
 },
 "nbformat": 4,
 "nbformat_minor": 2
}
